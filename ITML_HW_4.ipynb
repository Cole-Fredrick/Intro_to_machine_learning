{
  "nbformat": 4,
  "nbformat_minor": 0,
  "metadata": {
    "colab": {
      "provenance": [],
      "collapsed_sections": []
    },
    "kernelspec": {
      "name": "python3",
      "display_name": "Python 3"
    },
    "language_info": {
      "name": "python"
    }
  },
  "cells": [
    {
      "cell_type": "code",
      "execution_count": 170,
      "metadata": {
        "colab": {
          "base_uri": "https://localhost:8080/"
        },
        "id": "bnlXrxTUmnQp",
        "outputId": "7ca8aafb-e217-4dbd-8eb9-30604553ad84"
      },
      "outputs": [
        {
          "output_type": "stream",
          "name": "stdout",
          "text": [
            "Drive already mounted at /content/drive/; to attempt to forcibly remount, call drive.mount(\"/content/drive/\", force_remount=True).\n"
          ]
        }
      ],
      "source": [
        "%matplotlib inline\n",
        "from google.colab import drive\n",
        "drive.mount('/content/drive/')\n",
        "import numpy as np \n",
        "import matplotlib.pyplot as plt\n",
        "import seaborn as sns\n",
        "from sklearn.model_selection import train_test_split\n",
        "from sklearn import preprocessing \n",
        "from sklearn.preprocessing import StandardScaler\n",
        "from sklearn.linear_model import LogisticRegression \n",
        "from sklearn.metrics import confusion_matrix\n",
        "from sklearn.metrics import classification_report\n",
        "from sklearn import metrics \n",
        "from sklearn.model_selection import KFold\n",
        "from sklearn.model_selection import cross_val_score\n",
        "from sklearn import datasets\n",
        "from sklearn.svm import SVC"
      ]
    },
    {
      "cell_type": "markdown",
      "source": [
        "**Problem 1:**\n",
        "\n",
        "*Use the cancer dataset to build an SVM classifier to classify the type of cancer (Malignant vs. benign). Use the PCA feature extraction for your training. Peform N number of independent training (N=1, ..., K)*\n",
        "\n",
        "1. Identify the optimum number of K, principal components that achieve the highest classification accuracy.\n",
        "2. Plot your classification accuracy precision and recall over a different number of Ks.\n",
        "3. Explore different kernel tricks to capture non-linearities within your data. Plot the results and compare the accuracies for different kernels.\n",
        "4. Compare your results against the logistic regression that you have done in homework 3. \n"
      ],
      "metadata": {
        "id": "UAfQDBKRpaPu"
      }
    },
    {
      "cell_type": "code",
      "source": [
        "import pandas as pd \n",
        "from sklearn.datasets import load_breast_cancer\n",
        "BC = load_breast_cancer()\n",
        "BC_DATA = BC.data\n",
        "BC_DATA.shape"
      ],
      "metadata": {
        "colab": {
          "base_uri": "https://localhost:8080/"
        },
        "id": "ZELhDg4VTcD6",
        "outputId": "fa6e9013-dd78-406f-cbaa-9174acd2627a"
      },
      "execution_count": 171,
      "outputs": [
        {
          "output_type": "execute_result",
          "data": {
            "text/plain": [
              "(569, 30)"
            ]
          },
          "metadata": {},
          "execution_count": 171
        }
      ]
    },
    {
      "cell_type": "code",
      "source": [
        "BI=pd.DataFrame(BC_DATA)\n",
        "BI.head()"
      ],
      "metadata": {
        "colab": {
          "base_uri": "https://localhost:8080/",
          "height": 236
        },
        "id": "HLas_KXWTucu",
        "outputId": "4dcc56ae-f560-4318-f51b-f42e7747938f"
      },
      "execution_count": 172,
      "outputs": [
        {
          "output_type": "execute_result",
          "data": {
            "text/plain": [
              "      0      1       2       3        4        5       6        7       8   \\\n",
              "0  17.99  10.38  122.80  1001.0  0.11840  0.27760  0.3001  0.14710  0.2419   \n",
              "1  20.57  17.77  132.90  1326.0  0.08474  0.07864  0.0869  0.07017  0.1812   \n",
              "2  19.69  21.25  130.00  1203.0  0.10960  0.15990  0.1974  0.12790  0.2069   \n",
              "3  11.42  20.38   77.58   386.1  0.14250  0.28390  0.2414  0.10520  0.2597   \n",
              "4  20.29  14.34  135.10  1297.0  0.10030  0.13280  0.1980  0.10430  0.1809   \n",
              "\n",
              "        9   ...     20     21      22      23      24      25      26      27  \\\n",
              "0  0.07871  ...  25.38  17.33  184.60  2019.0  0.1622  0.6656  0.7119  0.2654   \n",
              "1  0.05667  ...  24.99  23.41  158.80  1956.0  0.1238  0.1866  0.2416  0.1860   \n",
              "2  0.05999  ...  23.57  25.53  152.50  1709.0  0.1444  0.4245  0.4504  0.2430   \n",
              "3  0.09744  ...  14.91  26.50   98.87   567.7  0.2098  0.8663  0.6869  0.2575   \n",
              "4  0.05883  ...  22.54  16.67  152.20  1575.0  0.1374  0.2050  0.4000  0.1625   \n",
              "\n",
              "       28       29  \n",
              "0  0.4601  0.11890  \n",
              "1  0.2750  0.08902  \n",
              "2  0.3613  0.08758  \n",
              "3  0.6638  0.17300  \n",
              "4  0.2364  0.07678  \n",
              "\n",
              "[5 rows x 30 columns]"
            ],
            "text/html": [
              "\n",
              "  <div id=\"df-d00e5297-6547-4433-bf93-4b68ad3078e6\">\n",
              "    <div class=\"colab-df-container\">\n",
              "      <div>\n",
              "<style scoped>\n",
              "    .dataframe tbody tr th:only-of-type {\n",
              "        vertical-align: middle;\n",
              "    }\n",
              "\n",
              "    .dataframe tbody tr th {\n",
              "        vertical-align: top;\n",
              "    }\n",
              "\n",
              "    .dataframe thead th {\n",
              "        text-align: right;\n",
              "    }\n",
              "</style>\n",
              "<table border=\"1\" class=\"dataframe\">\n",
              "  <thead>\n",
              "    <tr style=\"text-align: right;\">\n",
              "      <th></th>\n",
              "      <th>0</th>\n",
              "      <th>1</th>\n",
              "      <th>2</th>\n",
              "      <th>3</th>\n",
              "      <th>4</th>\n",
              "      <th>5</th>\n",
              "      <th>6</th>\n",
              "      <th>7</th>\n",
              "      <th>8</th>\n",
              "      <th>9</th>\n",
              "      <th>...</th>\n",
              "      <th>20</th>\n",
              "      <th>21</th>\n",
              "      <th>22</th>\n",
              "      <th>23</th>\n",
              "      <th>24</th>\n",
              "      <th>25</th>\n",
              "      <th>26</th>\n",
              "      <th>27</th>\n",
              "      <th>28</th>\n",
              "      <th>29</th>\n",
              "    </tr>\n",
              "  </thead>\n",
              "  <tbody>\n",
              "    <tr>\n",
              "      <th>0</th>\n",
              "      <td>17.99</td>\n",
              "      <td>10.38</td>\n",
              "      <td>122.80</td>\n",
              "      <td>1001.0</td>\n",
              "      <td>0.11840</td>\n",
              "      <td>0.27760</td>\n",
              "      <td>0.3001</td>\n",
              "      <td>0.14710</td>\n",
              "      <td>0.2419</td>\n",
              "      <td>0.07871</td>\n",
              "      <td>...</td>\n",
              "      <td>25.38</td>\n",
              "      <td>17.33</td>\n",
              "      <td>184.60</td>\n",
              "      <td>2019.0</td>\n",
              "      <td>0.1622</td>\n",
              "      <td>0.6656</td>\n",
              "      <td>0.7119</td>\n",
              "      <td>0.2654</td>\n",
              "      <td>0.4601</td>\n",
              "      <td>0.11890</td>\n",
              "    </tr>\n",
              "    <tr>\n",
              "      <th>1</th>\n",
              "      <td>20.57</td>\n",
              "      <td>17.77</td>\n",
              "      <td>132.90</td>\n",
              "      <td>1326.0</td>\n",
              "      <td>0.08474</td>\n",
              "      <td>0.07864</td>\n",
              "      <td>0.0869</td>\n",
              "      <td>0.07017</td>\n",
              "      <td>0.1812</td>\n",
              "      <td>0.05667</td>\n",
              "      <td>...</td>\n",
              "      <td>24.99</td>\n",
              "      <td>23.41</td>\n",
              "      <td>158.80</td>\n",
              "      <td>1956.0</td>\n",
              "      <td>0.1238</td>\n",
              "      <td>0.1866</td>\n",
              "      <td>0.2416</td>\n",
              "      <td>0.1860</td>\n",
              "      <td>0.2750</td>\n",
              "      <td>0.08902</td>\n",
              "    </tr>\n",
              "    <tr>\n",
              "      <th>2</th>\n",
              "      <td>19.69</td>\n",
              "      <td>21.25</td>\n",
              "      <td>130.00</td>\n",
              "      <td>1203.0</td>\n",
              "      <td>0.10960</td>\n",
              "      <td>0.15990</td>\n",
              "      <td>0.1974</td>\n",
              "      <td>0.12790</td>\n",
              "      <td>0.2069</td>\n",
              "      <td>0.05999</td>\n",
              "      <td>...</td>\n",
              "      <td>23.57</td>\n",
              "      <td>25.53</td>\n",
              "      <td>152.50</td>\n",
              "      <td>1709.0</td>\n",
              "      <td>0.1444</td>\n",
              "      <td>0.4245</td>\n",
              "      <td>0.4504</td>\n",
              "      <td>0.2430</td>\n",
              "      <td>0.3613</td>\n",
              "      <td>0.08758</td>\n",
              "    </tr>\n",
              "    <tr>\n",
              "      <th>3</th>\n",
              "      <td>11.42</td>\n",
              "      <td>20.38</td>\n",
              "      <td>77.58</td>\n",
              "      <td>386.1</td>\n",
              "      <td>0.14250</td>\n",
              "      <td>0.28390</td>\n",
              "      <td>0.2414</td>\n",
              "      <td>0.10520</td>\n",
              "      <td>0.2597</td>\n",
              "      <td>0.09744</td>\n",
              "      <td>...</td>\n",
              "      <td>14.91</td>\n",
              "      <td>26.50</td>\n",
              "      <td>98.87</td>\n",
              "      <td>567.7</td>\n",
              "      <td>0.2098</td>\n",
              "      <td>0.8663</td>\n",
              "      <td>0.6869</td>\n",
              "      <td>0.2575</td>\n",
              "      <td>0.6638</td>\n",
              "      <td>0.17300</td>\n",
              "    </tr>\n",
              "    <tr>\n",
              "      <th>4</th>\n",
              "      <td>20.29</td>\n",
              "      <td>14.34</td>\n",
              "      <td>135.10</td>\n",
              "      <td>1297.0</td>\n",
              "      <td>0.10030</td>\n",
              "      <td>0.13280</td>\n",
              "      <td>0.1980</td>\n",
              "      <td>0.10430</td>\n",
              "      <td>0.1809</td>\n",
              "      <td>0.05883</td>\n",
              "      <td>...</td>\n",
              "      <td>22.54</td>\n",
              "      <td>16.67</td>\n",
              "      <td>152.20</td>\n",
              "      <td>1575.0</td>\n",
              "      <td>0.1374</td>\n",
              "      <td>0.2050</td>\n",
              "      <td>0.4000</td>\n",
              "      <td>0.1625</td>\n",
              "      <td>0.2364</td>\n",
              "      <td>0.07678</td>\n",
              "    </tr>\n",
              "  </tbody>\n",
              "</table>\n",
              "<p>5 rows × 30 columns</p>\n",
              "</div>\n",
              "      <button class=\"colab-df-convert\" onclick=\"convertToInteractive('df-d00e5297-6547-4433-bf93-4b68ad3078e6')\"\n",
              "              title=\"Convert this dataframe to an interactive table.\"\n",
              "              style=\"display:none;\">\n",
              "        \n",
              "  <svg xmlns=\"http://www.w3.org/2000/svg\" height=\"24px\"viewBox=\"0 0 24 24\"\n",
              "       width=\"24px\">\n",
              "    <path d=\"M0 0h24v24H0V0z\" fill=\"none\"/>\n",
              "    <path d=\"M18.56 5.44l.94 2.06.94-2.06 2.06-.94-2.06-.94-.94-2.06-.94 2.06-2.06.94zm-11 1L8.5 8.5l.94-2.06 2.06-.94-2.06-.94L8.5 2.5l-.94 2.06-2.06.94zm10 10l.94 2.06.94-2.06 2.06-.94-2.06-.94-.94-2.06-.94 2.06-2.06.94z\"/><path d=\"M17.41 7.96l-1.37-1.37c-.4-.4-.92-.59-1.43-.59-.52 0-1.04.2-1.43.59L10.3 9.45l-7.72 7.72c-.78.78-.78 2.05 0 2.83L4 21.41c.39.39.9.59 1.41.59.51 0 1.02-.2 1.41-.59l7.78-7.78 2.81-2.81c.8-.78.8-2.07 0-2.86zM5.41 20L4 18.59l7.72-7.72 1.47 1.35L5.41 20z\"/>\n",
              "  </svg>\n",
              "      </button>\n",
              "      \n",
              "  <style>\n",
              "    .colab-df-container {\n",
              "      display:flex;\n",
              "      flex-wrap:wrap;\n",
              "      gap: 12px;\n",
              "    }\n",
              "\n",
              "    .colab-df-convert {\n",
              "      background-color: #E8F0FE;\n",
              "      border: none;\n",
              "      border-radius: 50%;\n",
              "      cursor: pointer;\n",
              "      display: none;\n",
              "      fill: #1967D2;\n",
              "      height: 32px;\n",
              "      padding: 0 0 0 0;\n",
              "      width: 32px;\n",
              "    }\n",
              "\n",
              "    .colab-df-convert:hover {\n",
              "      background-color: #E2EBFA;\n",
              "      box-shadow: 0px 1px 2px rgba(60, 64, 67, 0.3), 0px 1px 3px 1px rgba(60, 64, 67, 0.15);\n",
              "      fill: #174EA6;\n",
              "    }\n",
              "\n",
              "    [theme=dark] .colab-df-convert {\n",
              "      background-color: #3B4455;\n",
              "      fill: #D2E3FC;\n",
              "    }\n",
              "\n",
              "    [theme=dark] .colab-df-convert:hover {\n",
              "      background-color: #434B5C;\n",
              "      box-shadow: 0px 1px 3px 1px rgba(0, 0, 0, 0.15);\n",
              "      filter: drop-shadow(0px 1px 2px rgba(0, 0, 0, 0.3));\n",
              "      fill: #FFFFFF;\n",
              "    }\n",
              "  </style>\n",
              "\n",
              "      <script>\n",
              "        const buttonEl =\n",
              "          document.querySelector('#df-d00e5297-6547-4433-bf93-4b68ad3078e6 button.colab-df-convert');\n",
              "        buttonEl.style.display =\n",
              "          google.colab.kernel.accessAllowed ? 'block' : 'none';\n",
              "\n",
              "        async function convertToInteractive(key) {\n",
              "          const element = document.querySelector('#df-d00e5297-6547-4433-bf93-4b68ad3078e6');\n",
              "          const dataTable =\n",
              "            await google.colab.kernel.invokeFunction('convertToInteractive',\n",
              "                                                     [key], {});\n",
              "          if (!dataTable) return;\n",
              "\n",
              "          const docLinkHtml = 'Like what you see? Visit the ' +\n",
              "            '<a target=\"_blank\" href=https://colab.research.google.com/notebooks/data_table.ipynb>data table notebook</a>'\n",
              "            + ' to learn more about interactive tables.';\n",
              "          element.innerHTML = '';\n",
              "          dataTable['output_type'] = 'display_data';\n",
              "          await google.colab.output.renderOutput(dataTable, element);\n",
              "          const docLink = document.createElement('div');\n",
              "          docLink.innerHTML = docLinkHtml;\n",
              "          element.appendChild(docLink);\n",
              "        }\n",
              "      </script>\n",
              "    </div>\n",
              "  </div>\n",
              "  "
            ]
          },
          "metadata": {},
          "execution_count": 172
        }
      ]
    },
    {
      "cell_type": "code",
      "source": [
        "BL = BC.target\n",
        "BL.shape"
      ],
      "metadata": {
        "colab": {
          "base_uri": "https://localhost:8080/"
        },
        "id": "Ryg6In0fT1ir",
        "outputId": "9acb5029-51b7-423c-e62d-668bca3b7b82"
      },
      "execution_count": 173,
      "outputs": [
        {
          "output_type": "execute_result",
          "data": {
            "text/plain": [
              "(569,)"
            ]
          },
          "metadata": {},
          "execution_count": 173
        }
      ]
    },
    {
      "cell_type": "code",
      "source": [
        "L = np.reshape(BL,(569,1))\n",
        "FBD = np.concatenate([BC_DATA,L],axis=1)\n",
        "FBD.shape"
      ],
      "metadata": {
        "colab": {
          "base_uri": "https://localhost:8080/"
        },
        "id": "7yS6Wf_RT63_",
        "outputId": "1496965b-92f4-4519-981d-25a707415766"
      },
      "execution_count": 174,
      "outputs": [
        {
          "output_type": "execute_result",
          "data": {
            "text/plain": [
              "(569, 31)"
            ]
          },
          "metadata": {},
          "execution_count": 174
        }
      ]
    },
    {
      "cell_type": "code",
      "source": [
        "BDST = pd.DataFrame(FBD)\n",
        "F = BC.feature_names\n",
        "F"
      ],
      "metadata": {
        "colab": {
          "base_uri": "https://localhost:8080/"
        },
        "id": "7iCoGrkJUoIQ",
        "outputId": "1d5f2d8e-9468-4610-dd6a-22d323cee6df"
      },
      "execution_count": 175,
      "outputs": [
        {
          "output_type": "execute_result",
          "data": {
            "text/plain": [
              "array(['mean radius', 'mean texture', 'mean perimeter', 'mean area',\n",
              "       'mean smoothness', 'mean compactness', 'mean concavity',\n",
              "       'mean concave points', 'mean symmetry', 'mean fractal dimension',\n",
              "       'radius error', 'texture error', 'perimeter error', 'area error',\n",
              "       'smoothness error', 'compactness error', 'concavity error',\n",
              "       'concave points error', 'symmetry error',\n",
              "       'fractal dimension error', 'worst radius', 'worst texture',\n",
              "       'worst perimeter', 'worst area', 'worst smoothness',\n",
              "       'worst compactness', 'worst concavity', 'worst concave points',\n",
              "       'worst symmetry', 'worst fractal dimension'], dtype='<U23')"
            ]
          },
          "metadata": {},
          "execution_count": 175
        }
      ]
    },
    {
      "cell_type": "code",
      "source": [
        "FL = np.append(F,'label')\n",
        "BDST.columns = FL\n",
        "BDST.head()"
      ],
      "metadata": {
        "colab": {
          "base_uri": "https://localhost:8080/",
          "height": 297
        },
        "id": "4pLLj3ZYUzPv",
        "outputId": "922412ad-02c3-44e0-aa52-61f052e5bc80"
      },
      "execution_count": 176,
      "outputs": [
        {
          "output_type": "execute_result",
          "data": {
            "text/plain": [
              "   mean radius  mean texture  mean perimeter  mean area  mean smoothness  \\\n",
              "0        17.99         10.38          122.80     1001.0          0.11840   \n",
              "1        20.57         17.77          132.90     1326.0          0.08474   \n",
              "2        19.69         21.25          130.00     1203.0          0.10960   \n",
              "3        11.42         20.38           77.58      386.1          0.14250   \n",
              "4        20.29         14.34          135.10     1297.0          0.10030   \n",
              "\n",
              "   mean compactness  mean concavity  mean concave points  mean symmetry  \\\n",
              "0           0.27760          0.3001              0.14710         0.2419   \n",
              "1           0.07864          0.0869              0.07017         0.1812   \n",
              "2           0.15990          0.1974              0.12790         0.2069   \n",
              "3           0.28390          0.2414              0.10520         0.2597   \n",
              "4           0.13280          0.1980              0.10430         0.1809   \n",
              "\n",
              "   mean fractal dimension  ...  worst texture  worst perimeter  worst area  \\\n",
              "0                 0.07871  ...          17.33           184.60      2019.0   \n",
              "1                 0.05667  ...          23.41           158.80      1956.0   \n",
              "2                 0.05999  ...          25.53           152.50      1709.0   \n",
              "3                 0.09744  ...          26.50            98.87       567.7   \n",
              "4                 0.05883  ...          16.67           152.20      1575.0   \n",
              "\n",
              "   worst smoothness  worst compactness  worst concavity  worst concave points  \\\n",
              "0            0.1622             0.6656           0.7119                0.2654   \n",
              "1            0.1238             0.1866           0.2416                0.1860   \n",
              "2            0.1444             0.4245           0.4504                0.2430   \n",
              "3            0.2098             0.8663           0.6869                0.2575   \n",
              "4            0.1374             0.2050           0.4000                0.1625   \n",
              "\n",
              "   worst symmetry  worst fractal dimension  label  \n",
              "0          0.4601                  0.11890    0.0  \n",
              "1          0.2750                  0.08902    0.0  \n",
              "2          0.3613                  0.08758    0.0  \n",
              "3          0.6638                  0.17300    0.0  \n",
              "4          0.2364                  0.07678    0.0  \n",
              "\n",
              "[5 rows x 31 columns]"
            ],
            "text/html": [
              "\n",
              "  <div id=\"df-409d9825-f561-474d-a400-0e8f1d11392a\">\n",
              "    <div class=\"colab-df-container\">\n",
              "      <div>\n",
              "<style scoped>\n",
              "    .dataframe tbody tr th:only-of-type {\n",
              "        vertical-align: middle;\n",
              "    }\n",
              "\n",
              "    .dataframe tbody tr th {\n",
              "        vertical-align: top;\n",
              "    }\n",
              "\n",
              "    .dataframe thead th {\n",
              "        text-align: right;\n",
              "    }\n",
              "</style>\n",
              "<table border=\"1\" class=\"dataframe\">\n",
              "  <thead>\n",
              "    <tr style=\"text-align: right;\">\n",
              "      <th></th>\n",
              "      <th>mean radius</th>\n",
              "      <th>mean texture</th>\n",
              "      <th>mean perimeter</th>\n",
              "      <th>mean area</th>\n",
              "      <th>mean smoothness</th>\n",
              "      <th>mean compactness</th>\n",
              "      <th>mean concavity</th>\n",
              "      <th>mean concave points</th>\n",
              "      <th>mean symmetry</th>\n",
              "      <th>mean fractal dimension</th>\n",
              "      <th>...</th>\n",
              "      <th>worst texture</th>\n",
              "      <th>worst perimeter</th>\n",
              "      <th>worst area</th>\n",
              "      <th>worst smoothness</th>\n",
              "      <th>worst compactness</th>\n",
              "      <th>worst concavity</th>\n",
              "      <th>worst concave points</th>\n",
              "      <th>worst symmetry</th>\n",
              "      <th>worst fractal dimension</th>\n",
              "      <th>label</th>\n",
              "    </tr>\n",
              "  </thead>\n",
              "  <tbody>\n",
              "    <tr>\n",
              "      <th>0</th>\n",
              "      <td>17.99</td>\n",
              "      <td>10.38</td>\n",
              "      <td>122.80</td>\n",
              "      <td>1001.0</td>\n",
              "      <td>0.11840</td>\n",
              "      <td>0.27760</td>\n",
              "      <td>0.3001</td>\n",
              "      <td>0.14710</td>\n",
              "      <td>0.2419</td>\n",
              "      <td>0.07871</td>\n",
              "      <td>...</td>\n",
              "      <td>17.33</td>\n",
              "      <td>184.60</td>\n",
              "      <td>2019.0</td>\n",
              "      <td>0.1622</td>\n",
              "      <td>0.6656</td>\n",
              "      <td>0.7119</td>\n",
              "      <td>0.2654</td>\n",
              "      <td>0.4601</td>\n",
              "      <td>0.11890</td>\n",
              "      <td>0.0</td>\n",
              "    </tr>\n",
              "    <tr>\n",
              "      <th>1</th>\n",
              "      <td>20.57</td>\n",
              "      <td>17.77</td>\n",
              "      <td>132.90</td>\n",
              "      <td>1326.0</td>\n",
              "      <td>0.08474</td>\n",
              "      <td>0.07864</td>\n",
              "      <td>0.0869</td>\n",
              "      <td>0.07017</td>\n",
              "      <td>0.1812</td>\n",
              "      <td>0.05667</td>\n",
              "      <td>...</td>\n",
              "      <td>23.41</td>\n",
              "      <td>158.80</td>\n",
              "      <td>1956.0</td>\n",
              "      <td>0.1238</td>\n",
              "      <td>0.1866</td>\n",
              "      <td>0.2416</td>\n",
              "      <td>0.1860</td>\n",
              "      <td>0.2750</td>\n",
              "      <td>0.08902</td>\n",
              "      <td>0.0</td>\n",
              "    </tr>\n",
              "    <tr>\n",
              "      <th>2</th>\n",
              "      <td>19.69</td>\n",
              "      <td>21.25</td>\n",
              "      <td>130.00</td>\n",
              "      <td>1203.0</td>\n",
              "      <td>0.10960</td>\n",
              "      <td>0.15990</td>\n",
              "      <td>0.1974</td>\n",
              "      <td>0.12790</td>\n",
              "      <td>0.2069</td>\n",
              "      <td>0.05999</td>\n",
              "      <td>...</td>\n",
              "      <td>25.53</td>\n",
              "      <td>152.50</td>\n",
              "      <td>1709.0</td>\n",
              "      <td>0.1444</td>\n",
              "      <td>0.4245</td>\n",
              "      <td>0.4504</td>\n",
              "      <td>0.2430</td>\n",
              "      <td>0.3613</td>\n",
              "      <td>0.08758</td>\n",
              "      <td>0.0</td>\n",
              "    </tr>\n",
              "    <tr>\n",
              "      <th>3</th>\n",
              "      <td>11.42</td>\n",
              "      <td>20.38</td>\n",
              "      <td>77.58</td>\n",
              "      <td>386.1</td>\n",
              "      <td>0.14250</td>\n",
              "      <td>0.28390</td>\n",
              "      <td>0.2414</td>\n",
              "      <td>0.10520</td>\n",
              "      <td>0.2597</td>\n",
              "      <td>0.09744</td>\n",
              "      <td>...</td>\n",
              "      <td>26.50</td>\n",
              "      <td>98.87</td>\n",
              "      <td>567.7</td>\n",
              "      <td>0.2098</td>\n",
              "      <td>0.8663</td>\n",
              "      <td>0.6869</td>\n",
              "      <td>0.2575</td>\n",
              "      <td>0.6638</td>\n",
              "      <td>0.17300</td>\n",
              "      <td>0.0</td>\n",
              "    </tr>\n",
              "    <tr>\n",
              "      <th>4</th>\n",
              "      <td>20.29</td>\n",
              "      <td>14.34</td>\n",
              "      <td>135.10</td>\n",
              "      <td>1297.0</td>\n",
              "      <td>0.10030</td>\n",
              "      <td>0.13280</td>\n",
              "      <td>0.1980</td>\n",
              "      <td>0.10430</td>\n",
              "      <td>0.1809</td>\n",
              "      <td>0.05883</td>\n",
              "      <td>...</td>\n",
              "      <td>16.67</td>\n",
              "      <td>152.20</td>\n",
              "      <td>1575.0</td>\n",
              "      <td>0.1374</td>\n",
              "      <td>0.2050</td>\n",
              "      <td>0.4000</td>\n",
              "      <td>0.1625</td>\n",
              "      <td>0.2364</td>\n",
              "      <td>0.07678</td>\n",
              "      <td>0.0</td>\n",
              "    </tr>\n",
              "  </tbody>\n",
              "</table>\n",
              "<p>5 rows × 31 columns</p>\n",
              "</div>\n",
              "      <button class=\"colab-df-convert\" onclick=\"convertToInteractive('df-409d9825-f561-474d-a400-0e8f1d11392a')\"\n",
              "              title=\"Convert this dataframe to an interactive table.\"\n",
              "              style=\"display:none;\">\n",
              "        \n",
              "  <svg xmlns=\"http://www.w3.org/2000/svg\" height=\"24px\"viewBox=\"0 0 24 24\"\n",
              "       width=\"24px\">\n",
              "    <path d=\"M0 0h24v24H0V0z\" fill=\"none\"/>\n",
              "    <path d=\"M18.56 5.44l.94 2.06.94-2.06 2.06-.94-2.06-.94-.94-2.06-.94 2.06-2.06.94zm-11 1L8.5 8.5l.94-2.06 2.06-.94-2.06-.94L8.5 2.5l-.94 2.06-2.06.94zm10 10l.94 2.06.94-2.06 2.06-.94-2.06-.94-.94-2.06-.94 2.06-2.06.94z\"/><path d=\"M17.41 7.96l-1.37-1.37c-.4-.4-.92-.59-1.43-.59-.52 0-1.04.2-1.43.59L10.3 9.45l-7.72 7.72c-.78.78-.78 2.05 0 2.83L4 21.41c.39.39.9.59 1.41.59.51 0 1.02-.2 1.41-.59l7.78-7.78 2.81-2.81c.8-.78.8-2.07 0-2.86zM5.41 20L4 18.59l7.72-7.72 1.47 1.35L5.41 20z\"/>\n",
              "  </svg>\n",
              "      </button>\n",
              "      \n",
              "  <style>\n",
              "    .colab-df-container {\n",
              "      display:flex;\n",
              "      flex-wrap:wrap;\n",
              "      gap: 12px;\n",
              "    }\n",
              "\n",
              "    .colab-df-convert {\n",
              "      background-color: #E8F0FE;\n",
              "      border: none;\n",
              "      border-radius: 50%;\n",
              "      cursor: pointer;\n",
              "      display: none;\n",
              "      fill: #1967D2;\n",
              "      height: 32px;\n",
              "      padding: 0 0 0 0;\n",
              "      width: 32px;\n",
              "    }\n",
              "\n",
              "    .colab-df-convert:hover {\n",
              "      background-color: #E2EBFA;\n",
              "      box-shadow: 0px 1px 2px rgba(60, 64, 67, 0.3), 0px 1px 3px 1px rgba(60, 64, 67, 0.15);\n",
              "      fill: #174EA6;\n",
              "    }\n",
              "\n",
              "    [theme=dark] .colab-df-convert {\n",
              "      background-color: #3B4455;\n",
              "      fill: #D2E3FC;\n",
              "    }\n",
              "\n",
              "    [theme=dark] .colab-df-convert:hover {\n",
              "      background-color: #434B5C;\n",
              "      box-shadow: 0px 1px 3px 1px rgba(0, 0, 0, 0.15);\n",
              "      filter: drop-shadow(0px 1px 2px rgba(0, 0, 0, 0.3));\n",
              "      fill: #FFFFFF;\n",
              "    }\n",
              "  </style>\n",
              "\n",
              "      <script>\n",
              "        const buttonEl =\n",
              "          document.querySelector('#df-409d9825-f561-474d-a400-0e8f1d11392a button.colab-df-convert');\n",
              "        buttonEl.style.display =\n",
              "          google.colab.kernel.accessAllowed ? 'block' : 'none';\n",
              "\n",
              "        async function convertToInteractive(key) {\n",
              "          const element = document.querySelector('#df-409d9825-f561-474d-a400-0e8f1d11392a');\n",
              "          const dataTable =\n",
              "            await google.colab.kernel.invokeFunction('convertToInteractive',\n",
              "                                                     [key], {});\n",
              "          if (!dataTable) return;\n",
              "\n",
              "          const docLinkHtml = 'Like what you see? Visit the ' +\n",
              "            '<a target=\"_blank\" href=https://colab.research.google.com/notebooks/data_table.ipynb>data table notebook</a>'\n",
              "            + ' to learn more about interactive tables.';\n",
              "          element.innerHTML = '';\n",
              "          dataTable['output_type'] = 'display_data';\n",
              "          await google.colab.output.renderOutput(dataTable, element);\n",
              "          const docLink = document.createElement('div');\n",
              "          docLink.innerHTML = docLinkHtml;\n",
              "          element.appendChild(docLink);\n",
              "        }\n",
              "      </script>\n",
              "    </div>\n",
              "  </div>\n",
              "  "
            ]
          },
          "metadata": {},
          "execution_count": 176
        }
      ]
    },
    {
      "cell_type": "code",
      "source": [
        "#BDST['label'].replace(0, 'Benign',inplace=True)\n",
        "#BDST['label'].replace(1, 'Malignant', inplace=True)\n",
        "#BDST.tail()"
      ],
      "metadata": {
        "id": "uSOL2RdoVAT4"
      },
      "execution_count": 177,
      "outputs": []
    },
    {
      "cell_type": "code",
      "source": [
        "Feature_X = BDST.iloc[:,:30].values\n",
        "Feature_Y = BDST.iloc[:,30].values\n",
        "\n",
        "from sklearn.model_selection import train_test_split\n",
        "import random \n",
        "X_train, X_test, Y_train, Y_test = train_test_split(Feature_X, Feature_Y, train_size=0.8, test_size=.2, random_state = 4) "
      ],
      "metadata": {
        "id": "KXlBeBKnVfaU"
      },
      "execution_count": 178,
      "outputs": []
    },
    {
      "cell_type": "code",
      "source": [
        "#Standardize the values for overfitting handling \n",
        "from sklearn.preprocessing import StandardScaler\n",
        "sc_X = StandardScaler()\n",
        "X_train = sc_X.fit_transform(X_train)\n",
        "X_test = sc_X.transform(X_test)"
      ],
      "metadata": {
        "id": "7tsDKWVgVqjW"
      },
      "execution_count": 179,
      "outputs": []
    },
    {
      "cell_type": "code",
      "source": [
        "from sklearn.svm import SVC\n",
        "classifier = SVC(kernel = 'rbf', class_weight='balanced', C= 10)\n",
        "classifier.fit(X_train,Y_train)"
      ],
      "metadata": {
        "colab": {
          "base_uri": "https://localhost:8080/"
        },
        "id": "CMPUztdbXWTX",
        "outputId": "33cb305d-2eb4-4614-be15-1b8b0960d1cb"
      },
      "execution_count": 180,
      "outputs": [
        {
          "output_type": "execute_result",
          "data": {
            "text/plain": [
              "SVC(C=10, class_weight='balanced')"
            ]
          },
          "metadata": {},
          "execution_count": 180
        }
      ]
    },
    {
      "cell_type": "code",
      "source": [
        "Y_Pred = classifier.predict(X_test)"
      ],
      "metadata": {
        "id": "OcD_9AC2YNlh"
      },
      "execution_count": 181,
      "outputs": []
    },
    {
      "cell_type": "code",
      "source": [
        "#Model evualtion metrics\n",
        "from sklearn.metrics import classification_report, confusion_matrix\n",
        "cm = np.array(confusion_matrix(Y_test,Y_Pred,labels=[1,0]))\n",
        "confusion = pd.DataFrame(cm,index =['is cancer', 'is_healthy'],columns=['predicted_cancer','predicted_healty'])\n",
        "confusion"
      ],
      "metadata": {
        "colab": {
          "base_uri": "https://localhost:8080/",
          "height": 112
        },
        "id": "qGAnZZ8IY495",
        "outputId": "2aa53ae8-bf29-413e-ffe1-35ea31509247"
      },
      "execution_count": 182,
      "outputs": [
        {
          "output_type": "execute_result",
          "data": {
            "text/plain": [
              "            predicted_cancer  predicted_healty\n",
              "is cancer                 76                 4\n",
              "is_healthy                 0                34"
            ],
            "text/html": [
              "\n",
              "  <div id=\"df-1eeaca23-7a99-4a39-ae24-c414c94f00c6\">\n",
              "    <div class=\"colab-df-container\">\n",
              "      <div>\n",
              "<style scoped>\n",
              "    .dataframe tbody tr th:only-of-type {\n",
              "        vertical-align: middle;\n",
              "    }\n",
              "\n",
              "    .dataframe tbody tr th {\n",
              "        vertical-align: top;\n",
              "    }\n",
              "\n",
              "    .dataframe thead th {\n",
              "        text-align: right;\n",
              "    }\n",
              "</style>\n",
              "<table border=\"1\" class=\"dataframe\">\n",
              "  <thead>\n",
              "    <tr style=\"text-align: right;\">\n",
              "      <th></th>\n",
              "      <th>predicted_cancer</th>\n",
              "      <th>predicted_healty</th>\n",
              "    </tr>\n",
              "  </thead>\n",
              "  <tbody>\n",
              "    <tr>\n",
              "      <th>is cancer</th>\n",
              "      <td>76</td>\n",
              "      <td>4</td>\n",
              "    </tr>\n",
              "    <tr>\n",
              "      <th>is_healthy</th>\n",
              "      <td>0</td>\n",
              "      <td>34</td>\n",
              "    </tr>\n",
              "  </tbody>\n",
              "</table>\n",
              "</div>\n",
              "      <button class=\"colab-df-convert\" onclick=\"convertToInteractive('df-1eeaca23-7a99-4a39-ae24-c414c94f00c6')\"\n",
              "              title=\"Convert this dataframe to an interactive table.\"\n",
              "              style=\"display:none;\">\n",
              "        \n",
              "  <svg xmlns=\"http://www.w3.org/2000/svg\" height=\"24px\"viewBox=\"0 0 24 24\"\n",
              "       width=\"24px\">\n",
              "    <path d=\"M0 0h24v24H0V0z\" fill=\"none\"/>\n",
              "    <path d=\"M18.56 5.44l.94 2.06.94-2.06 2.06-.94-2.06-.94-.94-2.06-.94 2.06-2.06.94zm-11 1L8.5 8.5l.94-2.06 2.06-.94-2.06-.94L8.5 2.5l-.94 2.06-2.06.94zm10 10l.94 2.06.94-2.06 2.06-.94-2.06-.94-.94-2.06-.94 2.06-2.06.94z\"/><path d=\"M17.41 7.96l-1.37-1.37c-.4-.4-.92-.59-1.43-.59-.52 0-1.04.2-1.43.59L10.3 9.45l-7.72 7.72c-.78.78-.78 2.05 0 2.83L4 21.41c.39.39.9.59 1.41.59.51 0 1.02-.2 1.41-.59l7.78-7.78 2.81-2.81c.8-.78.8-2.07 0-2.86zM5.41 20L4 18.59l7.72-7.72 1.47 1.35L5.41 20z\"/>\n",
              "  </svg>\n",
              "      </button>\n",
              "      \n",
              "  <style>\n",
              "    .colab-df-container {\n",
              "      display:flex;\n",
              "      flex-wrap:wrap;\n",
              "      gap: 12px;\n",
              "    }\n",
              "\n",
              "    .colab-df-convert {\n",
              "      background-color: #E8F0FE;\n",
              "      border: none;\n",
              "      border-radius: 50%;\n",
              "      cursor: pointer;\n",
              "      display: none;\n",
              "      fill: #1967D2;\n",
              "      height: 32px;\n",
              "      padding: 0 0 0 0;\n",
              "      width: 32px;\n",
              "    }\n",
              "\n",
              "    .colab-df-convert:hover {\n",
              "      background-color: #E2EBFA;\n",
              "      box-shadow: 0px 1px 2px rgba(60, 64, 67, 0.3), 0px 1px 3px 1px rgba(60, 64, 67, 0.15);\n",
              "      fill: #174EA6;\n",
              "    }\n",
              "\n",
              "    [theme=dark] .colab-df-convert {\n",
              "      background-color: #3B4455;\n",
              "      fill: #D2E3FC;\n",
              "    }\n",
              "\n",
              "    [theme=dark] .colab-df-convert:hover {\n",
              "      background-color: #434B5C;\n",
              "      box-shadow: 0px 1px 3px 1px rgba(0, 0, 0, 0.15);\n",
              "      filter: drop-shadow(0px 1px 2px rgba(0, 0, 0, 0.3));\n",
              "      fill: #FFFFFF;\n",
              "    }\n",
              "  </style>\n",
              "\n",
              "      <script>\n",
              "        const buttonEl =\n",
              "          document.querySelector('#df-1eeaca23-7a99-4a39-ae24-c414c94f00c6 button.colab-df-convert');\n",
              "        buttonEl.style.display =\n",
              "          google.colab.kernel.accessAllowed ? 'block' : 'none';\n",
              "\n",
              "        async function convertToInteractive(key) {\n",
              "          const element = document.querySelector('#df-1eeaca23-7a99-4a39-ae24-c414c94f00c6');\n",
              "          const dataTable =\n",
              "            await google.colab.kernel.invokeFunction('convertToInteractive',\n",
              "                                                     [key], {});\n",
              "          if (!dataTable) return;\n",
              "\n",
              "          const docLinkHtml = 'Like what you see? Visit the ' +\n",
              "            '<a target=\"_blank\" href=https://colab.research.google.com/notebooks/data_table.ipynb>data table notebook</a>'\n",
              "            + ' to learn more about interactive tables.';\n",
              "          element.innerHTML = '';\n",
              "          dataTable['output_type'] = 'display_data';\n",
              "          await google.colab.output.renderOutput(dataTable, element);\n",
              "          const docLink = document.createElement('div');\n",
              "          docLink.innerHTML = docLinkHtml;\n",
              "          element.appendChild(docLink);\n",
              "        }\n",
              "      </script>\n",
              "    </div>\n",
              "  </div>\n",
              "  "
            ]
          },
          "metadata": {},
          "execution_count": 182
        }
      ]
    },
    {
      "cell_type": "code",
      "source": [
        "sns.heatmap(confusion,annot=True)"
      ],
      "metadata": {
        "colab": {
          "base_uri": "https://localhost:8080/",
          "height": 283
        },
        "id": "T_e6RQH4ZgRJ",
        "outputId": "22be9a78-c7a3-443e-dc9c-7273e0550a65"
      },
      "execution_count": 183,
      "outputs": [
        {
          "output_type": "execute_result",
          "data": {
            "text/plain": [
              "<matplotlib.axes._subplots.AxesSubplot at 0x7f3c40c76ad0>"
            ]
          },
          "metadata": {},
          "execution_count": 183
        },
        {
          "output_type": "display_data",
          "data": {
            "text/plain": [
              "<Figure size 432x288 with 2 Axes>"
            ],
            "image/png": "[encoded data removed]"
          },
          "metadata": {
            "needs_background": "light"
          }
        }
      ]
    },
    {
      "cell_type": "code",
      "source": [
        "print(classification_report(Y_test,Y_Pred))"
      ],
      "metadata": {
        "colab": {
          "base_uri": "https://localhost:8080/"
        },
        "id": "H6CBcIyvZmOo",
        "outputId": "0231a34f-0d0b-4028-f9fc-3c08f0fb4183"
      },
      "execution_count": 184,
      "outputs": [
        {
          "output_type": "stream",
          "name": "stdout",
          "text": [
            "              precision    recall  f1-score   support\n",
            "\n",
            "         0.0       0.89      1.00      0.94        34\n",
            "         1.0       1.00      0.95      0.97        80\n",
            "\n",
            "    accuracy                           0.96       114\n",
            "   macro avg       0.95      0.97      0.96       114\n",
            "weighted avg       0.97      0.96      0.97       114\n",
            "\n"
          ]
        }
      ]
    },
    {
      "cell_type": "code",
      "source": [
        "#Let's evaluate the model using model evaluation metrics such as accuracy and precision\n",
        "from sklearn import metrics\n",
        "accuracy = metrics.accuracy_score(Y_test, Y_Pred)\n",
        "precision = metrics.precision_score(Y_test, Y_Pred)\n",
        "recall = metrics.recall_score(Y_test, Y_Pred)\n",
        "\n",
        "avg = (accuracy + precision + recall)/3\n",
        "    \n",
        "print(\"Accuracy:\", accuracy)\n",
        "print(\"Precision:\", precision)\n",
        "print(\"Recall:\",recall)\n",
        "print(\"Average\",avg)"
      ],
      "metadata": {
        "colab": {
          "base_uri": "https://localhost:8080/"
        },
        "id": "UFrZun2LbprT",
        "outputId": "54268fb4-fc2b-49b2-ba70-527c30998ab4"
      },
      "execution_count": 185,
      "outputs": [
        {
          "output_type": "stream",
          "name": "stdout",
          "text": [
            "Accuracy: 0.9649122807017544\n",
            "Precision: 1.0\n",
            "Recall: 0.95\n",
            "Average 0.9716374269005849\n"
          ]
        }
      ]
    },
    {
      "cell_type": "code",
      "source": [
        "# First, import the PCA function\n",
        "# sperate the  features, target and scaler\n",
        "\n",
        "from sklearn.decomposition import PCA \n",
        "\n",
        "x = BDST.loc[:, F].values \n",
        "y = BDST.loc[:,['label']].values \n",
        "x = StandardScaler().fit_transform(x) \n",
        "\n",
        "\n",
        "accuracyGraph = []\n",
        "precisionGraph = []\n",
        "recallGraph = []"
      ],
      "metadata": {
        "id": "I_gjGTdGqG5S"
      },
      "execution_count": 186,
      "outputs": []
    },
    {
      "cell_type": "code",
      "source": [
        "# to go through all K values\n",
        "for k in range(1, 31):\n",
        "    pca = PCA(n_components = k)\n",
        "    principalComponents = pca.fit_transform(x)\n",
        "    principalDf = pd.DataFrame(data = principalComponents, columns = [*range(1,k+1)]) \n",
        "    finalDf = pd.concat([principalDf, BDST[['label']]], axis = 1)\n",
        "    \n",
        "    outcome = finalDf.pop(\"label\")\n",
        "    \n",
        "    X2 = finalDf.values\n",
        "    Y2 = outcome.values\n",
        "\n",
        "    X_train, X_test, Y_train, Y_test = train_test_split(X2, Y2, train_size=0.8, test_size = 0.2, random_state = 4) \n",
        " \n",
        "    \n",
        "    classifier.fit(X_train, Y_train)\n",
        "    \n",
        "    # Creating a prediction \n",
        "    Y_pred = classifier.predict(X_test)\n",
        "\n",
        "    # Using confusion matrix to obtain accuracy and other statistics\n",
        "    from sklearn.metrics import confusion_matrix \n",
        "    cnf_matrix = confusion_matrix(Y_test, Y_pred) \n",
        "    from sklearn import metrics\n",
        "    \n",
        "    # Variables to hold the Accuracy, Precision, and Recall\n",
        "    accuracy = metrics.accuracy_score(Y_test, Y_pred)\n",
        "    precision = metrics.precision_score(Y_test, Y_pred)\n",
        "    recall = metrics.recall_score(Y_test, Y_pred)\n",
        "    \n",
        "    # Saving the values to the appropriate list\n",
        "    accuracyGraph.append(accuracy)\n",
        "    precisionGraph.append(precision)\n",
        "    recallGraph.append(recall)\n",
        "    \n",
        "    # Averaging the three values for avg\n",
        "    New_Avg = (accuracy + precision + recall)/3\n",
        "    print(New_Avg)\n",
        "    #print(New_Avg)\n",
        "    if avg < New_Avg: \n",
        "        avg = New_Avg\n",
        "        index = k"
      ],
      "metadata": {
        "colab": {
          "base_uri": "https://localhost:8080/"
        },
        "id": "eeqyYjDLatK1",
        "outputId": "e4c09aef-5f43-4715-f4a4-bc8911bde47a"
      },
      "execution_count": 187,
      "outputs": [
        {
          "output_type": "stream",
          "name": "stdout",
          "text": [
            "0.9214747549625236\n",
            "0.9143170426065165\n",
            "0.9220029239766081\n",
            "0.9432748538011696\n",
            "0.9716374269005849\n",
            "0.9787280701754386\n",
            "0.9716374269005849\n",
            "0.964546783625731\n",
            "0.964546783625731\n",
            "0.964546783625731\n",
            "0.9716374269005849\n",
            "0.9716374269005849\n",
            "0.9716374269005849\n",
            "0.9716374269005849\n",
            "0.9716374269005849\n",
            "0.9716374269005849\n",
            "0.9716374269005849\n",
            "0.9716374269005849\n",
            "0.9787280701754386\n",
            "0.9716374269005849\n",
            "0.9787280701754386\n",
            "0.9716374269005849\n",
            "0.9716374269005849\n",
            "0.9716374269005849\n",
            "0.9716374269005849\n",
            "0.9716374269005849\n",
            "0.9716374269005849\n",
            "0.9716374269005849\n",
            "0.9716374269005849\n",
            "0.9716374269005849\n"
          ]
        }
      ]
    },
    {
      "cell_type": "code",
      "source": [
        "# Using confusion matrix to obtain accuracy and other statistics\n",
        "from sklearn.metrics import confusion_matrix \n",
        "cnf_matrix = confusion_matrix(Y_test, Y_pred) \n",
        "from sklearn import metrics \n",
        "\n",
        "print(\"Accuracy:\",metrics.accuracy_score(Y_test, Y_pred)) \n",
        "print(\"Precision:\",metrics.precision_score(Y_test, Y_pred)) \n",
        "print(\"Recall:\",metrics.recall_score(Y_test, Y_pred))\n",
        "print(\"Final K value: \", index )"
      ],
      "metadata": {
        "colab": {
          "base_uri": "https://localhost:8080/"
        },
        "id": "dSRr5h3sey7D",
        "outputId": "674ec315-ce2b-418f-8996-26806b41e382"
      },
      "execution_count": 188,
      "outputs": [
        {
          "output_type": "stream",
          "name": "stdout",
          "text": [
            "Accuracy: 0.9649122807017544\n",
            "Precision: 1.0\n",
            "Recall: 0.95\n",
            "Final K value:  6\n"
          ]
        }
      ]
    },
    {
      "cell_type": "code",
      "source": [
        "cm = np.array(confusion_matrix(Y_test,Y_pred,labels=[1,0]))\n",
        "confusion = pd.DataFrame(cm,index =['is cancer', 'is_healthy'],columns=['predicted_cancer','predicted_healty'])\n",
        "confusion"
      ],
      "metadata": {
        "colab": {
          "base_uri": "https://localhost:8080/",
          "height": 112
        },
        "id": "BEMOYob3gmHn",
        "outputId": "ba359f47-f2d2-42cb-a7c2-721404f89334"
      },
      "execution_count": 189,
      "outputs": [
        {
          "output_type": "execute_result",
          "data": {
            "text/plain": [
              "            predicted_cancer  predicted_healty\n",
              "is cancer                 76                 4\n",
              "is_healthy                 0                34"
            ],
            "text/html": [
              "\n",
              "  <div id=\"df-39752ff6-7d98-4845-87a8-5678e0decdc8\">\n",
              "    <div class=\"colab-df-container\">\n",
              "      <div>\n",
              "<style scoped>\n",
              "    .dataframe tbody tr th:only-of-type {\n",
              "        vertical-align: middle;\n",
              "    }\n",
              "\n",
              "    .dataframe tbody tr th {\n",
              "        vertical-align: top;\n",
              "    }\n",
              "\n",
              "    .dataframe thead th {\n",
              "        text-align: right;\n",
              "    }\n",
              "</style>\n",
              "<table border=\"1\" class=\"dataframe\">\n",
              "  <thead>\n",
              "    <tr style=\"text-align: right;\">\n",
              "      <th></th>\n",
              "      <th>predicted_cancer</th>\n",
              "      <th>predicted_healty</th>\n",
              "    </tr>\n",
              "  </thead>\n",
              "  <tbody>\n",
              "    <tr>\n",
              "      <th>is cancer</th>\n",
              "      <td>76</td>\n",
              "      <td>4</td>\n",
              "    </tr>\n",
              "    <tr>\n",
              "      <th>is_healthy</th>\n",
              "      <td>0</td>\n",
              "      <td>34</td>\n",
              "    </tr>\n",
              "  </tbody>\n",
              "</table>\n",
              "</div>\n",
              "      <button class=\"colab-df-convert\" onclick=\"convertToInteractive('df-39752ff6-7d98-4845-87a8-5678e0decdc8')\"\n",
              "              title=\"Convert this dataframe to an interactive table.\"\n",
              "              style=\"display:none;\">\n",
              "        \n",
              "  <svg xmlns=\"http://www.w3.org/2000/svg\" height=\"24px\"viewBox=\"0 0 24 24\"\n",
              "       width=\"24px\">\n",
              "    <path d=\"M0 0h24v24H0V0z\" fill=\"none\"/>\n",
              "    <path d=\"M18.56 5.44l.94 2.06.94-2.06 2.06-.94-2.06-.94-.94-2.06-.94 2.06-2.06.94zm-11 1L8.5 8.5l.94-2.06 2.06-.94-2.06-.94L8.5 2.5l-.94 2.06-2.06.94zm10 10l.94 2.06.94-2.06 2.06-.94-2.06-.94-.94-2.06-.94 2.06-2.06.94z\"/><path d=\"M17.41 7.96l-1.37-1.37c-.4-.4-.92-.59-1.43-.59-.52 0-1.04.2-1.43.59L10.3 9.45l-7.72 7.72c-.78.78-.78 2.05 0 2.83L4 21.41c.39.39.9.59 1.41.59.51 0 1.02-.2 1.41-.59l7.78-7.78 2.81-2.81c.8-.78.8-2.07 0-2.86zM5.41 20L4 18.59l7.72-7.72 1.47 1.35L5.41 20z\"/>\n",
              "  </svg>\n",
              "      </button>\n",
              "      \n",
              "  <style>\n",
              "    .colab-df-container {\n",
              "      display:flex;\n",
              "      flex-wrap:wrap;\n",
              "      gap: 12px;\n",
              "    }\n",
              "\n",
              "    .colab-df-convert {\n",
              "      background-color: #E8F0FE;\n",
              "      border: none;\n",
              "      border-radius: 50%;\n",
              "      cursor: pointer;\n",
              "      display: none;\n",
              "      fill: #1967D2;\n",
              "      height: 32px;\n",
              "      padding: 0 0 0 0;\n",
              "      width: 32px;\n",
              "    }\n",
              "\n",
              "    .colab-df-convert:hover {\n",
              "      background-color: #E2EBFA;\n",
              "      box-shadow: 0px 1px 2px rgba(60, 64, 67, 0.3), 0px 1px 3px 1px rgba(60, 64, 67, 0.15);\n",
              "      fill: #174EA6;\n",
              "    }\n",
              "\n",
              "    [theme=dark] .colab-df-convert {\n",
              "      background-color: #3B4455;\n",
              "      fill: #D2E3FC;\n",
              "    }\n",
              "\n",
              "    [theme=dark] .colab-df-convert:hover {\n",
              "      background-color: #434B5C;\n",
              "      box-shadow: 0px 1px 3px 1px rgba(0, 0, 0, 0.15);\n",
              "      filter: drop-shadow(0px 1px 2px rgba(0, 0, 0, 0.3));\n",
              "      fill: #FFFFFF;\n",
              "    }\n",
              "  </style>\n",
              "\n",
              "      <script>\n",
              "        const buttonEl =\n",
              "          document.querySelector('#df-39752ff6-7d98-4845-87a8-5678e0decdc8 button.colab-df-convert');\n",
              "        buttonEl.style.display =\n",
              "          google.colab.kernel.accessAllowed ? 'block' : 'none';\n",
              "\n",
              "        async function convertToInteractive(key) {\n",
              "          const element = document.querySelector('#df-39752ff6-7d98-4845-87a8-5678e0decdc8');\n",
              "          const dataTable =\n",
              "            await google.colab.kernel.invokeFunction('convertToInteractive',\n",
              "                                                     [key], {});\n",
              "          if (!dataTable) return;\n",
              "\n",
              "          const docLinkHtml = 'Like what you see? Visit the ' +\n",
              "            '<a target=\"_blank\" href=https://colab.research.google.com/notebooks/data_table.ipynb>data table notebook</a>'\n",
              "            + ' to learn more about interactive tables.';\n",
              "          element.innerHTML = '';\n",
              "          dataTable['output_type'] = 'display_data';\n",
              "          await google.colab.output.renderOutput(dataTable, element);\n",
              "          const docLink = document.createElement('div');\n",
              "          docLink.innerHTML = docLinkHtml;\n",
              "          element.appendChild(docLink);\n",
              "        }\n",
              "      </script>\n",
              "    </div>\n",
              "  </div>\n",
              "  "
            ]
          },
          "metadata": {},
          "execution_count": 189
        }
      ]
    },
    {
      "cell_type": "code",
      "source": [
        "sns.heatmap(confusion,annot=True)"
      ],
      "metadata": {
        "colab": {
          "base_uri": "https://localhost:8080/",
          "height": 283
        },
        "id": "1NPeH9d-hPhG",
        "outputId": "36d899b9-3e66-4982-f8fc-74f63ce6fef6"
      },
      "execution_count": 190,
      "outputs": [
        {
          "output_type": "execute_result",
          "data": {
            "text/plain": [
              "<matplotlib.axes._subplots.AxesSubplot at 0x7f3c40b93b50>"
            ]
          },
          "metadata": {},
          "execution_count": 190
        },
        {
          "output_type": "display_data",
          "data": {
            "text/plain": [
              "<Figure size 432x288 with 2 Axes>"
            ],
            "image/png": "[encoded data removed]"
          },
          "metadata": {
            "needs_background": "light"
          }
        }
      ]
    },
    {
      "cell_type": "code",
      "source": [
        "print(classification_report(Y_test,Y_pred))"
      ],
      "metadata": {
        "colab": {
          "base_uri": "https://localhost:8080/"
        },
        "id": "3y3Alw-hjD57",
        "outputId": "2b27a6db-1400-4be5-f4ac-9bae185214da"
      },
      "execution_count": 191,
      "outputs": [
        {
          "output_type": "stream",
          "name": "stdout",
          "text": [
            "              precision    recall  f1-score   support\n",
            "\n",
            "         0.0       0.89      1.00      0.94        34\n",
            "         1.0       1.00      0.95      0.97        80\n",
            "\n",
            "    accuracy                           0.96       114\n",
            "   macro avg       0.95      0.97      0.96       114\n",
            "weighted avg       0.97      0.96      0.97       114\n",
            "\n"
          ]
        }
      ]
    },
    {
      "cell_type": "code",
      "source": [
        "# Graph Accuracy\n",
        "plt.plot(accuracyGraph)\n",
        "plt.xlabel('# of Inputs')\n",
        "plt.ylabel('Accuracy')\n",
        "plt.title('Accuracy vs Inputs')\n",
        "plt.show()\n",
        "\n",
        "# Graph Precision\n",
        "plt.plot(precisionGraph)\n",
        "plt.xlabel('# of Inputs')\n",
        "plt.ylabel('Precision')\n",
        "plt.title('Precision vs Inputs')\n",
        "plt.show()\n",
        "\n",
        "# Graph Precision\n",
        "plt.plot(recallGraph)\n",
        "plt.xlabel('# of Inputs')\n",
        "plt.ylabel('Recall')\n",
        "plt.title('Recall vs Inputs')\n",
        "plt.show()\n"
      ],
      "metadata": {
        "colab": {
          "base_uri": "https://localhost:8080/",
          "height": 851
        },
        "id": "1jfq2RGHt5-2",
        "outputId": "661da0f9-b18a-4b81-a00a-982deb1b1e76"
      },
      "execution_count": 192,
      "outputs": [
        {
          "output_type": "display_data",
          "data": {
            "text/plain": [
              "<Figure size 432x288 with 1 Axes>"
            ],
            "image/png": "[encoded data removed]"
          },
          "metadata": {
            "needs_background": "light"
          }
        },
        {
          "output_type": "display_data",
          "data": {
            "text/plain": [
              "<Figure size 432x288 with 1 Axes>"
            ],
            "image/png": "[encoded data removed]"
          },
          "metadata": {
            "needs_background": "light"
          }
        },
        {
          "output_type": "display_data",
          "data": {
            "text/plain": [
              "<Figure size 432x288 with 1 Axes>"
            ],
            "image/png": "[encoded data removed]"
          },
          "metadata": {
            "needs_background": "light"
          }
        }
      ]
    },
    {
      "cell_type": "code",
      "source": [
        "pca = PCA(n_components = 12)\n",
        "principalComponents = pca.fit_transform(x)\n",
        "principalDf = pd.DataFrame(data = principalComponents, columns = [*range(1,12+1)]) \n",
        "finalDf = pd.concat([principalDf, BDST[['label']]], axis = 1)\n",
        "print(finalDf)\n",
        "outcome = finalDf.pop(\"label\")\n",
        "\n",
        "X2 = finalDf.values\n",
        "Y2 = outcome.values\n",
        "\n",
        "X_train, X_test, Y_train, Y_test = train_test_split(X2, Y2, train_size=0.8, test_size = 0.2, random_state = 4) \n",
        "\n",
        "\n",
        "classifier.fit(X_train, Y_train)\n",
        "\n",
        "# Creating a prediction \n",
        "Y_pred = classifier.predict(X_test)\n",
        "\n",
        "# Using confusion matrix to obtain accuracy and other statistics\n",
        "from sklearn.metrics import confusion_matrix \n",
        "cnf_matrix = confusion_matrix(Y_test, Y_pred) \n",
        "from sklearn import metrics\n",
        "\n",
        "# Variables to hold the Accuracy, Precision, and Recall\n",
        "accuracy = metrics.accuracy_score(Y_test, Y_pred)\n",
        "precision = metrics.precision_score(Y_test, Y_pred)\n",
        "recall = metrics.recall_score(Y_test, Y_pred)"
      ],
      "metadata": {
        "id": "SAUxX5GUvW0T",
        "colab": {
          "base_uri": "https://localhost:8080/"
        },
        "outputId": "9cf36d33-ac55-4d81-99a8-6fb2ef9c60e8"
      },
      "execution_count": 193,
      "outputs": [
        {
          "output_type": "stream",
          "name": "stdout",
          "text": [
            "             1          2         3         4         5         6         7  \\\n",
            "0     9.192837   1.948583 -1.123166  3.633731 -1.195110  1.411424  2.159370   \n",
            "1     2.387802  -3.768172 -0.529293  1.118264  0.621775  0.028656  0.013359   \n",
            "2     5.733896  -1.075174 -0.551748  0.912083 -0.177086  0.541452 -0.668166   \n",
            "3     7.122953  10.275589 -3.232790  0.152547 -2.960878  3.053422  1.429911   \n",
            "4     3.935302  -1.948072  1.389767  2.940639  0.546747 -1.226495 -0.936213   \n",
            "..         ...        ...       ...       ...       ...       ...       ...   \n",
            "564   6.439315  -3.576817  2.459487  1.177314 -0.074824 -2.375193 -0.596130   \n",
            "565   3.793382  -3.584048  2.088476 -2.506028 -0.510723 -0.246710 -0.716326   \n",
            "566   1.256179  -1.902297  0.562731 -2.089227  1.809991 -0.534447 -0.192758   \n",
            "567  10.374794   1.672010 -1.877029 -2.356031 -0.033742  0.567936  0.223081   \n",
            "568  -5.475243  -0.670637  1.490443 -2.299157 -0.184703  1.617837  1.698951   \n",
            "\n",
            "            8         9        10        11        12  label  \n",
            "0   -0.398407 -0.157119 -0.877403  0.262955 -0.859018    0.0  \n",
            "1    0.240989 -0.711903  1.106993  0.813117  0.157936    0.0  \n",
            "2    0.097374  0.024068  0.454275 -0.605605  0.124399    0.0  \n",
            "3    1.059566 -1.405438 -1.116975 -1.151515  1.011329    0.0  \n",
            "4    0.636375 -0.263808  0.377706  0.651361 -0.110530    0.0  \n",
            "..        ...       ...       ...       ...       ...    ...  \n",
            "564 -0.035471  0.987928  0.256990 -0.062649  0.123336    0.0  \n",
            "565 -1.113359 -0.105206 -0.108633  0.244803  0.222759    0.0  \n",
            "566  0.341888  0.393919  0.520876 -0.840513  0.096487    0.0  \n",
            "567 -0.280239 -0.542036 -0.089295 -0.178625 -0.697479    0.0  \n",
            "568  1.046353  0.374100 -0.047726 -0.144094 -0.179501    1.0  \n",
            "\n",
            "[569 rows x 13 columns]\n"
          ]
        }
      ]
    },
    {
      "cell_type": "code",
      "source": [
        "print(metrics.classification_report(Y_test, Y_pred))\n",
        "print(metrics.confusion_matrix(Y_test, Y_pred))\n",
        "plt.rcParams[\"figure.figsize\"] = (12,8)\n"
      ],
      "metadata": {
        "colab": {
          "base_uri": "https://localhost:8080/"
        },
        "id": "yjTdN8O7vaBB",
        "outputId": "a940baf1-a74a-46b5-d9ad-256e60a5af17"
      },
      "execution_count": 194,
      "outputs": [
        {
          "output_type": "stream",
          "name": "stdout",
          "text": [
            "              precision    recall  f1-score   support\n",
            "\n",
            "         0.0       0.89      1.00      0.94        34\n",
            "         1.0       1.00      0.95      0.97        80\n",
            "\n",
            "    accuracy                           0.96       114\n",
            "   macro avg       0.95      0.97      0.96       114\n",
            "weighted avg       0.97      0.96      0.97       114\n",
            "\n",
            "[[34  0]\n",
            " [ 4 76]]\n"
          ]
        }
      ]
    },
    {
      "cell_type": "markdown",
      "source": [
        "**Problem 2:**\n",
        "\n",
        "*Develop a SVR regression model that predicts housing price based on the following input variables:*\n",
        "\n",
        "*Area, bedrooms,bathrooms, stories, mainroad, guestroom, basement, hotwaterheating, airconditioning, parking, prefarea.*\n",
        "\n",
        "1. Plot your regression model for SVR similar to the sample code provided on Canvas.\n",
        "2. Compare your results against linear regression with regularization loss that you already did in homework 1.\n",
        "3. Use the PCA feature extraction for your training. Perform N number of independent training (N = 1, .... K.) Identify the optimum number of K, principal components that achieve the highest regression accuracy.\n",
        "4. Explore different kernel tricks to capture non-linearities within your data. Plot the results and compare the accuracies for different kernels."
      ],
      "metadata": {
        "id": "l66UY00VqFGB"
      }
    },
    {
      "cell_type": "code",
      "source": [
        "##Import Data Set\n",
        "data_set_file_path ='/content/drive/MyDrive/Intro to Machine Learning/Housing.csv'\n",
        "\n",
        "## Read CSV & Print\n",
        "csv = pd.read_csv(data_set_file_path)\n",
        "print(csv.shape)\n",
        "\n",
        "## Set Data Frame\n",
        "df = pd.DataFrame(csv)\n",
        "print(df.head)\n"
      ],
      "metadata": {
        "colab": {
          "base_uri": "https://localhost:8080/"
        },
        "id": "mQP_Arj70fEn",
        "outputId": "98bf3d3e-2d98-4885-d57c-1450a187845d"
      },
      "execution_count": 195,
      "outputs": [
        {
          "output_type": "stream",
          "name": "stdout",
          "text": [
            "(545, 13)\n",
            "<bound method NDFrame.head of         price  area  bedrooms  bathrooms  stories mainroad guestroom basement  \\\n",
            "0    13300000  7420         4          2        3      yes        no       no   \n",
            "1    12250000  8960         4          4        4      yes        no       no   \n",
            "2    12250000  9960         3          2        2      yes        no      yes   \n",
            "3    12215000  7500         4          2        2      yes        no      yes   \n",
            "4    11410000  7420         4          1        2      yes       yes      yes   \n",
            "..        ...   ...       ...        ...      ...      ...       ...      ...   \n",
            "540   1820000  3000         2          1        1      yes        no      yes   \n",
            "541   1767150  2400         3          1        1       no        no       no   \n",
            "542   1750000  3620         2          1        1      yes        no       no   \n",
            "543   1750000  2910         3          1        1       no        no       no   \n",
            "544   1750000  3850         3          1        2      yes        no       no   \n",
            "\n",
            "    hotwaterheating airconditioning  parking prefarea furnishingstatus  \n",
            "0                no             yes        2      yes        furnished  \n",
            "1                no             yes        3       no        furnished  \n",
            "2                no              no        2      yes   semi-furnished  \n",
            "3                no             yes        3      yes        furnished  \n",
            "4                no             yes        2       no        furnished  \n",
            "..              ...             ...      ...      ...              ...  \n",
            "540              no              no        2       no      unfurnished  \n",
            "541              no              no        0       no   semi-furnished  \n",
            "542              no              no        0       no      unfurnished  \n",
            "543              no              no        0       no        furnished  \n",
            "544              no              no        0       no      unfurnished  \n",
            "\n",
            "[545 rows x 13 columns]>\n"
          ]
        }
      ]
    },
    {
      "cell_type": "code",
      "source": [
        "# Need to make binary categories useful.\n",
        "def useful_category(df):\n",
        "    tempDF = df\n",
        "    col = df.columns.tolist()\n",
        "    types = df.dtypes\n",
        "    for i in range(len(col)):\n",
        "\n",
        "        if types[i] == 'object' or types[i] == 'str':\n",
        "            tempDF[col[i]] = df[col[i]].astype('category').cat.codes\n",
        "        else: \n",
        "            tempDF[col[i]] = df[col[i]]\n",
        "    return tempDF\n",
        "    \n",
        "df = useful_category(df)\n",
        "print(df.head)"
      ],
      "metadata": {
        "colab": {
          "base_uri": "https://localhost:8080/"
        },
        "id": "rTD2cq2516g7",
        "outputId": "f2535474-0194-48ad-d5e8-90a65b822bf1"
      },
      "execution_count": 196,
      "outputs": [
        {
          "output_type": "stream",
          "name": "stdout",
          "text": [
            "<bound method NDFrame.head of         price  area  bedrooms  bathrooms  stories  mainroad  guestroom  \\\n",
            "0    13300000  7420         4          2        3         1          0   \n",
            "1    12250000  8960         4          4        4         1          0   \n",
            "2    12250000  9960         3          2        2         1          0   \n",
            "3    12215000  7500         4          2        2         1          0   \n",
            "4    11410000  7420         4          1        2         1          1   \n",
            "..        ...   ...       ...        ...      ...       ...        ...   \n",
            "540   1820000  3000         2          1        1         1          0   \n",
            "541   1767150  2400         3          1        1         0          0   \n",
            "542   1750000  3620         2          1        1         1          0   \n",
            "543   1750000  2910         3          1        1         0          0   \n",
            "544   1750000  3850         3          1        2         1          0   \n",
            "\n",
            "     basement  hotwaterheating  airconditioning  parking  prefarea  \\\n",
            "0           0                0                1        2         1   \n",
            "1           0                0                1        3         0   \n",
            "2           1                0                0        2         1   \n",
            "3           1                0                1        3         1   \n",
            "4           1                0                1        2         0   \n",
            "..        ...              ...              ...      ...       ...   \n",
            "540         1                0                0        2         0   \n",
            "541         0                0                0        0         0   \n",
            "542         0                0                0        0         0   \n",
            "543         0                0                0        0         0   \n",
            "544         0                0                0        0         0   \n",
            "\n",
            "     furnishingstatus  \n",
            "0                   0  \n",
            "1                   0  \n",
            "2                   1  \n",
            "3                   0  \n",
            "4                   0  \n",
            "..                ...  \n",
            "540                 2  \n",
            "541                 1  \n",
            "542                 2  \n",
            "543                 0  \n",
            "544                 2  \n",
            "\n",
            "[545 rows x 13 columns]>\n"
          ]
        }
      ]
    },
    {
      "cell_type": "code",
      "source": [
        "col_p1 = ['area', 'bedrooms', 'bathrooms', 'stories','mainroad','guestroom','basement', 'hotwaterheating','airconditioning','parking','prefarea']\n",
        "#Set Inputs & Outputs\n",
        "Input = df[col_p1]\n",
        "Output = df.loc[:, df.columns == 'price']\n",
        "\n"
      ],
      "metadata": {
        "id": "Rha6LjKV2ekg"
      },
      "execution_count": 197,
      "outputs": []
    },
    {
      "cell_type": "code",
      "source": [
        "X_train, X_test, Y_train, Y_test = train_test_split(Input, Output, train_size=0.8, test_size=.2, random_state = 4) \n",
        "#Standardize the values for overfitting handling \n",
        "from sklearn.preprocessing import StandardScaler\n",
        "sc_X = StandardScaler()\n",
        "X_train = sc_X.fit_transform(X_train)\n",
        "X_test = sc_X.transform(X_test)\n",
        "sc_Y  = StandardScaler()\n",
        "Y_train = sc_Y.fit_transform(Y_train)\n",
        "Y_test = sc_Y.fit_transform(Y_test)"
      ],
      "metadata": {
        "id": "tAeGavMJ3rtA"
      },
      "execution_count": 198,
      "outputs": []
    },
    {
      "cell_type": "code",
      "source": [
        "from sklearn.svm import SVR\n",
        "svr_rbf = SVR(kernel='poly', C=1e3)\n",
        "#svr_lin = SVR(kernel='linear', C=10.0)\n",
        "#svr_poly = SVR(kernel='poly', C=10.0)\n",
        "Y_RBF = svr_rbf.fit(X_train, Y_train).predict(X_test)\n",
        "#Y_LIN = svr_lin.fit(X_train, Y_train).predict(X_test)\n",
        "#Y_POLY = svr_poly.fit(X_train, Y_train).predict(X_test)\n"
      ],
      "metadata": {
        "colab": {
          "base_uri": "https://localhost:8080/"
        },
        "id": "tloEslp335hB",
        "outputId": "101e2b3a-29b9-49d8-c468-8a6cf624fad4"
      },
      "execution_count": 199,
      "outputs": [
        {
          "output_type": "stream",
          "name": "stderr",
          "text": [
            "/usr/local/lib/python3.7/dist-packages/sklearn/utils/validation.py:993: DataConversionWarning: A column-vector y was passed when a 1d array was expected. Please change the shape of y to (n_samples, ), for example using ravel().\n",
            "  y = column_or_1d(y, warn=True)\n"
          ]
        }
      ]
    },
    {
      "cell_type": "code",
      "source": [
        "#lw = 2\n",
        "#plt.scatter(X_train, Y_train, color = 'darkorange', label = 'data')\n",
        "#plt.plot(X_train, Y_RBF, color = 'navy', lw=lw, label = 'RBF Model')\n",
        "#plt.plot(X_train, Y_LIN, color = 'c', lw=lw, label = 'Linear Model')\n",
        "#plt.plot(X_train, Y_POLY, color = 'cornflowerblue', lw=lw, label = 'Polynomial')\n",
        "#plt.xlabel('data')\n",
        "#plt.ylabel('target')\n",
        "#plt.title('Support Vector Regression')\n",
        "#plt.legend()\n",
        "#plt.show()\n"
      ],
      "metadata": {
        "id": "pvne9LqU7ArX"
      },
      "execution_count": 200,
      "outputs": []
    },
    {
      "cell_type": "code",
      "source": [
        "from sklearn.metrics import r2_score\n",
        "\n",
        "print(Y_RBF[:10])\n",
        "print(Y_test[:10])\n",
        "print('Test R^2     : %.3f'%r2_score(Y_test, Y_RBF))\n",
        "print('Test R^2     : %.3f'%svr_rbf.score(X_test, Y_test))\n",
        "print('Training R^2 : %.3f'%svr_rbf.score(X_train, Y_train))\n",
        "R2 = svr_rbf.score(X_train,Y_train)"
      ],
      "metadata": {
        "colab": {
          "base_uri": "https://localhost:8080/"
        },
        "id": "iV-bcyX2_iH8",
        "outputId": "5db8f95d-3b88-4de0-ecc5-eaa84fae0e65"
      },
      "execution_count": 201,
      "outputs": [
        {
          "output_type": "stream",
          "name": "stdout",
          "text": [
            "[ -0.99342854  -1.25774003  32.36185674 -14.01024613  -0.53520145\n",
            "  -0.30163172  -0.87780847  -1.04952348  -0.29476585  -0.59461994]\n",
            "[[-1.04496999]\n",
            " [-0.28106783]\n",
            " [ 1.24673648]\n",
            " [-0.20271889]\n",
            " [-1.26042957]\n",
            " [-0.06560825]\n",
            " [-0.22230613]\n",
            " [-0.28106783]\n",
            " [-0.94703382]\n",
            " [ 0.02841048]]\n",
            "Test R^2     : -11.004\n",
            "Test R^2     : -11.004\n",
            "Training R^2 : 0.866\n"
          ]
        }
      ]
    },
    {
      "cell_type": "code",
      "source": [
        "from sklearn.metrics import mean_squared_error, mean_squared_log_error\n",
        "\n",
        "print('Test MSE  : %.3f'%mean_squared_error(Y_test, Y_RBF))\n",
        "print('Train MSE : %.3f'%mean_squared_error(Y_train, svr_rbf.predict(X_train)))"
      ],
      "metadata": {
        "colab": {
          "base_uri": "https://localhost:8080/"
        },
        "id": "VF84a1Y2AeHA",
        "outputId": "4a12af1f-f475-4ded-9ce2-60888fbb7346"
      },
      "execution_count": 202,
      "outputs": [
        {
          "output_type": "stream",
          "name": "stdout",
          "text": [
            "Test MSE  : 12.004\n",
            "Train MSE : 0.134\n"
          ]
        }
      ]
    },
    {
      "cell_type": "code",
      "source": [
        "# First, import the PCA function\n",
        "# sperate the  features, target and scaler\n",
        "\n",
        "from sklearn.decomposition import PCA \n",
        "import pandas as pd\n",
        "Input  = df[col_p1]\n",
        "Output = df.loc[:, df.columns == 'price'] \n",
        "Input  = StandardScaler().fit_transform(Input) \n",
        "Output = StandardScaler().fit_transform(Output)\n",
        "Output = Output.flatten()\n",
        "Output_Series = pd.Series(Output)\n"
      ],
      "metadata": {
        "id": "SEWm8W_tIYtO"
      },
      "execution_count": 203,
      "outputs": []
    },
    {
      "cell_type": "code",
      "source": [
        "from sklearn.svm import SVR\n",
        "classifier = SVR(kernel = 'linear', C= 10)\n",
        "\n",
        "r2GraphTrain = []\n",
        "r2GraphPred = []\n",
        "r2GraphTest = []"
      ],
      "metadata": {
        "id": "VbnQLR-cFWz8"
      },
      "execution_count": 204,
      "outputs": []
    },
    {
      "cell_type": "code",
      "source": [
        "# to go through all K values\n",
        "for k in range(1, 12):\n",
        "    pca = PCA(n_components = k)\n",
        "    principalComponents = pca.fit_transform(Input)\n",
        "    principalDf = pd.DataFrame(data = principalComponents, columns = [*range(1,k+1)]) \n",
        "    finalDf = pd.concat([principalDf, Output_Series], axis = 1)\n",
        "    #print(finalDf)\n",
        "    \n",
        "    outcome = finalDf.pop(1)\n",
        "    \n",
        "    X2 = finalDf.values\n",
        "    Y2 = outcome.values\n",
        "\n",
        "    X_train, X_test, Y_train, Y_test = train_test_split(X2, Y2, train_size=0.8, test_size = 0.2, random_state = 4) \n",
        " \n",
        "    \n",
        "    classifier.fit(X_train, Y_train)\n",
        "    \n",
        "    # Creating a prediction \n",
        "    Y_pred = classifier.predict(X_test)\n",
        "\n",
        "    \n",
        "    # Variables to hold the Accuracy, Precision, and Recall\n",
        "    NewR2= classifier.score(X_train, Y_train)\n",
        "    print(NewR2)\n",
        "    R2Pred = r2_score(Y_test, Y_pred)\n",
        "    R2Test = classifier.score(X_test, Y_test)\n",
        "    # Saving the values to the appropriate list\n",
        "    \n",
        "   \n",
        "    r2GraphTest.append(R2Test)\n",
        "    r2GraphTrain.append(NewR2)\n",
        "    r2GraphPred.append(R2Pred)\n",
        "    \n",
        "    # Averaging the three values for avg\n",
        "    if  R2 < NewR2: \n",
        "        R2 = NewR2\n",
        "        index = k\n",
        "#print(index)"
      ],
      "metadata": {
        "colab": {
          "base_uri": "https://localhost:8080/"
        },
        "id": "NDUKrH-iJqB2",
        "outputId": "7b53be6c-5d9a-429f-f99a-21cdf2635f4c"
      },
      "execution_count": 205,
      "outputs": [
        {
          "output_type": "stream",
          "name": "stdout",
          "text": [
            "0.632289839148053\n",
            "0.6311563745610884\n",
            "0.6333634113472887\n",
            "0.6373254588752599\n",
            "0.6378742843169372\n",
            "0.638716372170637\n",
            "0.6404744809954928\n",
            "0.6405515731408074\n",
            "0.6441083531022096\n",
            "0.6433163188559332\n",
            "0.6441847273985546\n"
          ]
        }
      ]
    },
    {
      "cell_type": "code",
      "source": [
        "# Graph Accuracy\n",
        "lw = 2\n",
        "plt.plot(r2GraphTrain, lw = lw, label = \"Train\")\n",
        "plt.plot(r2GraphTest, lw = lw, label = \"Test\")\n",
        "plt.xlabel('K')\n",
        "plt.ylabel('R2')\n",
        "plt.title('R2 VS K')\n",
        "plt.legend()\n",
        "plt.show()\n",
        "plt.plot(r2GraphPred, lw=lw, label = \"Predict\")\n",
        "plt.xlabel('K')\n",
        "plt.ylabel('R2')\n",
        "plt.title('R2 VS K')\n",
        "plt.legend()\n"
      ],
      "metadata": {
        "colab": {
          "base_uri": "https://localhost:8080/",
          "height": 1000
        },
        "id": "DOgtOxndHxWZ",
        "outputId": "c1b11cb7-24e6-46af-e138-a4364ce35bee"
      },
      "execution_count": 206,
      "outputs": [
        {
          "output_type": "display_data",
          "data": {
            "text/plain": [
              "<Figure size 864x576 with 1 Axes>"
            ],
            "image/png": "[encoded data removed]"
          },
          "metadata": {
            "needs_background": "light"
          }
        },
        {
          "output_type": "execute_result",
          "data": {
            "text/plain": [
              "<matplotlib.legend.Legend at 0x7f3c40d22b50>"
            ]
          },
          "metadata": {},
          "execution_count": 206
        },
        {
          "output_type": "display_data",
          "data": {
            "text/plain": [
              "<Figure size 864x576 with 1 Axes>"
            ],
            "image/png": "[encoded data removed]"
          },
          "metadata": {
            "needs_background": "light"
          }
        }
      ]
    },
    {
      "cell_type": "code",
      "source": [],
      "metadata": {
        "id": "sTUYTDBmMi8V"
      },
      "execution_count": 206,
      "outputs": []
    }
  ]
}