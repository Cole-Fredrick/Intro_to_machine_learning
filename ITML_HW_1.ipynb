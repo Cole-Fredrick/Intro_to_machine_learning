{
  "nbformat": 4,
  "nbformat_minor": 0,
  "metadata": {
    "colab": {
      "provenance": [],
      "collapsed_sections": []
    },
    "kernelspec": {
      "name": "python3",
      "display_name": "Python 3"
    },
    "language_info": {
      "name": "python"
    }
  },
  "cells": [
    {
      "cell_type": "code",
      "execution_count": 1,
      "metadata": {
        "colab": {
          "base_uri": "https://localhost:8080/"
        },
        "id": "b-DP80JwlPnM",
        "outputId": "fdc144a7-8ffc-469e-a2d1-da229766e064"
      },
      "outputs": [
        {
          "output_type": "stream",
          "name": "stdout",
          "text": [
            "Drive already mounted at /content/drive/; to attempt to forcibly remount, call drive.mount(\"/content/drive/\", force_remount=True).\n"
          ]
        }
      ],
      "source": [
        "%matplotlib inline\n",
        "from google.colab import drive\n",
        "drive.mount('/content/drive/')\n",
        "import matplotlib.pyplot as plt\n",
        "import pandas as pd\n",
        "import numpy as np\n",
        "from sklearn import preprocessing \n",
        "from sklearn.model_selection import train_test_split\n",
        "import os\n"
      ]
    },
    {
      "cell_type": "markdown",
      "source": [
        "**Homework 1 (100 Points)**\n",
        "\n",
        "In this homework, we will use US Housing dataset. You will develop linear regression with gradient decent algorithm to estimate the price of the house. In this homework, we will use 80% and 20% split between training and evaluation (test) sets across all problems. (Note: You cannot use the built-in function from ML libraries for gradient descent, you must implement it yourself. However, you can use built-in function for normalization/standardization)"
      ],
      "metadata": {
        "id": "s5DIrVrHmEbD"
      }
    },
    {
      "cell_type": "markdown",
      "source": [
        "**Problem 1 (30 points)**\n",
        "\n",
        "1.a) Develop a gradient decent training and evaluation code that predicts housing price based on the following input variables:\n",
        "\n",
        "area, bedrooms, bathrooms, stories, parking\n",
        "\n",
        "Identify the best parameters for your linear regression model, based on the above input variables. \n",
        "\n",
        "Plot the training and validation losses (in a single graph, but two different lines). For the learning rate, explore different values between 0.1 and 0.01 (your choice). Initialize your parameters (thetas to zero). For the training iteration, choose what you believe fits the best. \n",
        "\n",
        "\n",
        "\n",
        " "
      ],
      "metadata": {
        "id": "dtFamFU6mJhW"
      }
    },
    {
      "cell_type": "code",
      "source": [
        "##Import Data Set\n",
        "data_set_file_path ='/content/drive/MyDrive/Intro to Machine Learning/Housing.csv'\n",
        "\n",
        "## Read CSV & Print\n",
        "csv = pd.read_csv(data_set_file_path)\n",
        "print(csv.shape)\n",
        "\n",
        "## Set Data Frame\n",
        "df = pd.DataFrame(csv)\n",
        "print(df.head)"
      ],
      "metadata": {
        "colab": {
          "base_uri": "https://localhost:8080/"
        },
        "id": "d6PWROXNr6Yr",
        "outputId": "cbedb4d5-edf2-4b67-85d4-06700fb1df0f"
      },
      "execution_count": 2,
      "outputs": [
        {
          "output_type": "stream",
          "name": "stdout",
          "text": [
            "(545, 13)\n",
            "<bound method NDFrame.head of         price  area  bedrooms  bathrooms  stories mainroad guestroom basement  \\\n",
            "0    13300000  7420         4          2        3      yes        no       no   \n",
            "1    12250000  8960         4          4        4      yes        no       no   \n",
            "2    12250000  9960         3          2        2      yes        no      yes   \n",
            "3    12215000  7500         4          2        2      yes        no      yes   \n",
            "4    11410000  7420         4          1        2      yes       yes      yes   \n",
            "..        ...   ...       ...        ...      ...      ...       ...      ...   \n",
            "540   1820000  3000         2          1        1      yes        no      yes   \n",
            "541   1767150  2400         3          1        1       no        no       no   \n",
            "542   1750000  3620         2          1        1      yes        no       no   \n",
            "543   1750000  2910         3          1        1       no        no       no   \n",
            "544   1750000  3850         3          1        2      yes        no       no   \n",
            "\n",
            "    hotwaterheating airconditioning  parking prefarea furnishingstatus  \n",
            "0                no             yes        2      yes        furnished  \n",
            "1                no             yes        3       no        furnished  \n",
            "2                no              no        2      yes   semi-furnished  \n",
            "3                no             yes        3      yes        furnished  \n",
            "4                no             yes        2       no        furnished  \n",
            "..              ...             ...      ...      ...              ...  \n",
            "540              no              no        2       no      unfurnished  \n",
            "541              no              no        0       no   semi-furnished  \n",
            "542              no              no        0       no      unfurnished  \n",
            "543              no              no        0       no        furnished  \n",
            "544              no              no        0       no      unfurnished  \n",
            "\n",
            "[545 rows x 13 columns]>\n"
          ]
        }
      ]
    },
    {
      "cell_type": "code",
      "source": [
        "# Need to make binary categories useful.\n",
        "def useful_category(df):\n",
        "    tempDF = df\n",
        "    col = df.columns.tolist()\n",
        "    types = df.dtypes\n",
        "    for i in range(len(col)):\n",
        "\n",
        "        if types[i] == 'object' or types[i] == 'str':\n",
        "            tempDF[col[i]] = df[col[i]].astype('category').cat.codes\n",
        "        else: \n",
        "            tempDF[col[i]] = df[col[i]]\n",
        "    return tempDF\n",
        "    \n",
        "df = useful_category(df)\n",
        "print(df.head)"
      ],
      "metadata": {
        "colab": {
          "base_uri": "https://localhost:8080/"
        },
        "id": "Apz--kkjv2W2",
        "outputId": "b429e3e5-c3a9-4952-92e7-e3fbdbf82b81"
      },
      "execution_count": 3,
      "outputs": [
        {
          "output_type": "stream",
          "name": "stdout",
          "text": [
            "<bound method NDFrame.head of         price  area  bedrooms  bathrooms  stories  mainroad  guestroom  \\\n",
            "0    13300000  7420         4          2        3         1          0   \n",
            "1    12250000  8960         4          4        4         1          0   \n",
            "2    12250000  9960         3          2        2         1          0   \n",
            "3    12215000  7500         4          2        2         1          0   \n",
            "4    11410000  7420         4          1        2         1          1   \n",
            "..        ...   ...       ...        ...      ...       ...        ...   \n",
            "540   1820000  3000         2          1        1         1          0   \n",
            "541   1767150  2400         3          1        1         0          0   \n",
            "542   1750000  3620         2          1        1         1          0   \n",
            "543   1750000  2910         3          1        1         0          0   \n",
            "544   1750000  3850         3          1        2         1          0   \n",
            "\n",
            "     basement  hotwaterheating  airconditioning  parking  prefarea  \\\n",
            "0           0                0                1        2         1   \n",
            "1           0                0                1        3         0   \n",
            "2           1                0                0        2         1   \n",
            "3           1                0                1        3         1   \n",
            "4           1                0                1        2         0   \n",
            "..        ...              ...              ...      ...       ...   \n",
            "540         1                0                0        2         0   \n",
            "541         0                0                0        0         0   \n",
            "542         0                0                0        0         0   \n",
            "543         0                0                0        0         0   \n",
            "544         0                0                0        0         0   \n",
            "\n",
            "     furnishingstatus  \n",
            "0                   0  \n",
            "1                   0  \n",
            "2                   1  \n",
            "3                   0  \n",
            "4                   0  \n",
            "..                ...  \n",
            "540                 2  \n",
            "541                 1  \n",
            "542                 2  \n",
            "543                 0  \n",
            "544                 2  \n",
            "\n",
            "[545 rows x 13 columns]>\n"
          ]
        }
      ]
    },
    {
      "cell_type": "code",
      "source": [
        "col_p1 = ['area', 'bedrooms', 'bathrooms', 'stories', 'parking']\n",
        "\n",
        "#Set Inputs & Outputs\n",
        "Input = df[col_p1]\n",
        "Output = df.iloc[:,0]\n",
        "\n",
        "\n",
        "#Time to split.\n",
        "X_training, X_Validation, Y_training, Y_Validation = train_test_split(Input, Output, test_size = .2, random_state = 420)\n",
        "\n",
        "\n",
        "#Time to add ones vector to both inputs.\n",
        "training_input = pd.concat([pd.Series(1, index=X_training.index, name='00'), X_training], axis=1)\n",
        "validation_input = pd.concat([pd.Series(1,index=X_Validation.index, name='00'), X_Validation], axis =1)\n",
        "\n",
        "#Time to set theta's for Training and validation\n",
        "theta_training = np.array([0]*len(training_input.columns))\n",
        "theta_validation = np.array([0]*len(validation_input.columns))\n",
        "\n",
        "#Getting the training_example values from outputs\n",
        "training_examples = len(Y_training)\n",
        "validation_examples = len(Y_Validation)\n"
      ],
      "metadata": {
        "id": "sHesQkpSxrXN"
      },
      "execution_count": 4,
      "outputs": []
    },
    {
      "cell_type": "code",
      "source": [
        "#Loss & Gradient Descent Function\n",
        "\n",
        "#Loss Function\n",
        "def compute_loss (Input, Output, theta,Training_Examples):\n",
        "  predictions = Input.dot(theta)\n",
        "  errors = np.subtract(predictions, Output)\n",
        "  sqrErrors = np.square(errors)\n",
        "  J = 1 / (2 * Training_Examples) * np.sum(sqrErrors)\n",
        "\n",
        "  return J\n",
        "\n",
        "#Gradient Descent Function\n",
        "def gradient_descent(Input, Output, theta,Training_Examples, alpha, iterations):\n",
        "  Loss_old = np.zeros(iterations)\n",
        "\n",
        "  for i in range(iterations):\n",
        "    predictions = Input.dot(theta)\n",
        "    errors = np.subtract(predictions, Output)\n",
        "    sum_delta = (alpha/Training_Examples) * Input.transpose().dot(errors);\n",
        "    theta = theta - sum_delta;\n",
        "    Loss_old[i] = compute_loss(Input,Output,theta,Training_Examples)\n",
        "  return theta, Loss_old"
      ],
      "metadata": {
        "id": "4eyG4VEY6c7A"
      },
      "execution_count": 5,
      "outputs": []
    },
    {
      "cell_type": "code",
      "source": [
        "#Loss calculation for both the training and validation set.\n",
        "Loss_training = compute_loss(training_input,Y_training,theta_training,training_examples)\n",
        "print(Loss_training)\n",
        "\n",
        "Loss_validation = compute_loss(validation_input,Y_Validation,theta_validation,validation_examples)\n",
        "print(Loss_validation)"
      ],
      "metadata": {
        "colab": {
          "base_uri": "https://localhost:8080/"
        },
        "id": "cxt88NvR7fJe",
        "outputId": "1cf7e092-7e4d-4d10-e8b7-046f4c7e59f1"
      },
      "execution_count": 6,
      "outputs": [
        {
          "output_type": "stream",
          "name": "stdout",
          "text": [
            "13090392247968.578\n",
            "13173012831422.02\n"
          ]
        }
      ]
    },
    {
      "cell_type": "code",
      "source": [
        "##Time to do some gradient descent for both sets.\n",
        "\n",
        "#Training\n",
        "theta_training = [0.,0.,0.,0.,0.,0.]\n",
        "iterations = 1000;\n",
        "alpha = 0.000000001;\n",
        "\n",
        "theta_training, Loss_training = gradient_descent(training_input,Y_training,theta_training,training_examples,alpha, iterations)\n",
        "print('Final value of theta =', theta_training)\n",
        "\n",
        "#Validation\n",
        "theta_validation = [0.,0.,0.,0.,0.,0.]\n",
        "iterations = 1000;\n",
        "alpha = 0.000000001;\n",
        "\n",
        "theta_validation, Loss_validation = gradient_descent(validation_input,Y_Validation,theta_validation,validation_examples, alpha, iterations)\n",
        "print('Final value of theta =', theta_validation)"
      ],
      "metadata": {
        "colab": {
          "base_uri": "https://localhost:8080/"
        },
        "id": "k2D3Vo_y-MZ7",
        "outputId": "40a5abe6-fb0d-43e9-814a-1fd713fe94b1"
      },
      "execution_count": 7,
      "outputs": [
        {
          "output_type": "stream",
          "name": "stdout",
          "text": [
            "Final value of theta = 00             0.501799\n",
            "area         853.093314\n",
            "bedrooms       1.791898\n",
            "bathrooms      0.919229\n",
            "stories        1.470922\n",
            "parking        0.380779\n",
            "dtype: float64\n",
            "Final value of theta = 00             0.494593\n",
            "area         866.477671\n",
            "bedrooms       1.770989\n",
            "bathrooms      1.092558\n",
            "stories        1.390253\n",
            "parking        0.575008\n",
            "dtype: float64\n"
          ]
        }
      ]
    },
    {
      "cell_type": "code",
      "source": [
        "#Time to graph the loss.\n",
        "plt.plot(range(1,iterations + 1), Loss_training, color = 'blue')\n",
        "plt.plot(range(1,iterations + 1), Loss_validation, color = 'red')\n",
        "plt.rcParams[\"figure.figsize\"] = (10,6)\n",
        "plt.grid()\n",
        "plt.xlabel('Number of iterations')\n",
        "plt.ylabel('Loss (J)')\n",
        "plt.title('Convergence of gradient descent')"
      ],
      "metadata": {
        "colab": {
          "base_uri": "https://localhost:8080/",
          "height": 312
        },
        "id": "36pBrbT0AUB-",
        "outputId": "dcce39c0-64d8-4516-85be-4f897b199e5b"
      },
      "execution_count": 8,
      "outputs": [
        {
          "output_type": "execute_result",
          "data": {
            "text/plain": [
              "Text(0.5, 1.0, 'Convergence of gradient descent')"
            ]
          },
          "metadata": {},
          "execution_count": 8
        },
        {
          "output_type": "display_data",
          "data": {
            "text/plain": [
              "<Figure size 432x288 with 1 Axes>"
            ],
            "image/png": "[encoded data removed]"
          },
          "metadata": {
            "needs_background": "light"
          }
        }
      ]
    },
    {
      "cell_type": "markdown",
      "source": [
        "1.b) Develop a gradient decent training and evaluation code that predicts housing price based on the following input variables:\n",
        "\n",
        "Area, bedrooms, bathrooms, stories, mainroad, guestroom, basement, hotwaterheating, airconditioning, parking, prefarea\n",
        "\n",
        "Identify the best parameters for your linear regression model, based on the above input variables. \n",
        "\n",
        "Plot the training and validation losses (in a single graph, but two different lines) over your training iteration. Compare your linear regression model against problem 1 a. For the learning rate, explore different values between 0.1 and 0.01 (your choice). Initialize your parameters (thetas to zero). For the training iteration, choose what you believe fits the best. "
      ],
      "metadata": {
        "id": "FBN1Def_9jDW"
      }
    },
    {
      "cell_type": "code",
      "source": [
        "col_p2 = ['area', 'bedrooms', 'bathrooms', 'stories', 'mainroad', 'guestroom', 'basement', 'hotwaterheating', 'airconditioning', 'parking', 'prefarea']\n",
        "\n",
        "\n",
        "#Set Inputs & Outputs\n",
        "Input = df[col_p2]\n",
        "Output = df.iloc[:,0]\n",
        "\n",
        "\n",
        "#Time to split.\n",
        "X_training, X_Validation, Y_training, Y_Validation = train_test_split(Input, Output, test_size = .2, random_state = 420)\n",
        "\n",
        "\n",
        "#Time to add ones vector to both inputs.\n",
        "training_input = pd.concat([pd.Series(1, index=X_training.index, name='00'), X_training], axis=1)\n",
        "validation_input = pd.concat([pd.Series(1,index=X_Validation.index, name='00'), X_Validation], axis =1)\n",
        "\n",
        "#Time to set theta's for Training and validation\n",
        "theta_training = np.array([0]*len(training_input.columns))\n",
        "theta_validation = np.array([0]*len(validation_input.columns))\n",
        "\n",
        "#Getting the training_example values from outputs\n",
        "training_examples = len(Y_training)\n",
        "validation_examples = len(Y_Validation)\n"
      ],
      "metadata": {
        "id": "TAbLEUhLBr3I"
      },
      "execution_count": 9,
      "outputs": []
    },
    {
      "cell_type": "code",
      "source": [
        "#Loss calculation for both the training and validation set.\n",
        "Loss_training = compute_loss(training_input,Y_training,theta_training,training_examples)\n",
        "print(Loss_training)\n",
        "\n",
        "Loss_validation = compute_loss(validation_input,Y_Validation,theta_validation,validation_examples)\n",
        "print(Loss_validation)"
      ],
      "metadata": {
        "colab": {
          "base_uri": "https://localhost:8080/"
        },
        "id": "DLc3YEw9CYvU",
        "outputId": "871b06b3-a68c-4481-e0d8-de021b7bf8ae"
      },
      "execution_count": 10,
      "outputs": [
        {
          "output_type": "stream",
          "name": "stdout",
          "text": [
            "13090392247968.578\n",
            "13173012831422.02\n"
          ]
        }
      ]
    },
    {
      "cell_type": "code",
      "source": [
        "##Time to do some gradient descent for both sets.\n",
        "\n",
        "#Training\n",
        "theta_training = [0.,0.,0.,0.,0.,0.,0.,0.,0.,0.,0.,0.]\n",
        "iterations = 1000;\n",
        "alpha = 0.000000001;\n",
        "\n",
        "theta_training, Loss_training = gradient_descent(training_input,Y_training,theta_training,training_examples,alpha, iterations)\n",
        "print('Final value of theta =', theta_training)\n",
        "\n",
        "#Validation\n",
        "theta_validation = [0.,0.,0.,0.,0.,0.,0.,0.,0.,0.,0.,0.]\n",
        "iterations = 1000;\n",
        "alpha = 0.000000001;\n",
        "\n",
        "theta_validation, Loss_validation = gradient_descent(validation_input,Y_Validation,theta_validation,validation_examples, alpha, iterations)\n",
        "print('Final value of theta =', theta_validation)"
      ],
      "metadata": {
        "colab": {
          "base_uri": "https://localhost:8080/"
        },
        "id": "6KvyXjTYCZZY",
        "outputId": "d97f2b49-b434-48d1-a14f-7febd78c85f8"
      },
      "execution_count": 11,
      "outputs": [
        {
          "output_type": "stream",
          "name": "stdout",
          "text": [
            "Final value of theta = 00                   0.501799\n",
            "area               853.093192\n",
            "bedrooms             1.791898\n",
            "bathrooms            0.919229\n",
            "stories              1.470922\n",
            "mainroad             0.452044\n",
            "guestroom            0.176261\n",
            "basement             0.318283\n",
            "hotwaterheating      0.062649\n",
            "airconditioning      0.398999\n",
            "parking              0.380779\n",
            "prefarea             0.222610\n",
            "dtype: float64\n",
            "Final value of theta = 00                   0.494593\n",
            "area               866.477572\n",
            "bedrooms             1.770989\n",
            "bathrooms            1.092558\n",
            "stories              1.390253\n",
            "mainroad             0.403107\n",
            "guestroom            0.170143\n",
            "basement             0.229670\n",
            "hotwaterheating      0.064503\n",
            "airconditioning      0.235883\n",
            "parking              0.575008\n",
            "prefarea             0.105217\n",
            "dtype: float64\n"
          ]
        }
      ]
    },
    {
      "cell_type": "code",
      "source": [
        "#Time to graph the loss.\n",
        "plt.plot(range(1,iterations + 1), Loss_training, color = 'blue')\n",
        "plt.plot(range(1,iterations + 1), Loss_validation, color = 'red')\n",
        "plt.rcParams[\"figure.figsize\"] = (10,6)\n",
        "plt.grid()\n",
        "plt.xlabel('Number of iterations')\n",
        "plt.ylabel('Loss (J)')\n",
        "plt.title('Convergence of gradient descent')"
      ],
      "metadata": {
        "colab": {
          "base_uri": "https://localhost:8080/",
          "height": 421
        },
        "id": "3gZKz6rSCgkb",
        "outputId": "0d2765d8-9aa7-4ef8-88a6-c19243384306"
      },
      "execution_count": 12,
      "outputs": [
        {
          "output_type": "execute_result",
          "data": {
            "text/plain": [
              "Text(0.5, 1.0, 'Convergence of gradient descent')"
            ]
          },
          "metadata": {},
          "execution_count": 12
        },
        {
          "output_type": "display_data",
          "data": {
            "text/plain": [
              "<Figure size 720x432 with 1 Axes>"
            ],
            "image/png": "[encoded data removed]"
          },
          "metadata": {
            "needs_background": "light"
          }
        }
      ]
    },
    {
      "cell_type": "markdown",
      "source": [
        "Problem 2 (30 points)\n",
        "\n",
        "2.a) Repeat problem 1 a, this time with input normalization and input standardization as part of your pre-processing logic. You need to perform two separate trainings for standardization and normalization. \n",
        "\n",
        "Plot the training and validation losses for both training and validation set based on input standardization and input normalization. Compare your training accuracy between both scaling approaches as well as the baseline training in problem 1 a. Which input scaling achieves the best training? Explain your results."
      ],
      "metadata": {
        "id": "r-ry9fEzmPJJ"
      }
    },
    {
      "cell_type": "code",
      "source": [
        "##Import Data Set\n",
        "data_set_file_path ='/content/drive/MyDrive/Intro to Machine Learning/Housing.csv'\n",
        "\n",
        "## Read CSV & Print\n",
        "csv = pd.read_csv(data_set_file_path)\n",
        "print(csv.shape)\n",
        "\n",
        "## Set Data Frame for normalized Set\n",
        "NORM_DF = csv\n",
        "print(NORM_DF.head)\n",
        "\n",
        "##Set Data Fram for Standardized Set\n",
        "STANDARD_DF = csv\n",
        "print(STANDARD_DF.head)\n"
      ],
      "metadata": {
        "colab": {
          "base_uri": "https://localhost:8080/"
        },
        "id": "KyDjFz1iD-gy",
        "outputId": "99e8309e-ca16-41db-dcb4-f44549a6fa4b"
      },
      "execution_count": 13,
      "outputs": [
        {
          "output_type": "stream",
          "name": "stdout",
          "text": [
            "(545, 13)\n",
            "<bound method NDFrame.head of         price  area  bedrooms  bathrooms  stories mainroad guestroom basement  \\\n",
            "0    13300000  7420         4          2        3      yes        no       no   \n",
            "1    12250000  8960         4          4        4      yes        no       no   \n",
            "2    12250000  9960         3          2        2      yes        no      yes   \n",
            "3    12215000  7500         4          2        2      yes        no      yes   \n",
            "4    11410000  7420         4          1        2      yes       yes      yes   \n",
            "..        ...   ...       ...        ...      ...      ...       ...      ...   \n",
            "540   1820000  3000         2          1        1      yes        no      yes   \n",
            "541   1767150  2400         3          1        1       no        no       no   \n",
            "542   1750000  3620         2          1        1      yes        no       no   \n",
            "543   1750000  2910         3          1        1       no        no       no   \n",
            "544   1750000  3850         3          1        2      yes        no       no   \n",
            "\n",
            "    hotwaterheating airconditioning  parking prefarea furnishingstatus  \n",
            "0                no             yes        2      yes        furnished  \n",
            "1                no             yes        3       no        furnished  \n",
            "2                no              no        2      yes   semi-furnished  \n",
            "3                no             yes        3      yes        furnished  \n",
            "4                no             yes        2       no        furnished  \n",
            "..              ...             ...      ...      ...              ...  \n",
            "540              no              no        2       no      unfurnished  \n",
            "541              no              no        0       no   semi-furnished  \n",
            "542              no              no        0       no      unfurnished  \n",
            "543              no              no        0       no        furnished  \n",
            "544              no              no        0       no      unfurnished  \n",
            "\n",
            "[545 rows x 13 columns]>\n",
            "<bound method NDFrame.head of         price  area  bedrooms  bathrooms  stories mainroad guestroom basement  \\\n",
            "0    13300000  7420         4          2        3      yes        no       no   \n",
            "1    12250000  8960         4          4        4      yes        no       no   \n",
            "2    12250000  9960         3          2        2      yes        no      yes   \n",
            "3    12215000  7500         4          2        2      yes        no      yes   \n",
            "4    11410000  7420         4          1        2      yes       yes      yes   \n",
            "..        ...   ...       ...        ...      ...      ...       ...      ...   \n",
            "540   1820000  3000         2          1        1      yes        no      yes   \n",
            "541   1767150  2400         3          1        1       no        no       no   \n",
            "542   1750000  3620         2          1        1      yes        no       no   \n",
            "543   1750000  2910         3          1        1       no        no       no   \n",
            "544   1750000  3850         3          1        2      yes        no       no   \n",
            "\n",
            "    hotwaterheating airconditioning  parking prefarea furnishingstatus  \n",
            "0                no             yes        2      yes        furnished  \n",
            "1                no             yes        3       no        furnished  \n",
            "2                no              no        2      yes   semi-furnished  \n",
            "3                no             yes        3      yes        furnished  \n",
            "4                no             yes        2       no        furnished  \n",
            "..              ...             ...      ...      ...              ...  \n",
            "540              no              no        2       no      unfurnished  \n",
            "541              no              no        0       no   semi-furnished  \n",
            "542              no              no        0       no      unfurnished  \n",
            "543              no              no        0       no        furnished  \n",
            "544              no              no        0       no      unfurnished  \n",
            "\n",
            "[545 rows x 13 columns]>\n"
          ]
        }
      ]
    },
    {
      "cell_type": "code",
      "source": [
        "#Need to make categories useful.\n",
        "\n",
        "#Normalized Set WIP\n",
        "NORM_DF = useful_category(NORM_DF)\n",
        "print(NORM_DF.head)\n",
        "\n",
        "#Standardized Set WIP\n",
        "STANDARD_DF = useful_category(STANDARD_DF)\n",
        "print(STANDARD_DF.head)\n"
      ],
      "metadata": {
        "colab": {
          "base_uri": "https://localhost:8080/"
        },
        "id": "wnQgf_IIGeQf",
        "outputId": "90d09ba9-2ecb-4901-c15c-a9b780577773"
      },
      "execution_count": 14,
      "outputs": [
        {
          "output_type": "stream",
          "name": "stdout",
          "text": [
            "<bound method NDFrame.head of         price  area  bedrooms  bathrooms  stories  mainroad  guestroom  \\\n",
            "0    13300000  7420         4          2        3         1          0   \n",
            "1    12250000  8960         4          4        4         1          0   \n",
            "2    12250000  9960         3          2        2         1          0   \n",
            "3    12215000  7500         4          2        2         1          0   \n",
            "4    11410000  7420         4          1        2         1          1   \n",
            "..        ...   ...       ...        ...      ...       ...        ...   \n",
            "540   1820000  3000         2          1        1         1          0   \n",
            "541   1767150  2400         3          1        1         0          0   \n",
            "542   1750000  3620         2          1        1         1          0   \n",
            "543   1750000  2910         3          1        1         0          0   \n",
            "544   1750000  3850         3          1        2         1          0   \n",
            "\n",
            "     basement  hotwaterheating  airconditioning  parking  prefarea  \\\n",
            "0           0                0                1        2         1   \n",
            "1           0                0                1        3         0   \n",
            "2           1                0                0        2         1   \n",
            "3           1                0                1        3         1   \n",
            "4           1                0                1        2         0   \n",
            "..        ...              ...              ...      ...       ...   \n",
            "540         1                0                0        2         0   \n",
            "541         0                0                0        0         0   \n",
            "542         0                0                0        0         0   \n",
            "543         0                0                0        0         0   \n",
            "544         0                0                0        0         0   \n",
            "\n",
            "     furnishingstatus  \n",
            "0                   0  \n",
            "1                   0  \n",
            "2                   1  \n",
            "3                   0  \n",
            "4                   0  \n",
            "..                ...  \n",
            "540                 2  \n",
            "541                 1  \n",
            "542                 2  \n",
            "543                 0  \n",
            "544                 2  \n",
            "\n",
            "[545 rows x 13 columns]>\n",
            "<bound method NDFrame.head of         price  area  bedrooms  bathrooms  stories  mainroad  guestroom  \\\n",
            "0    13300000  7420         4          2        3         1          0   \n",
            "1    12250000  8960         4          4        4         1          0   \n",
            "2    12250000  9960         3          2        2         1          0   \n",
            "3    12215000  7500         4          2        2         1          0   \n",
            "4    11410000  7420         4          1        2         1          1   \n",
            "..        ...   ...       ...        ...      ...       ...        ...   \n",
            "540   1820000  3000         2          1        1         1          0   \n",
            "541   1767150  2400         3          1        1         0          0   \n",
            "542   1750000  3620         2          1        1         1          0   \n",
            "543   1750000  2910         3          1        1         0          0   \n",
            "544   1750000  3850         3          1        2         1          0   \n",
            "\n",
            "     basement  hotwaterheating  airconditioning  parking  prefarea  \\\n",
            "0           0                0                1        2         1   \n",
            "1           0                0                1        3         0   \n",
            "2           1                0                0        2         1   \n",
            "3           1                0                1        3         1   \n",
            "4           1                0                1        2         0   \n",
            "..        ...              ...              ...      ...       ...   \n",
            "540         1                0                0        2         0   \n",
            "541         0                0                0        0         0   \n",
            "542         0                0                0        0         0   \n",
            "543         0                0                0        0         0   \n",
            "544         0                0                0        0         0   \n",
            "\n",
            "     furnishingstatus  \n",
            "0                   0  \n",
            "1                   0  \n",
            "2                   1  \n",
            "3                   0  \n",
            "4                   0  \n",
            "..                ...  \n",
            "540                 2  \n",
            "541                 1  \n",
            "542                 2  \n",
            "543                 0  \n",
            "544                 2  \n",
            "\n",
            "[545 rows x 13 columns]>\n"
          ]
        }
      ]
    },
    {
      "cell_type": "code",
      "source": [
        "#Time to standardize and normalize the sets.\n",
        "\n",
        "#Standardize Set DONE\n",
        "\n",
        "S_Columns = STANDARD_DF.columns\n",
        "scaler = preprocessing.StandardScaler().fit(STANDARD_DF) # fit does nothing\n",
        "scaler\n",
        "STANDARD_DF[S_Columns] = scaler.transform(STANDARD_DF[S_Columns])\n",
        "\n"
      ],
      "metadata": {
        "id": "NY7uIZ-wJ8W0"
      },
      "execution_count": 15,
      "outputs": []
    },
    {
      "cell_type": "code",
      "source": [
        "#Normalize Set DONE \n",
        "N_Columns = NORM_DF.columns\n",
        "normalizer = preprocessing.Normalizer().fit(NORM_DF)  # fit does nothing\n",
        "NORM_DF[N_Columns] = normalizer.transform(NORM_DF[N_Columns])\n"
      ],
      "metadata": {
        "id": "AOAY567NSeLG"
      },
      "execution_count": 16,
      "outputs": []
    },
    {
      "cell_type": "code",
      "source": [
        "col_p1 = ['area', 'bedrooms', 'bathrooms', 'stories', 'parking']\n",
        "\n",
        "#Set Inputs & Outputs\n",
        "\n",
        "#Standardized\n",
        "Standard_Input = STANDARD_DF[col_p1]\n",
        "Standard_Output = STANDARD_DF.iloc[:,0]\n",
        "\n",
        "#Normalized\n",
        "Norm_Input = NORM_DF[col_p1]\n",
        "Norm_Output = NORM_DF.iloc[:,0]\n",
        "\n",
        "\n",
        "#Time to split sets.\n",
        "X_Standard_training, X_Standard_Validation, Y_Standard_training, Y_Standard_Validation = train_test_split(Standard_Input, Standard_Output, test_size = .2, random_state = 420)\n",
        "X_Norm_training, X_Norm_Validation, Y_Norm_training, Y_Norm_Validation = train_test_split(Norm_Input,Norm_Output, test_size = .2, random_state = 420)\n",
        "\n",
        "\n",
        "#Time to add ones vector to both inputs.\n",
        "\n",
        "#Normalized\n",
        "norm_training_input = pd.concat([pd.Series(1, index=X_Norm_training.index, name='00'), X_Norm_training], axis=1)\n",
        "norm_validation_input = pd.concat([pd.Series(1,index=X_Norm_Validation.index, name='00'), X_Norm_Validation], axis =1)\n",
        "\n",
        "#Standardized\n",
        "standard_training_input = pd.concat([pd.Series(1, index=X_Standard_training.index, name='00'), X_Norm_training], axis=1)\n",
        "standard_validation_input = pd.concat([pd.Series(1,index=X_Standard_Validation.index, name='00'), X_Norm_Validation], axis =1)\n",
        "\n",
        "#Time to set theta's for Training and validation\n",
        "\n",
        "#Normalized\n",
        "norm_theta_training = np.array([0]*len(norm_training_input.columns))\n",
        "norm_theta_validation = np.array([0]*len(norm_validation_input.columns))\n",
        "\n",
        "#Standardized\n",
        "standard_theta_training = np.array([0]*len(standard_training_input.columns))\n",
        "standard_theta_validation = np.array([0]*len(standard_validation_input.columns))\n",
        "\n",
        "#Getting the training_example values from outputs\n",
        "\n",
        "#Normalized\n",
        "norm_training_examples = len(Y_Norm_training)\n",
        "norm_validation_examples = len(Y_Norm_Validation)\n",
        "\n",
        "#Standardized\n",
        "standard_training_examples = len(Y_Standard_training)\n",
        "standard_validation_examples = len(Y_Standard_Validation)\n"
      ],
      "metadata": {
        "id": "XCkK7Oq3Lz8H"
      },
      "execution_count": 17,
      "outputs": []
    },
    {
      "cell_type": "code",
      "source": [
        "#Loss calculation for both the training and validation set.\n",
        "\n",
        "#Normalized\n",
        "Norm_Loss_training = compute_loss(norm_training_input,Y_Norm_training,norm_theta_training,norm_training_examples)\n",
        "print(Norm_Loss_training)\n",
        "\n",
        "Norm_Loss_validation = compute_loss(norm_validation_input,Y_Norm_Validation,norm_theta_validation,norm_validation_examples)\n",
        "print(Norm_Loss_validation)\n",
        "\n",
        "\n",
        "#Standardized\n",
        "Standard_Loss_training = compute_loss(standard_training_input,Y_Standard_training,standard_theta_training,standard_training_examples)\n",
        "print(Standard_Loss_training)\n",
        "\n",
        "Standard_Loss_validation = compute_loss(standard_validation_input,Y_Standard_Validation,standard_theta_validation,standard_validation_examples)\n",
        "print(Standard_Loss_validation)"
      ],
      "metadata": {
        "colab": {
          "base_uri": "https://localhost:8080/"
        },
        "id": "CLEHDc-dMFBe",
        "outputId": "26d8f663-4541-4ca1-ab33-1fb449d63907"
      },
      "execution_count": 18,
      "outputs": [
        {
          "output_type": "stream",
          "name": "stdout",
          "text": [
            "0.034184007188717\n",
            "0.03285794079291208\n",
            "0.034184007188717\n",
            "0.03285794079291208\n"
          ]
        }
      ]
    },
    {
      "cell_type": "code",
      "source": [
        "##Time to do some gradient descent for both sets.\n",
        "\n",
        "#Training\n",
        "\n",
        "#Normalized\n",
        "norm_theta_training = [0.,0.,0.,0.,0.,0.]\n",
        "iterations = 1000;\n",
        "alpha = 0.1;\n",
        "\n",
        "Norm_theta_training, Norm_Loss_training = gradient_descent(norm_training_input,Y_Norm_training,norm_theta_training,norm_training_examples,alpha, iterations)\n",
        "print('Final value of theta =', Norm_theta_training)\n",
        "\n",
        "\n",
        "#Standardized\n",
        "standard_theta_training = [0.,0.,0.,0.,0.,0.]\n",
        "iterations = 1000;\n",
        "alpha = 0.1;\n",
        "\n",
        "Standard_theta_training, Standard_Loss_training = gradient_descent(standard_training_input,Y_Standard_training,standard_theta_training,standard_training_examples,alpha, iterations)\n",
        "print('Final value of theta =', Standard_theta_training)\n",
        "\n",
        "\n",
        "#Validation\n",
        "\n",
        "#Normalized\n",
        "norm_theta_validation = [0.,0.,0.,0.,0.,0.]\n",
        "iterations = 1000;\n",
        "alpha = 0.1;\n",
        "\n",
        "norm_theta_validation, Norm_Loss_validation = gradient_descent(norm_validation_input,Y_Norm_Validation,norm_theta_validation,norm_validation_examples, alpha, iterations)\n",
        "print('Final value of theta =', norm_theta_validation)\n",
        "\n",
        "#Stanardized\n",
        "standard_theta_validation = [0.,0.,0.,0.,0.,0.]\n",
        "iterations = 1000;\n",
        "alpha = 0.1;\n",
        "\n",
        "standard_theta_validation, Standard_Loss_validation = gradient_descent(standard_validation_input,Y_Standard_Validation,standard_theta_validation,standard_validation_examples, alpha, iterations)\n",
        "print('Final value of theta =', standard_theta_validation)"
      ],
      "metadata": {
        "colab": {
          "base_uri": "https://localhost:8080/"
        },
        "id": "zF9PxcYXMPIm",
        "outputId": "3545533d-a2de-4e16-d640-d155a43956af"
      },
      "execution_count": 19,
      "outputs": [
        {
          "output_type": "stream",
          "name": "stdout",
          "text": [
            "Final value of theta = 00          -0.009359\n",
            "area         0.368378\n",
            "bedrooms     0.065365\n",
            "bathrooms    0.295301\n",
            "stories      0.241158\n",
            "parking      0.133619\n",
            "dtype: float64\n",
            "Final value of theta = 00          -0.009359\n",
            "area         0.368378\n",
            "bedrooms     0.065365\n",
            "bathrooms    0.295301\n",
            "stories      0.241158\n",
            "parking      0.133619\n",
            "dtype: float64\n",
            "Final value of theta = 00          -0.005731\n",
            "area         0.404796\n",
            "bedrooms     0.035225\n",
            "bathrooms    0.271306\n",
            "stories      0.267136\n",
            "parking      0.148416\n",
            "dtype: float64\n",
            "Final value of theta = 00          -0.005731\n",
            "area         0.404796\n",
            "bedrooms     0.035225\n",
            "bathrooms    0.271306\n",
            "stories      0.267136\n",
            "parking      0.148416\n",
            "dtype: float64\n"
          ]
        }
      ]
    },
    {
      "cell_type": "code",
      "source": [
        "#Time to graph the loss.\n",
        "plt.plot(range(1,iterations + 1), Norm_Loss_training, color = 'blue')\n",
        "plt.plot(range(1,iterations + 1), Norm_Loss_validation, color = 'red')\n",
        "plt.rcParams[\"figure.figsize\"] = (10,6)\n",
        "plt.grid()\n",
        "plt.xlabel('Number of iterations')\n",
        "plt.ylabel('Loss (J)')\n",
        "plt.title('Convergence of gradient descent')"
      ],
      "metadata": {
        "colab": {
          "base_uri": "https://localhost:8080/",
          "height": 421
        },
        "id": "_NItkIZChM-Q",
        "outputId": "52ade516-07f2-4c03-f80d-7d1a25c77db4"
      },
      "execution_count": 20,
      "outputs": [
        {
          "output_type": "execute_result",
          "data": {
            "text/plain": [
              "Text(0.5, 1.0, 'Convergence of gradient descent')"
            ]
          },
          "metadata": {},
          "execution_count": 20
        },
        {
          "output_type": "display_data",
          "data": {
            "text/plain": [
              "<Figure size 720x432 with 1 Axes>"
            ],
            "image/png": "[encoded data removed]"
          },
          "metadata": {
            "needs_background": "light"
          }
        }
      ]
    },
    {
      "cell_type": "code",
      "source": [
        "plt.plot(range(1,iterations + 1), Standard_Loss_training, color = 'blue')\n",
        "plt.plot(range(1,iterations + 1), Standard_Loss_validation, color = 'red')\n",
        "plt.rcParams[\"figure.figsize\"] = (10,6)\n",
        "plt.grid()\n",
        "plt.xlabel('Number of iterations')\n",
        "plt.ylabel('Loss (J)')\n",
        "plt.title('Convergence of gradient descent')"
      ],
      "metadata": {
        "colab": {
          "base_uri": "https://localhost:8080/",
          "height": 421
        },
        "id": "NIo0tfXPpnWQ",
        "outputId": "fdef7602-abb6-4fc1-f673-3b8aa9f18aa6"
      },
      "execution_count": 21,
      "outputs": [
        {
          "output_type": "execute_result",
          "data": {
            "text/plain": [
              "Text(0.5, 1.0, 'Convergence of gradient descent')"
            ]
          },
          "metadata": {},
          "execution_count": 21
        },
        {
          "output_type": "display_data",
          "data": {
            "text/plain": [
              "<Figure size 720x432 with 1 Axes>"
            ],
            "image/png": "[encoded data removed]"
          },
          "metadata": {
            "needs_background": "light"
          }
        }
      ]
    },
    {
      "cell_type": "markdown",
      "source": [
        "2.b) Repeat problem 1 b, this time with input normalization and input standardization as part of your pre-processing logic. You need to perform two separate trainings for standardization and normalization. \n",
        "\n",
        "Plot the training and validation losses for both training and validation set based on input standardization and input normalization. Compare your training accuracy between both scaling approaches as well as the baseline training in problem 1 b. Which input scaling achieves the best training? Explain your results."
      ],
      "metadata": {
        "id": "4ScnP8HRhG-3"
      }
    },
    {
      "cell_type": "code",
      "source": [
        "col_p2 = ['area', 'bedrooms', 'bathrooms', 'stories', 'mainroad', 'guestroom', 'basement', 'hotwaterheating', 'airconditioning', 'parking', 'prefarea']\n",
        "\n",
        "\n",
        "#Set Inputs & Outputs\n",
        "\n",
        "#Standardized\n",
        "Standard_Input = STANDARD_DF[col_p2]\n",
        "Standard_Output = STANDARD_DF.iloc[:,0]\n",
        "\n",
        "#Normalized\n",
        "Norm_Input = NORM_DF[col_p2]\n",
        "Norm_Output = NORM_DF.iloc[:,0]\n",
        "\n",
        "\n",
        "#Time to split sets.\n",
        "X_Standard_training, X_Standard_Validation, Y_Standard_training, Y_Standard_Validation = train_test_split(Standard_Input, Standard_Output, test_size = .2, random_state = 420)\n",
        "X_Norm_training, X_Norm_Validation, Y_Norm_training, Y_Norm_Validation = train_test_split(Norm_Input,Norm_Output, test_size = .2, random_state = 420)\n",
        "\n",
        "\n",
        "#Time to add ones vector to both inputs.\n",
        "\n",
        "#Normalized\n",
        "norm_training_input = pd.concat([pd.Series(1, index=X_Norm_training.index, name='00'), X_Norm_training], axis=1)\n",
        "norm_validation_input = pd.concat([pd.Series(1,index=X_Norm_Validation.index, name='00'), X_Norm_Validation], axis =1)\n",
        "\n",
        "#Standardized\n",
        "standard_training_input = pd.concat([pd.Series(1, index=X_Standard_training.index, name='00'), X_Norm_training], axis=1)\n",
        "standard_validation_input = pd.concat([pd.Series(1,index=X_Standard_Validation.index, name='00'), X_Norm_Validation], axis =1)\n",
        "\n",
        "#Time to set theta's for Training and validation\n",
        "\n",
        "#Normalized\n",
        "norm_theta_training = np.array([0]*len(norm_training_input.columns))\n",
        "norm_theta_validation = np.array([0]*len(norm_validation_input.columns))\n",
        "\n",
        "#Standardized\n",
        "standard_theta_training = np.array([0]*len(standard_training_input.columns))\n",
        "standard_theta_validation = np.array([0]*len(standard_validation_input.columns))\n",
        "\n",
        "#Getting the training_example values from outputs\n",
        "\n",
        "#Normalized\n",
        "norm_training_examples = len(Y_Norm_training)\n",
        "norm_validation_examples = len(Y_Norm_Validation)\n",
        "\n",
        "#Standardized\n",
        "standard_training_examples = len(Y_Standard_training)\n",
        "standard_validation_examples = len(Y_Standard_Validation)"
      ],
      "metadata": {
        "id": "M82igs15pYHv"
      },
      "execution_count": 22,
      "outputs": []
    },
    {
      "cell_type": "code",
      "source": [
        "#Loss calculation for both the training and validation set.\n",
        "\n",
        "#Normalized\n",
        "Norm_Loss_training = compute_loss(norm_training_input,Y_Norm_training,norm_theta_training,norm_training_examples)\n",
        "print(Norm_Loss_training)\n",
        "\n",
        "Norm_Loss_validation = compute_loss(norm_validation_input,Y_Norm_Validation,norm_theta_validation,norm_validation_examples)\n",
        "print(Norm_Loss_validation)\n",
        "\n",
        "\n",
        "#Standardized\n",
        "Standard_Loss_training = compute_loss(standard_training_input,Y_Standard_training,standard_theta_training,standard_training_examples)\n",
        "print(Standard_Loss_training)\n",
        "\n",
        "Standard_Loss_validation = compute_loss(standard_validation_input,Y_Standard_Validation,standard_theta_validation,standard_validation_examples)\n",
        "print(Standard_Loss_validation)"
      ],
      "metadata": {
        "colab": {
          "base_uri": "https://localhost:8080/"
        },
        "id": "cHC9iNVeqFrP",
        "outputId": "5c77f3b9-ef2f-4fa5-e54f-a8f5cf0e88eb"
      },
      "execution_count": 23,
      "outputs": [
        {
          "output_type": "stream",
          "name": "stdout",
          "text": [
            "0.034184007188717\n",
            "0.03285794079291208\n",
            "0.034184007188717\n",
            "0.03285794079291208\n"
          ]
        }
      ]
    },
    {
      "cell_type": "code",
      "source": [
        "##Time to do some gradient descent for both sets.\n",
        "\n",
        "#Training\n",
        "\n",
        "#Normalized\n",
        "norm_theta_training = [0.,0.,0.,0.,0.,0.,0.,0.,0.,0.,0.,0.]\n",
        "iterations = 1000;\n",
        "alpha = 0.1;\n",
        "\n",
        "Norm_theta_training, Norm_Loss_training = gradient_descent(norm_training_input,Y_Norm_training,norm_theta_training,norm_training_examples,alpha, iterations)\n",
        "print('Final value of theta =', Norm_theta_training)\n",
        "\n",
        "\n",
        "#Standardized\n",
        "standard_theta_training = [0.,0.,0.,0.,0.,0.,0.,0.,0.,0.,0.,0.]\n",
        "iterations = 1000;\n",
        "alpha = 0.1;\n",
        "\n",
        "Standard_theta_training, Standard_Loss_training = gradient_descent(standard_training_input,Y_Standard_training,standard_theta_training,standard_training_examples,alpha, iterations)\n",
        "print('Final value of theta =', Standard_theta_training)\n",
        "\n",
        "\n",
        "#Validation\n",
        "\n",
        "#Normalized\n",
        "norm_theta_validation = [0.,0.,0.,0.,0.,0.,0.,0.,0.,0.,0.,0.]\n",
        "iterations = 1000;\n",
        "alpha = 0.1;\n",
        "\n",
        "norm_theta_validation, Norm_Loss_validation = gradient_descent(norm_validation_input,Y_Norm_Validation,norm_theta_validation,norm_validation_examples, alpha, iterations)\n",
        "print('Final value of theta =', norm_theta_validation)\n",
        "\n",
        "#Stanardized\n",
        "standard_theta_validation = [0.,0.,0.,0.,0.,0.,0.,0.,0.,0.,0.,0.]\n",
        "iterations = 1000;\n",
        "alpha = 0.1;\n",
        "\n",
        "standard_theta_validation, Standard_Loss_validation = gradient_descent(standard_validation_input,Y_Standard_Validation,standard_theta_validation,standard_validation_examples, alpha, iterations)\n",
        "print('Final value of theta =', standard_theta_validation)"
      ],
      "metadata": {
        "colab": {
          "base_uri": "https://localhost:8080/"
        },
        "id": "ec6olsp9uQw3",
        "outputId": "88ab0faf-0a52-4449-9ccb-b221570892c6"
      },
      "execution_count": 24,
      "outputs": [
        {
          "output_type": "stream",
          "name": "stdout",
          "text": [
            "Final value of theta = 00                -0.003523\n",
            "area               0.288841\n",
            "bedrooms           0.049906\n",
            "bathrooms          0.236165\n",
            "stories            0.193323\n",
            "mainroad           0.073016\n",
            "guestroom          0.076684\n",
            "basement           0.077761\n",
            "hotwaterheating    0.093153\n",
            "airconditioning    0.201557\n",
            "parking            0.101121\n",
            "prefarea           0.143223\n",
            "dtype: float64\n",
            "Final value of theta = 00                -0.003523\n",
            "area               0.288841\n",
            "bedrooms           0.049906\n",
            "bathrooms          0.236165\n",
            "stories            0.193323\n",
            "mainroad           0.073016\n",
            "guestroom          0.076684\n",
            "basement           0.077761\n",
            "hotwaterheating    0.093153\n",
            "airconditioning    0.201557\n",
            "parking            0.101121\n",
            "prefarea           0.143223\n",
            "dtype: float64\n",
            "Final value of theta = 00                 0.001299\n",
            "area               0.232282\n",
            "bedrooms           0.036328\n",
            "bathrooms          0.234676\n",
            "stories            0.260898\n",
            "mainroad           0.119304\n",
            "guestroom          0.059446\n",
            "basement           0.068892\n",
            "hotwaterheating    0.102280\n",
            "airconditioning    0.144821\n",
            "parking            0.142395\n",
            "prefarea           0.160116\n",
            "dtype: float64\n",
            "Final value of theta = 00                 0.001299\n",
            "area               0.232282\n",
            "bedrooms           0.036328\n",
            "bathrooms          0.234676\n",
            "stories            0.260898\n",
            "mainroad           0.119304\n",
            "guestroom          0.059446\n",
            "basement           0.068892\n",
            "hotwaterheating    0.102280\n",
            "airconditioning    0.144821\n",
            "parking            0.142395\n",
            "prefarea           0.160116\n",
            "dtype: float64\n"
          ]
        }
      ]
    },
    {
      "cell_type": "code",
      "source": [
        "#Time to graph the loss.\n",
        "plt.plot(range(1,iterations + 1), Norm_Loss_training, color = 'blue')\n",
        "plt.plot(range(1,iterations + 1), Norm_Loss_validation, color = 'red')\n",
        "plt.rcParams[\"figure.figsize\"] = (10,6)\n",
        "plt.grid()\n",
        "plt.xlabel('Number of iterations')\n",
        "plt.ylabel('Loss (J)')\n",
        "plt.title('Convergence of gradient descent')"
      ],
      "metadata": {
        "colab": {
          "base_uri": "https://localhost:8080/",
          "height": 421
        },
        "id": "vvLkkU5BvCox",
        "outputId": "3c56bf9b-7aef-4a8e-87f1-38cf22bd7e80"
      },
      "execution_count": 25,
      "outputs": [
        {
          "output_type": "execute_result",
          "data": {
            "text/plain": [
              "Text(0.5, 1.0, 'Convergence of gradient descent')"
            ]
          },
          "metadata": {},
          "execution_count": 25
        },
        {
          "output_type": "display_data",
          "data": {
            "text/plain": [
              "<Figure size 720x432 with 1 Axes>"
            ],
            "image/png": "[encoded data removed]"
          },
          "metadata": {
            "needs_background": "light"
          }
        }
      ]
    },
    {
      "cell_type": "code",
      "source": [
        "plt.plot(range(1,iterations + 1), Standard_Loss_training, color = 'blue')\n",
        "plt.plot(range(1,iterations + 1), Standard_Loss_validation, color = 'red')\n",
        "plt.rcParams[\"figure.figsize\"] = (10,6)\n",
        "plt.grid()\n",
        "plt.xlabel('Number of iterations')\n",
        "plt.ylabel('Loss (J)')\n",
        "plt.title('Convergence of gradient descent')"
      ],
      "metadata": {
        "colab": {
          "base_uri": "https://localhost:8080/",
          "height": 421
        },
        "id": "DBanircfvDdA",
        "outputId": "94fbee3d-71f0-467f-84ba-b20e0b857ccb"
      },
      "execution_count": 26,
      "outputs": [
        {
          "output_type": "execute_result",
          "data": {
            "text/plain": [
              "Text(0.5, 1.0, 'Convergence of gradient descent')"
            ]
          },
          "metadata": {},
          "execution_count": 26
        },
        {
          "output_type": "display_data",
          "data": {
            "text/plain": [
              "<Figure size 720x432 with 1 Axes>"
            ],
            "image/png": "[encoded data removed]"
          },
          "metadata": {
            "needs_background": "light"
          }
        }
      ]
    },
    {
      "cell_type": "markdown",
      "source": [
        "**Problem 3 (40 points)**\n",
        "\n",
        "3.a) Repeat problem 2 a, this time by adding parameters penalty to your loss function. Note that in this case, you need to modify the gradient decent logic for your training set, but you don’t need to change your loss for the evaluation set.  \n",
        "\n",
        "Plot your results (both training and evaluation losses) for the best input scaling approach (standardization or normalization). Explain your results and compare them against problem 2 a. \n",
        "\n"
      ],
      "metadata": {
        "id": "q7g3ASUBmgth"
      }
    },
    {
      "cell_type": "code",
      "source": [
        "##Import Data Set\n",
        "data_set_file_path ='/content/drive/MyDrive/Intro to Machine Learning/Housing.csv'\n",
        "\n",
        "## Read CSV & Print\n",
        "csv = pd.read_csv(data_set_file_path)\n",
        "print(csv.shape)\n",
        "\n",
        "## Set Data Frame for normalized Set\n",
        "NORM_DF = csv\n",
        "print(NORM_DF.head)\n",
        "\n",
        "##Set Data Fram for Standardized Set\n",
        "STANDARD_DF = csv\n",
        "print(STANDARD_DF.head)\n"
      ],
      "metadata": {
        "colab": {
          "base_uri": "https://localhost:8080/"
        },
        "id": "PMbCysStvpjt",
        "outputId": "e03622a9-e146-4ffc-e898-716764edd759"
      },
      "execution_count": 27,
      "outputs": [
        {
          "output_type": "stream",
          "name": "stdout",
          "text": [
            "(545, 13)\n",
            "<bound method NDFrame.head of         price  area  bedrooms  bathrooms  stories mainroad guestroom basement  \\\n",
            "0    13300000  7420         4          2        3      yes        no       no   \n",
            "1    12250000  8960         4          4        4      yes        no       no   \n",
            "2    12250000  9960         3          2        2      yes        no      yes   \n",
            "3    12215000  7500         4          2        2      yes        no      yes   \n",
            "4    11410000  7420         4          1        2      yes       yes      yes   \n",
            "..        ...   ...       ...        ...      ...      ...       ...      ...   \n",
            "540   1820000  3000         2          1        1      yes        no      yes   \n",
            "541   1767150  2400         3          1        1       no        no       no   \n",
            "542   1750000  3620         2          1        1      yes        no       no   \n",
            "543   1750000  2910         3          1        1       no        no       no   \n",
            "544   1750000  3850         3          1        2      yes        no       no   \n",
            "\n",
            "    hotwaterheating airconditioning  parking prefarea furnishingstatus  \n",
            "0                no             yes        2      yes        furnished  \n",
            "1                no             yes        3       no        furnished  \n",
            "2                no              no        2      yes   semi-furnished  \n",
            "3                no             yes        3      yes        furnished  \n",
            "4                no             yes        2       no        furnished  \n",
            "..              ...             ...      ...      ...              ...  \n",
            "540              no              no        2       no      unfurnished  \n",
            "541              no              no        0       no   semi-furnished  \n",
            "542              no              no        0       no      unfurnished  \n",
            "543              no              no        0       no        furnished  \n",
            "544              no              no        0       no      unfurnished  \n",
            "\n",
            "[545 rows x 13 columns]>\n",
            "<bound method NDFrame.head of         price  area  bedrooms  bathrooms  stories mainroad guestroom basement  \\\n",
            "0    13300000  7420         4          2        3      yes        no       no   \n",
            "1    12250000  8960         4          4        4      yes        no       no   \n",
            "2    12250000  9960         3          2        2      yes        no      yes   \n",
            "3    12215000  7500         4          2        2      yes        no      yes   \n",
            "4    11410000  7420         4          1        2      yes       yes      yes   \n",
            "..        ...   ...       ...        ...      ...      ...       ...      ...   \n",
            "540   1820000  3000         2          1        1      yes        no      yes   \n",
            "541   1767150  2400         3          1        1       no        no       no   \n",
            "542   1750000  3620         2          1        1      yes        no       no   \n",
            "543   1750000  2910         3          1        1       no        no       no   \n",
            "544   1750000  3850         3          1        2      yes        no       no   \n",
            "\n",
            "    hotwaterheating airconditioning  parking prefarea furnishingstatus  \n",
            "0                no             yes        2      yes        furnished  \n",
            "1                no             yes        3       no        furnished  \n",
            "2                no              no        2      yes   semi-furnished  \n",
            "3                no             yes        3      yes        furnished  \n",
            "4                no             yes        2       no        furnished  \n",
            "..              ...             ...      ...      ...              ...  \n",
            "540              no              no        2       no      unfurnished  \n",
            "541              no              no        0       no   semi-furnished  \n",
            "542              no              no        0       no      unfurnished  \n",
            "543              no              no        0       no        furnished  \n",
            "544              no              no        0       no      unfurnished  \n",
            "\n",
            "[545 rows x 13 columns]>\n"
          ]
        }
      ]
    },
    {
      "cell_type": "code",
      "source": [
        "#Need to make categories useful.\n",
        "\n",
        "#Normalized Set WIP\n",
        "NORM_DF = useful_category(NORM_DF)\n",
        "print(NORM_DF.head)\n",
        "\n",
        "#Standardized Set WIP\n",
        "STANDARD_DF = useful_category(STANDARD_DF)\n",
        "print(STANDARD_DF.head)\n"
      ],
      "metadata": {
        "colab": {
          "base_uri": "https://localhost:8080/"
        },
        "id": "3lvrAWiWIt4C",
        "outputId": "13735b0e-5798-472b-938f-18033d917ddd"
      },
      "execution_count": 28,
      "outputs": [
        {
          "output_type": "stream",
          "name": "stdout",
          "text": [
            "<bound method NDFrame.head of         price  area  bedrooms  bathrooms  stories  mainroad  guestroom  \\\n",
            "0    13300000  7420         4          2        3         1          0   \n",
            "1    12250000  8960         4          4        4         1          0   \n",
            "2    12250000  9960         3          2        2         1          0   \n",
            "3    12215000  7500         4          2        2         1          0   \n",
            "4    11410000  7420         4          1        2         1          1   \n",
            "..        ...   ...       ...        ...      ...       ...        ...   \n",
            "540   1820000  3000         2          1        1         1          0   \n",
            "541   1767150  2400         3          1        1         0          0   \n",
            "542   1750000  3620         2          1        1         1          0   \n",
            "543   1750000  2910         3          1        1         0          0   \n",
            "544   1750000  3850         3          1        2         1          0   \n",
            "\n",
            "     basement  hotwaterheating  airconditioning  parking  prefarea  \\\n",
            "0           0                0                1        2         1   \n",
            "1           0                0                1        3         0   \n",
            "2           1                0                0        2         1   \n",
            "3           1                0                1        3         1   \n",
            "4           1                0                1        2         0   \n",
            "..        ...              ...              ...      ...       ...   \n",
            "540         1                0                0        2         0   \n",
            "541         0                0                0        0         0   \n",
            "542         0                0                0        0         0   \n",
            "543         0                0                0        0         0   \n",
            "544         0                0                0        0         0   \n",
            "\n",
            "     furnishingstatus  \n",
            "0                   0  \n",
            "1                   0  \n",
            "2                   1  \n",
            "3                   0  \n",
            "4                   0  \n",
            "..                ...  \n",
            "540                 2  \n",
            "541                 1  \n",
            "542                 2  \n",
            "543                 0  \n",
            "544                 2  \n",
            "\n",
            "[545 rows x 13 columns]>\n",
            "<bound method NDFrame.head of         price  area  bedrooms  bathrooms  stories  mainroad  guestroom  \\\n",
            "0    13300000  7420         4          2        3         1          0   \n",
            "1    12250000  8960         4          4        4         1          0   \n",
            "2    12250000  9960         3          2        2         1          0   \n",
            "3    12215000  7500         4          2        2         1          0   \n",
            "4    11410000  7420         4          1        2         1          1   \n",
            "..        ...   ...       ...        ...      ...       ...        ...   \n",
            "540   1820000  3000         2          1        1         1          0   \n",
            "541   1767150  2400         3          1        1         0          0   \n",
            "542   1750000  3620         2          1        1         1          0   \n",
            "543   1750000  2910         3          1        1         0          0   \n",
            "544   1750000  3850         3          1        2         1          0   \n",
            "\n",
            "     basement  hotwaterheating  airconditioning  parking  prefarea  \\\n",
            "0           0                0                1        2         1   \n",
            "1           0                0                1        3         0   \n",
            "2           1                0                0        2         1   \n",
            "3           1                0                1        3         1   \n",
            "4           1                0                1        2         0   \n",
            "..        ...              ...              ...      ...       ...   \n",
            "540         1                0                0        2         0   \n",
            "541         0                0                0        0         0   \n",
            "542         0                0                0        0         0   \n",
            "543         0                0                0        0         0   \n",
            "544         0                0                0        0         0   \n",
            "\n",
            "     furnishingstatus  \n",
            "0                   0  \n",
            "1                   0  \n",
            "2                   1  \n",
            "3                   0  \n",
            "4                   0  \n",
            "..                ...  \n",
            "540                 2  \n",
            "541                 1  \n",
            "542                 2  \n",
            "543                 0  \n",
            "544                 2  \n",
            "\n",
            "[545 rows x 13 columns]>\n"
          ]
        }
      ]
    },
    {
      "cell_type": "code",
      "source": [
        "#Time to standardize and normalize the sets.\n",
        "\n",
        "#Standardize Set DONE\n",
        "\n",
        "S_Columns = STANDARD_DF.columns\n",
        "scaler = preprocessing.StandardScaler().fit(STANDARD_DF) # fit does nothing\n",
        "scaler\n",
        "STANDARD_DF[S_Columns] = scaler.transform(STANDARD_DF[S_Columns])\n",
        "\n"
      ],
      "metadata": {
        "id": "39YYi6mawBYr"
      },
      "execution_count": 29,
      "outputs": []
    },
    {
      "cell_type": "code",
      "source": [
        "#Normalize Set DONE \n",
        "N_Columns = NORM_DF.columns\n",
        "normalizer = preprocessing.Normalizer().fit(NORM_DF)  # fit does nothing\n",
        "NORM_DF[N_Columns] = normalizer.transform(NORM_DF[N_Columns])"
      ],
      "metadata": {
        "id": "-pz3CIB-9KgN"
      },
      "execution_count": 30,
      "outputs": []
    },
    {
      "cell_type": "code",
      "source": [
        "#Need to change the gradient descent logic to take into account regularlization.\n",
        "lamb = 0.01\n",
        "def gradient_descent(Input, Output, theta,Training_Examples, alpha, iterations):\n",
        "  Loss_old = np.zeros(iterations)\n",
        "\n",
        "  for i in range(iterations):\n",
        "    predictions = Input.dot(theta)\n",
        "    errors = np.subtract(predictions, Output)\n",
        "    sum_delta = (alpha/Training_Examples) * Input.transpose().dot(errors);\n",
        "    if i > 0:\n",
        "      sum_delta += ((alpha*lamb)/Training_Examples) * theta\n",
        "    theta = theta - sum_delta;\n",
        "    Loss_old[i] = compute_loss(Input,Output,theta,Training_Examples)\n",
        "  return theta, Loss_old"
      ],
      "metadata": {
        "id": "lO2GPfNAQ21X"
      },
      "execution_count": 31,
      "outputs": []
    },
    {
      "cell_type": "code",
      "source": [
        "col_p1 = ['area', 'bedrooms', 'bathrooms', 'stories', 'parking']\n",
        "\n",
        "#Set Inputs & Outputs\n",
        "\n",
        "#Standardized\n",
        "Standard_Input = STANDARD_DF[col_p1]\n",
        "Standard_Output = STANDARD_DF.iloc[:,0]\n",
        "\n",
        "#Normalized\n",
        "Norm_Input = NORM_DF[col_p1]\n",
        "Norm_Output = NORM_DF.iloc[:,0]\n",
        "\n",
        "\n",
        "#Time to split sets.\n",
        "X_Standard_training, X_Standard_Validation, Y_Standard_training, Y_Standard_Validation = train_test_split(Standard_Input, Standard_Output, test_size = .2, random_state = 420)\n",
        "X_Norm_training, X_Norm_Validation, Y_Norm_training, Y_Norm_Validation = train_test_split(Norm_Input,Norm_Output, test_size = .2, random_state = 420)\n",
        "\n",
        "\n",
        "#Time to add ones vector to both inputs.\n",
        "\n",
        "#Normalized\n",
        "norm_training_input = pd.concat([pd.Series(1, index=X_Norm_training.index, name='00'), X_Norm_training], axis=1)\n",
        "norm_validation_input = pd.concat([pd.Series(1,index=X_Norm_Validation.index, name='00'), X_Norm_Validation], axis =1)\n",
        "\n",
        "#Standardized\n",
        "standard_training_input = pd.concat([pd.Series(1, index=X_Standard_training.index, name='00'), X_Norm_training], axis=1)\n",
        "standard_validation_input = pd.concat([pd.Series(1,index=X_Standard_Validation.index, name='00'), X_Norm_Validation], axis =1)\n",
        "\n",
        "#Time to set theta's for Training and validation\n",
        "\n",
        "#Normalized\n",
        "norm_theta_training = np.array([0]*len(norm_training_input.columns))\n",
        "norm_theta_validation = np.array([0]*len(norm_validation_input.columns))\n",
        "\n",
        "#Standardized\n",
        "standard_theta_training = np.array([0]*len(standard_training_input.columns))\n",
        "standard_theta_validation = np.array([0]*len(standard_validation_input.columns))\n",
        "\n",
        "#Getting the training_example values from outputs\n",
        "\n",
        "#Normalized\n",
        "norm_training_examples = len(Y_Norm_training)\n",
        "norm_validation_examples = len(Y_Norm_Validation)\n",
        "\n",
        "#Standardized\n",
        "standard_training_examples = len(Y_Standard_training)\n",
        "standard_validation_examples = len(Y_Standard_Validation)\n"
      ],
      "metadata": {
        "id": "12huKqhDQ6rY"
      },
      "execution_count": 32,
      "outputs": []
    },
    {
      "cell_type": "code",
      "source": [
        "#Loss calculation for both the training and validation set.\n",
        "\n",
        "#Normalized\n",
        "Norm_Loss_training = compute_loss(norm_training_input,Y_Norm_training,norm_theta_training,norm_training_examples)\n",
        "print(Norm_Loss_training)\n",
        "\n",
        "Norm_Loss_validation = compute_loss(norm_validation_input,Y_Norm_Validation,norm_theta_validation,norm_validation_examples)\n",
        "print(Norm_Loss_validation)\n",
        "\n",
        "\n",
        "#Standardized\n",
        "Standard_Loss_training = compute_loss(standard_training_input,Y_Standard_training,standard_theta_training,standard_training_examples)\n",
        "print(Standard_Loss_training)\n",
        "\n",
        "Standard_Loss_validation = compute_loss(standard_validation_input,Y_Standard_Validation,standard_theta_validation,standard_validation_examples)\n",
        "print(Standard_Loss_validation)"
      ],
      "metadata": {
        "colab": {
          "base_uri": "https://localhost:8080/"
        },
        "id": "KEjEvHkBRLTv",
        "outputId": "d85bfe21-1621-475b-b8c5-fdae8777e789"
      },
      "execution_count": 33,
      "outputs": [
        {
          "output_type": "stream",
          "name": "stdout",
          "text": [
            "0.034184007188717\n",
            "0.03285794079291208\n",
            "0.034184007188717\n",
            "0.03285794079291208\n"
          ]
        }
      ]
    },
    {
      "cell_type": "code",
      "source": [
        "##Time to do some gradient descent for both sets.\n",
        "\n",
        "#Training\n",
        "\n",
        "#Normalized\n",
        "norm_theta_training = [0.,0.,0.,0.,0.,0.]\n",
        "iterations = 1000;\n",
        "alpha = 0.1;\n",
        "\n",
        "Norm_theta_training, Norm_Loss_training = gradient_descent(norm_training_input,Y_Norm_training,norm_theta_training,norm_training_examples,alpha, iterations)\n",
        "print('Final value of theta =', Norm_theta_training)\n",
        "\n",
        "\n",
        "#Standardized\n",
        "standard_theta_training = [0.,0.,0.,0.,0.,0.]\n",
        "iterations = 1000;\n",
        "alpha = 0.1;\n",
        "\n",
        "Standard_theta_training, Standard_Loss_training = gradient_descent(standard_training_input,Y_Standard_training,standard_theta_training,standard_training_examples,alpha, iterations)\n",
        "print('Final value of theta =', Standard_theta_training)\n",
        "\n",
        "\n",
        "#Validation\n",
        "\n",
        "#Normalized\n",
        "norm_theta_validation = [0.,0.,0.,0.,0.,0.]\n",
        "iterations = 1000;\n",
        "alpha = 0.1;\n",
        "\n",
        "norm_theta_validation, Norm_Loss_validation = gradient_descent(norm_validation_input,Y_Norm_Validation,norm_theta_validation,norm_validation_examples, alpha, iterations)\n",
        "print('Final value of theta =', norm_theta_validation)\n",
        "\n",
        "#Stanardized\n",
        "standard_theta_validation = [0.,0.,0.,0.,0.,0.]\n",
        "iterations = 1000;\n",
        "alpha = 0.1;\n",
        "\n",
        "standard_theta_validation, Standard_Loss_validation = gradient_descent(standard_validation_input,Y_Standard_Validation,standard_theta_validation,standard_validation_examples, alpha, iterations)\n",
        "print('Final value of theta =', standard_theta_validation)"
      ],
      "metadata": {
        "colab": {
          "base_uri": "https://localhost:8080/"
        },
        "id": "s7dP33qnRQ5i",
        "outputId": "221331bf-f075-4e5d-d64d-74ddd52cecda"
      },
      "execution_count": 34,
      "outputs": [
        {
          "output_type": "stream",
          "name": "stdout",
          "text": [
            "Final value of theta = 00          -0.009364\n",
            "area         0.368274\n",
            "bedrooms     0.065405\n",
            "bathrooms    0.295228\n",
            "stories      0.241096\n",
            "parking      0.133620\n",
            "dtype: float64\n",
            "Final value of theta = 00          -0.009364\n",
            "area         0.368274\n",
            "bedrooms     0.065405\n",
            "bathrooms    0.295228\n",
            "stories      0.241096\n",
            "parking      0.133620\n",
            "dtype: float64\n",
            "Final value of theta = 00          -0.005761\n",
            "area         0.404299\n",
            "bedrooms     0.035465\n",
            "bathrooms    0.271104\n",
            "stories      0.266683\n",
            "parking      0.148371\n",
            "dtype: float64\n",
            "Final value of theta = 00          -0.005761\n",
            "area         0.404299\n",
            "bedrooms     0.035465\n",
            "bathrooms    0.271104\n",
            "stories      0.266683\n",
            "parking      0.148371\n",
            "dtype: float64\n"
          ]
        }
      ]
    },
    {
      "cell_type": "code",
      "source": [
        "#Time to graph the loss.\n",
        "plt.plot(range(1,iterations + 1), Norm_Loss_training, color = 'blue')\n",
        "plt.plot(range(1,iterations + 1), Norm_Loss_validation, color = 'red')\n",
        "plt.rcParams[\"figure.figsize\"] = (10,6)\n",
        "plt.grid()\n",
        "plt.xlabel('Number of iterations')\n",
        "plt.ylabel('Loss (J)')\n",
        "plt.title('Convergence of gradient descent')"
      ],
      "metadata": {
        "colab": {
          "base_uri": "https://localhost:8080/",
          "height": 421
        },
        "id": "4bioj4O8RUQR",
        "outputId": "7a2bb79c-bc7a-480b-88d5-9cc129a9697b"
      },
      "execution_count": 35,
      "outputs": [
        {
          "output_type": "execute_result",
          "data": {
            "text/plain": [
              "Text(0.5, 1.0, 'Convergence of gradient descent')"
            ]
          },
          "metadata": {},
          "execution_count": 35
        },
        {
          "output_type": "display_data",
          "data": {
            "text/plain": [
              "<Figure size 720x432 with 1 Axes>"
            ],
            "image/png": "[encoded data removed]"
          },
          "metadata": {
            "needs_background": "light"
          }
        }
      ]
    },
    {
      "cell_type": "code",
      "source": [
        "plt.plot(range(1,iterations + 1), Standard_Loss_training, color = 'blue')\n",
        "plt.plot(range(1,iterations + 1), Standard_Loss_validation, color = 'red')\n",
        "plt.rcParams[\"figure.figsize\"] = (10,6)\n",
        "plt.grid()\n",
        "plt.xlabel('Number of iterations')\n",
        "plt.ylabel('Loss (J)')\n",
        "plt.title('Convergence of gradient descent')"
      ],
      "metadata": {
        "colab": {
          "base_uri": "https://localhost:8080/",
          "height": 421
        },
        "id": "BI54A6GVRUm8",
        "outputId": "aac97b9d-6da3-44d5-e170-9c5aa7e79a29"
      },
      "execution_count": 36,
      "outputs": [
        {
          "output_type": "execute_result",
          "data": {
            "text/plain": [
              "Text(0.5, 1.0, 'Convergence of gradient descent')"
            ]
          },
          "metadata": {},
          "execution_count": 36
        },
        {
          "output_type": "display_data",
          "data": {
            "text/plain": [
              "<Figure size 720x432 with 1 Axes>"
            ],
            "image/png": "[encoded data removed]"
          },
          "metadata": {
            "needs_background": "light"
          }
        }
      ]
    },
    {
      "cell_type": "markdown",
      "source": [
        "3.b) Repeat problem 2 b, this time by adding parameters penalty to your loss function. Note that in this case, you need to modify the gradient decent logic for your training set, but you don’t need to change your loss for the evaluation set.  \n",
        "\n",
        "Plot your results (both training and evaluation losses) for the best input scaling approach (standardization or normalization). Explain your results and compare them against problem 2 b. "
      ],
      "metadata": {
        "id": "CVltGgSzQthL"
      }
    },
    {
      "cell_type": "code",
      "source": [
        "col_p2 = ['area', 'bedrooms', 'bathrooms', 'stories', 'mainroad', 'guestroom', 'basement', 'hotwaterheating', 'airconditioning', 'parking', 'prefarea']\n",
        "\n",
        "\n",
        "#Set Inputs & Outputs\n",
        "\n",
        "#Standardized\n",
        "Standard_Input = STANDARD_DF[col_p2]\n",
        "Standard_Output = STANDARD_DF.iloc[:,0]\n",
        "\n",
        "#Normalized\n",
        "Norm_Input = NORM_DF[col_p2]\n",
        "Norm_Output = NORM_DF.iloc[:,0]\n",
        "\n",
        "\n",
        "#Time to split sets.\n",
        "X_Standard_training, X_Standard_Validation, Y_Standard_training, Y_Standard_Validation = train_test_split(Standard_Input, Standard_Output, test_size = .2, random_state = 420)\n",
        "X_Norm_training, X_Norm_Validation, Y_Norm_training, Y_Norm_Validation = train_test_split(Norm_Input,Norm_Output, test_size = .2, random_state = 420)\n",
        "\n",
        "\n",
        "#Time to add ones vector to both inputs.\n",
        "\n",
        "#Normalized\n",
        "norm_training_input = pd.concat([pd.Series(1, index=X_Norm_training.index, name='00'), X_Norm_training], axis=1)\n",
        "norm_validation_input = pd.concat([pd.Series(1,index=X_Norm_Validation.index, name='00'), X_Norm_Validation], axis =1)\n",
        "\n",
        "#Standardized\n",
        "standard_training_input = pd.concat([pd.Series(1, index=X_Standard_training.index, name='00'), X_Norm_training], axis=1)\n",
        "standard_validation_input = pd.concat([pd.Series(1,index=X_Standard_Validation.index, name='00'), X_Norm_Validation], axis =1)\n",
        "\n",
        "#Time to set theta's for Training and validation\n",
        "\n",
        "#Normalized\n",
        "norm_theta_training = np.array([0]*len(norm_training_input.columns))\n",
        "norm_theta_validation = np.array([0]*len(norm_validation_input.columns))\n",
        "\n",
        "#Standardized\n",
        "standard_theta_training = np.array([0]*len(standard_training_input.columns))\n",
        "standard_theta_validation = np.array([0]*len(standard_validation_input.columns))\n",
        "\n",
        "#Getting the training_example values from outputs\n",
        "\n",
        "#Normalized\n",
        "norm_training_examples = len(Y_Norm_training)\n",
        "norm_validation_examples = len(Y_Norm_Validation)\n",
        "\n",
        "#Standardized\n",
        "standard_training_examples = len(Y_Standard_training)\n",
        "standard_validation_examples = len(Y_Standard_Validation)"
      ],
      "metadata": {
        "id": "khSYNGsgBqG8"
      },
      "execution_count": 37,
      "outputs": []
    },
    {
      "cell_type": "code",
      "source": [
        "#Loss calculation for both the training and validation set.\n",
        "\n",
        "#Normalized\n",
        "Norm_Loss_training = compute_loss(norm_training_input,Y_Norm_training,norm_theta_training,norm_training_examples)\n",
        "print(Norm_Loss_training)\n",
        "\n",
        "Norm_Loss_validation = compute_loss(norm_validation_input,Y_Norm_Validation,norm_theta_validation,norm_validation_examples)\n",
        "print(Norm_Loss_validation)\n",
        "\n",
        "\n",
        "#Standardized\n",
        "Standard_Loss_training = compute_loss(standard_training_input,Y_Standard_training,standard_theta_training,standard_training_examples)\n",
        "print(Standard_Loss_training)\n",
        "\n",
        "Standard_Loss_validation = compute_loss(standard_validation_input,Y_Standard_Validation,standard_theta_validation,standard_validation_examples)\n",
        "print(Standard_Loss_validation)"
      ],
      "metadata": {
        "colab": {
          "base_uri": "https://localhost:8080/"
        },
        "id": "jECOzn0eNmcD",
        "outputId": "3a13b1b9-086b-4503-9db5-90678093fe82"
      },
      "execution_count": 38,
      "outputs": [
        {
          "output_type": "stream",
          "name": "stdout",
          "text": [
            "0.034184007188717\n",
            "0.03285794079291208\n",
            "0.034184007188717\n",
            "0.03285794079291208\n"
          ]
        }
      ]
    },
    {
      "cell_type": "code",
      "source": [
        "##Time to do some gradient descent for both sets.\n",
        "\n",
        "#Training\n",
        "\n",
        "#Normalized\n",
        "norm_theta_training = [0.,0.,0.,0.,0.,0.,0.,0.,0.,0.,0.,0.]\n",
        "iterations = 1000;\n",
        "alpha = 0.1;\n",
        "\n",
        "Norm_theta_training, Norm_Loss_training = gradient_descent(norm_training_input,Y_Norm_training,norm_theta_training,norm_training_examples,alpha, iterations)\n",
        "print('Final value of theta =', Norm_theta_training)\n",
        "\n",
        "\n",
        "#Standardized\n",
        "standard_theta_training = [0.,0.,0.,0.,0.,0.,0.,0.,0.,0.,0.,0.]\n",
        "iterations = 1000;\n",
        "alpha = 0.1;\n",
        "\n",
        "Standard_theta_training, Standard_Loss_training = gradient_descent(standard_training_input,Y_Standard_training,standard_theta_training,standard_training_examples,alpha, iterations)\n",
        "print('Final value of theta =', Standard_theta_training)\n",
        "\n",
        "\n",
        "#Validation\n",
        "\n",
        "#Normalized\n",
        "norm_theta_validation = [0.,0.,0.,0.,0.,0.,0.,0.,0.,0.,0.,0.]\n",
        "iterations = 1000;\n",
        "alpha = 0.1;\n",
        "\n",
        "norm_theta_validation, Norm_Loss_validation = gradient_descent(norm_validation_input,Y_Norm_Validation,norm_theta_validation,norm_validation_examples, alpha, iterations)\n",
        "print('Final value of theta =', norm_theta_validation)\n",
        "\n",
        "#Stanardized\n",
        "standard_theta_validation = [0.,0.,0.,0.,0.,0.,0.,0.,0.,0.,0.,0.]\n",
        "iterations = 1000;\n",
        "alpha = 0.1;\n",
        "\n",
        "standard_theta_validation, Standard_Loss_validation = gradient_descent(standard_validation_input,Y_Standard_Validation,standard_theta_validation,standard_validation_examples, alpha, iterations)\n",
        "print('Final value of theta =', standard_theta_validation)"
      ],
      "metadata": {
        "colab": {
          "base_uri": "https://localhost:8080/"
        },
        "id": "zrfevwrPN0fU",
        "outputId": "51cdb409-954e-44d9-cb11-6dda5c1627a3"
      },
      "execution_count": 39,
      "outputs": [
        {
          "output_type": "stream",
          "name": "stdout",
          "text": [
            "Final value of theta = 00                -0.003528\n",
            "area               0.288766\n",
            "bedrooms           0.049941\n",
            "bathrooms          0.236113\n",
            "stories            0.193277\n",
            "mainroad           0.073013\n",
            "guestroom          0.076695\n",
            "basement           0.077748\n",
            "hotwaterheating    0.093108\n",
            "airconditioning    0.201537\n",
            "parking            0.101127\n",
            "prefarea           0.143200\n",
            "dtype: float64\n",
            "Final value of theta = 00                -0.003528\n",
            "area               0.288766\n",
            "bedrooms           0.049941\n",
            "bathrooms          0.236113\n",
            "stories            0.193277\n",
            "mainroad           0.073013\n",
            "guestroom          0.076695\n",
            "basement           0.077748\n",
            "hotwaterheating    0.093108\n",
            "airconditioning    0.201537\n",
            "parking            0.101127\n",
            "prefarea           0.143200\n",
            "dtype: float64\n",
            "Final value of theta = 00                 0.001264\n",
            "area               0.232072\n",
            "bedrooms           0.036526\n",
            "bathrooms          0.234519\n",
            "stories            0.260475\n",
            "mainroad           0.119216\n",
            "guestroom          0.059497\n",
            "basement           0.068809\n",
            "hotwaterheating    0.101993\n",
            "airconditioning    0.144757\n",
            "parking            0.142324\n",
            "prefarea           0.160081\n",
            "dtype: float64\n",
            "Final value of theta = 00                 0.001264\n",
            "area               0.232072\n",
            "bedrooms           0.036526\n",
            "bathrooms          0.234519\n",
            "stories            0.260475\n",
            "mainroad           0.119216\n",
            "guestroom          0.059497\n",
            "basement           0.068809\n",
            "hotwaterheating    0.101993\n",
            "airconditioning    0.144757\n",
            "parking            0.142324\n",
            "prefarea           0.160081\n",
            "dtype: float64\n"
          ]
        }
      ]
    },
    {
      "cell_type": "code",
      "source": [
        "#Time to graph the loss.\n",
        "plt.plot(range(1,iterations + 1), Norm_Loss_training, color = 'blue')\n",
        "plt.plot(range(1,iterations + 1), Norm_Loss_validation, color = 'red')\n",
        "plt.rcParams[\"figure.figsize\"] = (10,6)\n",
        "plt.grid()\n",
        "plt.xlabel('Number of iterations')\n",
        "plt.ylabel('Loss (J)')\n",
        "plt.title('Convergence of gradient descent')"
      ],
      "metadata": {
        "colab": {
          "base_uri": "https://localhost:8080/",
          "height": 421
        },
        "id": "C6RM97riSyaR",
        "outputId": "ae537782-91f9-452c-90dd-9d76dde29e6c"
      },
      "execution_count": 40,
      "outputs": [
        {
          "output_type": "execute_result",
          "data": {
            "text/plain": [
              "Text(0.5, 1.0, 'Convergence of gradient descent')"
            ]
          },
          "metadata": {},
          "execution_count": 40
        },
        {
          "output_type": "display_data",
          "data": {
            "text/plain": [
              "<Figure size 720x432 with 1 Axes>"
            ],
            "image/png": "[encoded data removed]"
          },
          "metadata": {
            "needs_background": "light"
          }
        }
      ]
    },
    {
      "cell_type": "code",
      "source": [
        "plt.plot(range(1,iterations + 1), Standard_Loss_training, color = 'blue')\n",
        "plt.plot(range(1,iterations + 1), Standard_Loss_validation, color = 'red')\n",
        "plt.rcParams[\"figure.figsize\"] = (10,6)\n",
        "plt.grid()\n",
        "plt.xlabel('Number of iterations')\n",
        "plt.ylabel('Loss (J)')\n",
        "plt.title('Convergence of gradient descent')"
      ],
      "metadata": {
        "colab": {
          "base_uri": "https://localhost:8080/",
          "height": 421
        },
        "id": "VGgI6hJJQWPJ",
        "outputId": "78cae05b-7b24-4f37-ba54-d4fc71a8f47f"
      },
      "execution_count": 41,
      "outputs": [
        {
          "output_type": "execute_result",
          "data": {
            "text/plain": [
              "Text(0.5, 1.0, 'Convergence of gradient descent')"
            ]
          },
          "metadata": {},
          "execution_count": 41
        },
        {
          "output_type": "display_data",
          "data": {
            "text/plain": [
              "<Figure size 720x432 with 1 Axes>"
            ],
            "image/png": "[encoded data removed]"
          },
          "metadata": {
            "needs_background": "light"
          }
        }
      ]
    }
  ]
}