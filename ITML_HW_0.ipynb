{
  "nbformat": 4,
  "nbformat_minor": 0,
  "metadata": {
    "colab": {
      "provenance": [],
      "collapsed_sections": []
    },
    "kernelspec": {
      "name": "python3",
      "display_name": "Python 3"
    },
    "language_info": {
      "name": "python"
    }
  },
  "cells": [
    {
      "cell_type": "code",
      "execution_count": 1,
      "metadata": {
        "colab": {
          "base_uri": "https://localhost:8080/"
        },
        "id": "Y-N3hVP7wLWM",
        "outputId": "8b617422-b697-4c81-fe62-2a39e10440ab"
      },
      "outputs": [
        {
          "output_type": "stream",
          "name": "stdout",
          "text": [
            "Drive already mounted at /content/drive/; to attempt to forcibly remount, call drive.mount(\"/content/drive/\", force_remount=True).\n"
          ]
        }
      ],
      "source": [
        "%matplotlib inline\n",
        "from google.colab import drive\n",
        "drive.mount('/content/drive/')\n",
        "import matplotlib.pyplot as plt\n",
        "import pandas as pd\n",
        "import numpy as np\n"
      ]
    },
    {
      "cell_type": "code",
      "source": [
        "data_set_file_path = '/content/drive/MyDrive/Intro to Machine Learning/D3.csv'\n",
        "data_set = (pd.read_csv(data_set_file_path))\n",
        "data_set.head"
      ],
      "metadata": {
        "colab": {
          "base_uri": "https://localhost:8080/"
        },
        "id": "3P7S-p9ezG2G",
        "outputId": "aae92585-280a-448c-e0d6-5f9dc41660e8"
      },
      "execution_count": 2,
      "outputs": [
        {
          "output_type": "execute_result",
          "data": {
            "text/plain": [
              "<bound method NDFrame.head of           X1        X2        X3         Y\n",
              "0   0.000000  3.440000  0.440000  4.387545\n",
              "1   0.040404  0.134949  0.888485  2.679650\n",
              "2   0.080808  0.829899  1.336970  2.968490\n",
              "3   0.121212  1.524848  1.785455  3.254065\n",
              "4   0.161616  2.219798  2.233939  3.536375\n",
              "..       ...       ...       ...       ...\n",
              "95  3.838384  1.460202  3.046061 -4.440595\n",
              "96  3.878788  2.155152  3.494545 -4.458663\n",
              "97  3.919192  2.850101  3.943030 -4.479995\n",
              "98  3.959596  3.545051  0.391515 -3.304593\n",
              "99  4.000000  0.240000  0.840000 -5.332455\n",
              "\n",
              "[100 rows x 4 columns]>"
            ]
          },
          "metadata": {},
          "execution_count": 2
        }
      ]
    },
    {
      "cell_type": "markdown",
      "source": [
        "#Problem 1 (50 points)\n",
        "#Develop a code that run linear regression with gradient decent algorithm for each of the explanatory variables in isolation.\n",
        "#In this case, you assume that in each iteration, only one explanatory variable (either X1, or X2, or X3) is explaining the output. \n",
        "#Basically, you need to do three different training, one per each explanatory variable. \n",
        "#For the learning rate, explore different values between 0.1 and 0.01 (your choice). Initialize your parameters to zero (theta to zero).\n",
        "#Report the linear model you found for each explanatory variable.\n",
        "#Plot the final regression model and loss over the iteration per each explanatory variable.\n",
        "#Which explanatory variable has the lower loss (cost) for explaining the output (Y)?\n",
        "#Based on your training observations, describe the impact of the different learning rates on the final loss and number of training iteration."
      ],
      "metadata": {
        "id": "0iIFqsTMw-44"
      }
    },
    {
      "cell_type": "code",
      "source": [
        "Input = data_set.values[:, 0] #Going to utilize X1 as my input so i'll get input from first column\n",
        "Output = data_set.values[:, 3] #Going to utilizie Y as my output\n",
        "Training_Examples = len(Output)\n",
        "print('Output = ', Output[: 5])\n",
        "print('Input = ', Input[: 5])"
      ],
      "metadata": {
        "colab": {
          "base_uri": "https://localhost:8080/"
        },
        "id": "BguNwftww5Sg",
        "outputId": "52d02230-2508-4602-8bad-5efef2452dd3"
      },
      "execution_count": 3,
      "outputs": [
        {
          "output_type": "stream",
          "name": "stdout",
          "text": [
            "Output =  [4.38754501 2.6796499  2.96848981 3.25406475 3.53637472]\n",
            "Input =  [0.         0.04040404 0.08080808 0.12121212 0.16161616]\n"
          ]
        }
      ]
    },
    {
      "cell_type": "code",
      "source": [
        "Input2 = data_set.values[:, 1] #Going to utilize X1 as my input so i'll get input from first column\n",
        "print('Input2 = ', Input2[: 5])"
      ],
      "metadata": {
        "colab": {
          "base_uri": "https://localhost:8080/"
        },
        "id": "npx6zQZhPDBA",
        "outputId": "15beffb8-d0c6-46b4-fb78-04a0d240aafa"
      },
      "execution_count": 4,
      "outputs": [
        {
          "output_type": "stream",
          "name": "stdout",
          "text": [
            "Input2 =  [3.44       0.1349495  0.82989899 1.52484848 2.21979798]\n"
          ]
        }
      ]
    },
    {
      "cell_type": "code",
      "source": [
        "Input3 = data_set.values[:, 2] #Going to utilize X1 as my input so i'll get input from first column\n",
        "print('Input3 = ', Input3[: 5])"
      ],
      "metadata": {
        "colab": {
          "base_uri": "https://localhost:8080/"
        },
        "id": "UhJMtjMkPJn-",
        "outputId": "4b41b61f-6bf8-4859-83cb-b4ab081d641d"
      },
      "execution_count": 5,
      "outputs": [
        {
          "output_type": "stream",
          "name": "stdout",
          "text": [
            "Input3 =  [0.44       0.88848485 1.3369697  1.78545454 2.23393939]\n"
          ]
        }
      ]
    },
    {
      "cell_type": "code",
      "source": [
        "plt.scatter(Input,Output, color = 'blue', marker = '+')\n",
        "plt.grid()\n",
        "plt.rcParams[\"figure.figsize\"] = (10,6)\n",
        "plt.xlabel('Input')\n",
        "plt.ylabel('Output')\n",
        "plt.title('Scatter plot of X1 & Y')"
      ],
      "metadata": {
        "colab": {
          "base_uri": "https://localhost:8080/",
          "height": 312
        },
        "id": "ZNFN6wSB6CrO",
        "outputId": "f3af5aee-68f0-4d3f-d279-bf7ba01b93a3"
      },
      "execution_count": 6,
      "outputs": [
        {
          "output_type": "execute_result",
          "data": {
            "text/plain": [
              "Text(0.5, 1.0, 'Scatter plot of X1 & Y')"
            ]
          },
          "metadata": {},
          "execution_count": 6
        },
        {
          "output_type": "display_data",
          "data": {
            "text/plain": [
              "<Figure size 432x288 with 1 Axes>"
            ],
            "image/png": "[encoded data removed]"
          },
          "metadata": {
            "needs_background": "light"
          }
        }
      ]
    },
    {
      "cell_type": "code",
      "source": [
        "plt.scatter(Input2,Output, color = 'blue', marker = '+')\n",
        "plt.grid()\n",
        "plt.rcParams[\"figure.figsize\"] = (10,6)\n",
        "plt.xlabel('Input')\n",
        "plt.ylabel('Output')\n",
        "plt.title('Scatter plot of X2 & Y')"
      ],
      "metadata": {
        "colab": {
          "base_uri": "https://localhost:8080/",
          "height": 421
        },
        "id": "ZzZS2QQLPhZn",
        "outputId": "2d577655-8740-468a-d21f-5a08560fbe61"
      },
      "execution_count": 7,
      "outputs": [
        {
          "output_type": "execute_result",
          "data": {
            "text/plain": [
              "Text(0.5, 1.0, 'Scatter plot of X2 & Y')"
            ]
          },
          "metadata": {},
          "execution_count": 7
        },
        {
          "output_type": "display_data",
          "data": {
            "text/plain": [
              "<Figure size 720x432 with 1 Axes>"
            ],
            "image/png": "[encoded data removed]"
          },
          "metadata": {
            "needs_background": "light"
          }
        }
      ]
    },
    {
      "cell_type": "code",
      "source": [
        "plt.scatter(Input3,Output, color = 'blue', marker = '+')\n",
        "plt.grid()\n",
        "plt.rcParams[\"figure.figsize\"] = (10,6)\n",
        "plt.xlabel('Input')\n",
        "plt.ylabel('Output')\n",
        "plt.title('Scatter plot of X3 & Y')"
      ],
      "metadata": {
        "colab": {
          "base_uri": "https://localhost:8080/",
          "height": 421
        },
        "id": "o-gLc0aGPp9f",
        "outputId": "819079a5-3a16-4c80-c0c1-51fd6a69788e"
      },
      "execution_count": 8,
      "outputs": [
        {
          "output_type": "execute_result",
          "data": {
            "text/plain": [
              "Text(0.5, 1.0, 'Scatter plot of X3 & Y')"
            ]
          },
          "metadata": {},
          "execution_count": 8
        },
        {
          "output_type": "display_data",
          "data": {
            "text/plain": [
              "<Figure size 720x432 with 1 Axes>"
            ],
            "image/png": "[encoded data removed]"
          },
          "metadata": {
            "needs_background": "light"
          }
        }
      ]
    },
    {
      "cell_type": "code",
      "source": [
        "#Initializing a ones matrix\n",
        "onesMatrix = np.ones((Training_Examples,1))\n",
        "#onesMatrix[:5]"
      ],
      "metadata": {
        "id": "Dnp2gj5m8HQz"
      },
      "execution_count": 9,
      "outputs": []
    },
    {
      "cell_type": "code",
      "source": [
        "#Converting array dimension from 1D to 2D\n",
        "reshapedInput = Input.reshape(Training_Examples,1)\n",
        "#reshapedInput[:10]"
      ],
      "metadata": {
        "id": "k0H5278GJDFh"
      },
      "execution_count": 10,
      "outputs": []
    },
    {
      "cell_type": "code",
      "source": [
        "reshapedInput2 = Input2.reshape(Training_Examples,1)\n",
        "#reshapedInput2[:10]"
      ],
      "metadata": {
        "id": "3XFXjUIxPxM4"
      },
      "execution_count": 11,
      "outputs": []
    },
    {
      "cell_type": "code",
      "source": [
        "reshapedInput3 = Input3.reshape(Training_Examples,1)\n",
        "#reshapedInput[:10]"
      ],
      "metadata": {
        "id": "0RWPrswsP0F5"
      },
      "execution_count": 12,
      "outputs": []
    },
    {
      "cell_type": "code",
      "source": [
        "#Initializing our feature matrix\n",
        "Input = np.hstack((onesMatrix,reshapedInput))\n",
        "#print(Input[:5])"
      ],
      "metadata": {
        "id": "9gkynYIvJA1I"
      },
      "execution_count": 13,
      "outputs": []
    },
    {
      "cell_type": "code",
      "source": [
        "Input2 = np.hstack((onesMatrix,reshapedInput2))\n",
        "#print(Input2[:5])"
      ],
      "metadata": {
        "id": "Tu_jJCazP7PA"
      },
      "execution_count": 14,
      "outputs": []
    },
    {
      "cell_type": "code",
      "source": [
        "Input3 = np.hstack((onesMatrix,reshapedInput3))\n",
        "#print(Input3[:5])"
      ],
      "metadata": {
        "id": "UHTH-pxsQA3L"
      },
      "execution_count": 15,
      "outputs": []
    },
    {
      "cell_type": "code",
      "source": [
        "#Initialize Theta\n",
        "theta = np.zeros(2)\n",
        "theta"
      ],
      "metadata": {
        "colab": {
          "base_uri": "https://localhost:8080/"
        },
        "id": "A46WQyUYI_Ns",
        "outputId": "4f881693-bd23-4106-cf06-d2b8ed2fd7da"
      },
      "execution_count": 16,
      "outputs": [
        {
          "output_type": "execute_result",
          "data": {
            "text/plain": [
              "array([0., 0.])"
            ]
          },
          "metadata": {},
          "execution_count": 16
        }
      ]
    },
    {
      "cell_type": "code",
      "source": [
        "#Loss Calculation using the \n",
        "def compute_loss (Input, Output, theta):\n",
        "  predictions = Input.dot(theta)\n",
        "  errors = np.subtract(predictions, Output)\n",
        "  sqrErrors = np.square(errors)\n",
        "  J = 1 / (2 * Training_Examples) * np.sum(sqrErrors)\n",
        "\n",
        "  return J\n"
      ],
      "metadata": {
        "id": "lWrg1Tx398XI"
      },
      "execution_count": 17,
      "outputs": []
    },
    {
      "cell_type": "code",
      "source": [
        "  #Loss Calculation using the above function\n",
        "  Loss = compute_loss(Input,Output,theta)\n",
        "  print('The loss for given values of theta_0 and theta_1 =', Loss)"
      ],
      "metadata": {
        "colab": {
          "base_uri": "https://localhost:8080/"
        },
        "id": "ANhft5bj-sM3",
        "outputId": "d4030801-7882-429d-87bd-207adc9ab40e"
      },
      "execution_count": 18,
      "outputs": [
        {
          "output_type": "stream",
          "name": "stdout",
          "text": [
            "The loss for given values of theta_0 and theta_1 = 5.524438459196242\n"
          ]
        }
      ]
    },
    {
      "cell_type": "code",
      "source": [
        "  Loss2 = compute_loss(Input2,Output,theta)\n",
        "  print('The loss for given values of theta_0 and theta_1 =', Loss2)"
      ],
      "metadata": {
        "colab": {
          "base_uri": "https://localhost:8080/"
        },
        "id": "ZFMhLY7yQJbe",
        "outputId": "9d2b3f10-54ef-4680-c842-0ad14b9dd244"
      },
      "execution_count": 19,
      "outputs": [
        {
          "output_type": "stream",
          "name": "stdout",
          "text": [
            "The loss for given values of theta_0 and theta_1 = 5.524438459196242\n"
          ]
        }
      ]
    },
    {
      "cell_type": "code",
      "source": [
        "  Loss3 = compute_loss(Input3,Output,theta)\n",
        "  print('The loss for given values of theta_0 and theta_1 =', Loss3)"
      ],
      "metadata": {
        "colab": {
          "base_uri": "https://localhost:8080/"
        },
        "id": "9_t53jCMQJIP",
        "outputId": "00d660d0-3e32-4ada-c90f-cb3f3e1acde4"
      },
      "execution_count": 20,
      "outputs": [
        {
          "output_type": "stream",
          "name": "stdout",
          "text": [
            "The loss for given values of theta_0 and theta_1 = 5.524438459196242\n"
          ]
        }
      ]
    },
    {
      "cell_type": "code",
      "source": [
        "#Gradient descent utilizing loss for linear regression\n",
        "def gradient_descent(Input, Output, theta, alpha, iterations):\n",
        "  Loss_old = np.zeros(iterations)\n",
        "\n",
        "  for i in range(iterations):\n",
        "    predictions = Input.dot(theta)\n",
        "    errors = np.subtract(predictions, Output)\n",
        "    sum_delta = (alpha/Training_Examples) * Input.transpose().dot(errors);\n",
        "    theta = theta - sum_delta;\n",
        "    Loss_old[i] = compute_loss(Input,Output,theta)\n",
        "  return theta, Loss_old"
      ],
      "metadata": {
        "id": "aj5P2y5O_jAt"
      },
      "execution_count": 21,
      "outputs": []
    },
    {
      "cell_type": "code",
      "source": [
        "theta = [0., 0.]\n",
        "iterations = 1000;\n",
        "alpha = 0.04;\n",
        "\n",
        "theta, Loss_old = gradient_descent(Input, Output, theta, alpha, iterations)\n",
        "print('Final value of theta =', theta)\n",
        "print('Loss_old =', Loss_old)"
      ],
      "metadata": {
        "colab": {
          "base_uri": "https://localhost:8080/"
        },
        "id": "2sgyTcWtAjcx",
        "outputId": "3a1a9586-73d3-4158-9486-14f2568ec13a"
      },
      "execution_count": 22,
      "outputs": [
        {
          "output_type": "stream",
          "name": "stdout",
          "text": [
            "Final value of theta = [ 5.92715528 -2.03802775]\n",
            "Loss_old = [5.36472185 5.24211647 5.14119415 5.05316329 4.97301005 4.89787101\n",
            " 4.82610696 4.75677568 4.68933182 4.62345609 4.55895805 4.49572073\n",
            " 4.43366913 4.37275233 4.31293319 4.25418264 4.19647626 4.13979249\n",
            " 4.08411147 4.0294145  3.97568362 3.92290146 3.87105108 3.82011593\n",
            " 3.77007979 3.72092677 3.67264126 3.62520793 3.57861175 3.53283793\n",
            " 3.48787196 3.44369958 3.40030678 3.3576798  3.31580514 3.2746695\n",
            " 3.23425985 3.19456338 3.15556749 3.11725983 3.07962825 3.04266081\n",
            " 3.0063458  2.97067169 2.93562719 2.90120117 2.86738273 2.83416113\n",
            " 2.80152585 2.76946654 2.73797303 2.70703534 2.67664365 2.64678834\n",
            " 2.61745993 2.58864913 2.5603468  2.53254397 2.50523182 2.47840169\n",
            " 2.45204508 2.42615362 2.40071911 2.37573349 2.35118883 2.32707735\n",
            " 2.3033914  2.28012348 2.2572662  2.23481233 2.21275473 2.19108642\n",
            " 2.16980053 2.1488903  2.12834911 2.10817045 2.08834791 2.06887521\n",
            " 2.04974618 2.03095474 2.01249495 1.99436096 1.976547   1.95904743\n",
            " 1.94185671 1.92496938 1.90838008 1.89208357 1.87607467 1.8603483\n",
            " 1.84489948 1.82972331 1.81481498 1.80016976 1.78578301 1.77165017\n",
            " 1.75776675 1.74412835 1.73073066 1.71756941 1.70464044 1.69193966\n",
            " 1.67946302 1.66720658 1.65516644 1.6433388  1.6317199  1.62030606\n",
            " 1.60909366 1.59807914 1.58725901 1.57662984 1.56618827 1.55593097\n",
            " 1.5458547  1.53595626 1.52623252 1.51668038 1.50729683 1.49807889\n",
            " 1.48902362 1.48012818 1.47138972 1.46280549 1.45437275 1.44608885\n",
            " 1.43795114 1.42995705 1.42210405 1.41438964 1.40681138 1.39936686\n",
            " 1.39205373 1.38486967 1.3778124  1.37087968 1.36406931 1.35737913\n",
            " 1.35080703 1.34435091 1.33800874 1.3317785  1.32565821 1.31964594\n",
            " 1.31373978 1.30793785 1.30223831 1.29663937 1.29113924 1.28573618\n",
            " 1.28042848 1.27521445 1.27009244 1.26506083 1.26011802 1.25526244\n",
            " 1.25049255 1.24580685 1.24120385 1.23668208 1.23224011 1.22787654\n",
            " 1.22358998 1.21937907 1.21524248 1.2111789  1.20718703 1.20326561\n",
            " 1.1994134  1.19562917 1.19191174 1.18825991 1.18467252 1.18114846\n",
            " 1.17768658 1.17428581 1.17094505 1.16766325 1.16443937 1.16127239\n",
            " 1.15816131 1.15510512 1.15210288 1.14915362 1.14625641 1.14341034\n",
            " 1.14061449 1.13786798 1.13516995 1.13251954 1.1299159  1.12735821\n",
            " 1.12484566 1.12237745 1.11995281 1.11757095 1.11523114 1.11293261\n",
            " 1.11067465 1.10845655 1.10627759 1.10413708 1.10203435 1.09996874\n",
            " 1.09793957 1.09594622 1.09398805 1.09206444 1.09017478 1.08831846\n",
            " 1.08649491 1.08470354 1.08294379 1.0812151  1.07951691 1.07784869\n",
            " 1.07620992 1.07460007 1.07301863 1.0714651  1.06993898 1.06843981\n",
            " 1.06696709 1.06552036 1.06409916 1.06270305 1.06133157 1.0599843\n",
            " 1.05866081 1.05736068 1.05608349 1.05482884 1.05359633 1.05238558\n",
            " 1.0511962  1.0500278  1.04888003 1.04775251 1.04664489 1.04555682\n",
            " 1.04448796 1.04343795 1.04240648 1.04139321 1.04039783 1.03942001\n",
            " 1.03845945 1.03751584 1.03658889 1.03567829 1.03478377 1.03390503\n",
            " 1.0330418  1.03219381 1.03136078 1.03054245 1.02973857 1.02894887\n",
            " 1.02817311 1.02741105 1.02666243 1.02592702 1.02520459 1.02449491\n",
            " 1.02379776 1.02311291 1.02244015 1.02177926 1.02113003 1.02049227\n",
            " 1.01986575 1.0192503  1.01864571 1.01805178 1.01746834 1.0168952\n",
            " 1.01633217 1.01577908 1.01523575 1.01470201 1.01417768 1.01366262\n",
            " 1.01315664 1.01265959 1.01217131 1.01169166 1.01122046 1.01075759\n",
            " 1.01030288 1.00985619 1.00941739 1.00898634 1.00856289 1.00814692\n",
            " 1.00773828 1.00733686 1.00694252 1.00655515 1.00617461 1.00580078\n",
            " 1.00543355 1.00507281 1.00471843 1.0043703  1.00402832 1.00369238\n",
            " 1.00336236 1.00303817 1.00271969 1.00240684 1.00209952 1.00179761\n",
            " 1.00150103 1.00120969 1.00092349 1.00064234 1.00036615 1.00009484\n",
            " 0.99982831 0.99956649 0.99930929 0.99905663 0.99880843 0.99856461\n",
            " 0.99832509 0.99808979 0.99785866 0.9976316  0.99740854 0.99718943\n",
            " 0.99697418 0.99676273 0.99655501 0.99635096 0.99615051 0.99595359\n",
            " 0.99576016 0.99557013 0.99538346 0.99520009 0.99501995 0.99484299\n",
            " 0.99466915 0.99449838 0.99433062 0.99416583 0.99400394 0.99384491\n",
            " 0.99368869 0.99353523 0.99338447 0.99323637 0.99309089 0.99294797\n",
            " 0.99280758 0.99266967 0.99253418 0.99240109 0.99227035 0.99214192\n",
            " 0.99201575 0.99189181 0.99177006 0.99165045 0.99153296 0.99141754\n",
            " 0.99130416 0.99119278 0.99108336 0.99097588 0.99087029 0.99076656\n",
            " 0.99066467 0.99056457 0.99046624 0.99036965 0.99027476 0.99018155\n",
            " 0.99008998 0.99000002 0.98991166 0.98982485 0.98973958 0.98965581\n",
            " 0.98957352 0.98949268 0.98941327 0.98933526 0.98925862 0.98918334\n",
            " 0.98910939 0.98903674 0.98896538 0.98889527 0.9888264  0.98875875\n",
            " 0.98869229 0.98862701 0.98856287 0.98849987 0.98843798 0.98837718\n",
            " 0.98831746 0.98825879 0.98820115 0.98814453 0.98808892 0.98803428\n",
            " 0.98798061 0.98792788 0.98787609 0.9878252  0.98777522 0.98772612\n",
            " 0.98767789 0.9876305  0.98758396 0.98753823 0.98749331 0.98744919\n",
            " 0.98740584 0.98736326 0.98732143 0.98728034 0.98723997 0.98720031\n",
            " 0.98716136 0.98712309 0.9870855  0.98704857 0.9870123  0.98697666\n",
            " 0.98694165 0.98690726 0.98687348 0.98684029 0.98680769 0.98677567\n",
            " 0.98674421 0.9867133  0.98668294 0.98665312 0.98662382 0.98659504\n",
            " 0.98656677 0.986539   0.98651171 0.98648491 0.98645858 0.98643272\n",
            " 0.98640731 0.98638235 0.98635783 0.98633375 0.98631009 0.98628684\n",
            " 0.98626401 0.98624158 0.98621954 0.9861979  0.98617664 0.98615575\n",
            " 0.98613523 0.98611507 0.98609527 0.98607582 0.98605671 0.98603794\n",
            " 0.9860195  0.98600138 0.98598359 0.98596611 0.98594893 0.98593206\n",
            " 0.98591549 0.98589921 0.98588322 0.98586751 0.98585208 0.98583692\n",
            " 0.98582203 0.9858074  0.98579302 0.98577891 0.98576504 0.98575141\n",
            " 0.98573803 0.98572488 0.98571197 0.98569928 0.98568682 0.98567457\n",
            " 0.98566255 0.98565073 0.98563912 0.98562772 0.98561652 0.98560552\n",
            " 0.98559471 0.98558409 0.98557366 0.98556342 0.98555335 0.98554346\n",
            " 0.98553375 0.98552421 0.98551483 0.98550563 0.98549658 0.98548769\n",
            " 0.98547896 0.98547039 0.98546197 0.98545369 0.98544556 0.98543758\n",
            " 0.98542973 0.98542202 0.98541445 0.98540702 0.98539971 0.98539254\n",
            " 0.98538549 0.98537856 0.98537176 0.98536507 0.98535851 0.98535206\n",
            " 0.98534572 0.9853395  0.98533339 0.98532738 0.98532148 0.98531569\n",
            " 0.98530999 0.9853044  0.9852989  0.98529351 0.98528821 0.985283\n",
            " 0.98527788 0.98527285 0.98526792 0.98526307 0.9852583  0.98525362\n",
            " 0.98524902 0.98524451 0.98524007 0.98523571 0.98523143 0.98522722\n",
            " 0.98522309 0.98521903 0.98521504 0.98521112 0.98520728 0.9852035\n",
            " 0.98519978 0.98519613 0.98519255 0.98518903 0.98518557 0.98518217\n",
            " 0.98517884 0.98517556 0.98517234 0.98516918 0.98516607 0.98516301\n",
            " 0.98516002 0.98515707 0.98515418 0.98515133 0.98514854 0.9851458\n",
            " 0.9851431  0.98514045 0.98513785 0.9851353  0.98513279 0.98513032\n",
            " 0.9851279  0.98512552 0.98512318 0.98512089 0.98511863 0.98511642\n",
            " 0.98511424 0.9851121  0.98511    0.98510794 0.98510591 0.98510392\n",
            " 0.98510196 0.98510004 0.98509815 0.9850963  0.98509448 0.98509269\n",
            " 0.98509093 0.9850892  0.98508751 0.98508584 0.9850842  0.98508259\n",
            " 0.98508101 0.98507946 0.98507794 0.98507644 0.98507497 0.98507352\n",
            " 0.9850721  0.98507071 0.98506934 0.98506799 0.98506667 0.98506537\n",
            " 0.9850641  0.98506284 0.98506161 0.9850604  0.98505922 0.98505805\n",
            " 0.9850569  0.98505578 0.98505467 0.98505358 0.98505251 0.98505147\n",
            " 0.98505044 0.98504942 0.98504843 0.98504745 0.98504649 0.98504555\n",
            " 0.98504462 0.98504371 0.98504282 0.98504194 0.98504108 0.98504023\n",
            " 0.9850394  0.98503858 0.98503778 0.98503699 0.98503622 0.98503546\n",
            " 0.98503471 0.98503397 0.98503325 0.98503254 0.98503185 0.98503116\n",
            " 0.98503049 0.98502983 0.98502918 0.98502854 0.98502792 0.9850273\n",
            " 0.9850267  0.98502611 0.98502552 0.98502495 0.98502439 0.98502384\n",
            " 0.98502329 0.98502276 0.98502224 0.98502172 0.98502122 0.98502072\n",
            " 0.98502023 0.98501975 0.98501928 0.98501882 0.98501837 0.98501792\n",
            " 0.98501748 0.98501705 0.98501663 0.98501621 0.9850158  0.9850154\n",
            " 0.98501501 0.98501462 0.98501424 0.98501387 0.9850135  0.98501314\n",
            " 0.98501279 0.98501244 0.9850121  0.98501176 0.98501143 0.98501111\n",
            " 0.98501079 0.98501048 0.98501017 0.98500987 0.98500957 0.98500928\n",
            " 0.985009   0.98500872 0.98500844 0.98500817 0.9850079  0.98500764\n",
            " 0.98500738 0.98500713 0.98500688 0.98500664 0.9850064  0.98500617\n",
            " 0.98500593 0.98500571 0.98500548 0.98500527 0.98500505 0.98500484\n",
            " 0.98500463 0.98500443 0.98500423 0.98500403 0.98500384 0.98500365\n",
            " 0.98500346 0.98500328 0.9850031  0.98500292 0.98500275 0.98500258\n",
            " 0.98500241 0.98500225 0.98500208 0.98500193 0.98500177 0.98500162\n",
            " 0.98500147 0.98500132 0.98500117 0.98500103 0.98500089 0.98500075\n",
            " 0.98500062 0.98500048 0.98500035 0.98500022 0.9850001  0.98499997\n",
            " 0.98499985 0.98499973 0.98499962 0.9849995  0.98499939 0.98499928\n",
            " 0.98499917 0.98499906 0.98499895 0.98499885 0.98499875 0.98499865\n",
            " 0.98499855 0.98499845 0.98499836 0.98499827 0.98499817 0.98499808\n",
            " 0.984998   0.98499791 0.98499782 0.98499774 0.98499766 0.98499758\n",
            " 0.9849975  0.98499742 0.98499734 0.98499727 0.98499719 0.98499712\n",
            " 0.98499705 0.98499698 0.98499691 0.98499684 0.98499678 0.98499671\n",
            " 0.98499665 0.98499659 0.98499652 0.98499646 0.9849964  0.98499634\n",
            " 0.98499629 0.98499623 0.98499618 0.98499612 0.98499607 0.98499601\n",
            " 0.98499596 0.98499591 0.98499586 0.98499581 0.98499576 0.98499572\n",
            " 0.98499567 0.98499562 0.98499558 0.98499554 0.98499549 0.98499545\n",
            " 0.98499541 0.98499537 0.98499533 0.98499529 0.98499525 0.98499521\n",
            " 0.98499517 0.98499514 0.9849951  0.98499506 0.98499503 0.98499499\n",
            " 0.98499496 0.98499493 0.9849949  0.98499486 0.98499483 0.9849948\n",
            " 0.98499477 0.98499474 0.98499471 0.98499468 0.98499465 0.98499463\n",
            " 0.9849946  0.98499457 0.98499455 0.98499452 0.9849945  0.98499447\n",
            " 0.98499445 0.98499442 0.9849944  0.98499437 0.98499435 0.98499433\n",
            " 0.98499431 0.98499429 0.98499426 0.98499424 0.98499422 0.9849942\n",
            " 0.98499418 0.98499416 0.98499415 0.98499413 0.98499411 0.98499409\n",
            " 0.98499407 0.98499405 0.98499404 0.98499402 0.984994   0.98499399\n",
            " 0.98499397 0.98499396 0.98499394 0.98499393 0.98499391 0.9849939\n",
            " 0.98499388 0.98499387 0.98499385 0.98499384 0.98499383 0.98499381\n",
            " 0.9849938  0.98499379 0.98499378 0.98499376 0.98499375 0.98499374\n",
            " 0.98499373 0.98499372 0.98499371 0.98499369 0.98499368 0.98499367\n",
            " 0.98499366 0.98499365 0.98499364 0.98499363 0.98499362 0.98499361\n",
            " 0.9849936  0.98499359 0.98499359 0.98499358 0.98499357 0.98499356\n",
            " 0.98499355 0.98499354 0.98499353 0.98499353 0.98499352 0.98499351\n",
            " 0.9849935  0.9849935  0.98499349 0.98499348 0.98499347 0.98499347\n",
            " 0.98499346 0.98499345 0.98499345 0.98499344 0.98499343 0.98499343\n",
            " 0.98499342 0.98499342 0.98499341 0.9849934  0.9849934  0.98499339\n",
            " 0.98499339 0.98499338 0.98499338 0.98499337 0.98499337 0.98499336\n",
            " 0.98499336 0.98499335 0.98499335 0.98499334 0.98499334 0.98499333\n",
            " 0.98499333 0.98499332 0.98499332 0.98499332 0.98499331 0.98499331\n",
            " 0.9849933  0.9849933  0.9849933  0.98499329 0.98499329 0.98499329\n",
            " 0.98499328 0.98499328 0.98499327 0.98499327 0.98499327 0.98499326\n",
            " 0.98499326 0.98499326 0.98499326 0.98499325 0.98499325 0.98499325\n",
            " 0.98499324 0.98499324 0.98499324 0.98499324 0.98499323 0.98499323\n",
            " 0.98499323 0.98499322 0.98499322 0.98499322 0.98499322 0.98499321\n",
            " 0.98499321 0.98499321 0.98499321 0.98499321 0.9849932  0.9849932\n",
            " 0.9849932  0.9849932  0.9849932  0.98499319 0.98499319 0.98499319\n",
            " 0.98499319 0.98499319 0.98499318 0.98499318 0.98499318 0.98499318\n",
            " 0.98499318 0.98499318 0.98499317 0.98499317 0.98499317 0.98499317\n",
            " 0.98499317 0.98499317 0.98499316 0.98499316]\n"
          ]
        }
      ]
    },
    {
      "cell_type": "code",
      "source": [
        "plt.scatter(Input[:,1], Output, color = 'blue', marker = '+', label = 'Training Data')\n",
        "plt.plot(Input[:,1], Input.dot(theta), color = 'green', label = 'Linear Regression')\n",
        "\n",
        "plt.rcParams[\"figure.figsize\"] = (10,6)\n",
        "plt.grid()\n",
        "plt.xlabel('X1')\n",
        "plt.ylabel('Y')\n",
        "plt.title('Linear Regression Fit')\n",
        "plt.legend()"
      ],
      "metadata": {
        "colab": {
          "base_uri": "https://localhost:8080/",
          "height": 421
        },
        "id": "P0hcS-9aCKbO",
        "outputId": "8f61ac90-24d3-4f72-a69d-bc0e716902f4"
      },
      "execution_count": 23,
      "outputs": [
        {
          "output_type": "execute_result",
          "data": {
            "text/plain": [
              "<matplotlib.legend.Legend at 0x7f9d3879be50>"
            ]
          },
          "metadata": {},
          "execution_count": 23
        },
        {
          "output_type": "display_data",
          "data": {
            "text/plain": [
              "<Figure size 720x432 with 1 Axes>"
            ],
            "image/png": "[encoded data removed]"
          },
          "metadata": {
            "needs_background": "light"
          }
        }
      ]
    },
    {
      "cell_type": "code",
      "source": [
        "plt.plot(range(1,iterations + 1), Loss_old, color = 'blue')\n",
        "plt.rcParams[\"figure.figsize\"] = (10,6)\n",
        "plt.grid()\n",
        "plt.xlabel('Number of iterations')\n",
        "plt.ylabel('Loss (J)')\n",
        "plt.title('Convergence of gradient descent')"
      ],
      "metadata": {
        "colab": {
          "base_uri": "https://localhost:8080/",
          "height": 421
        },
        "id": "lN4fCaZwMUJK",
        "outputId": "5d3e8184-8d6d-4557-b069-fee37457465b"
      },
      "execution_count": 24,
      "outputs": [
        {
          "output_type": "execute_result",
          "data": {
            "text/plain": [
              "Text(0.5, 1.0, 'Convergence of gradient descent')"
            ]
          },
          "metadata": {},
          "execution_count": 24
        },
        {
          "output_type": "display_data",
          "data": {
            "text/plain": [
              "<Figure size 720x432 with 1 Axes>"
            ],
            "image/png": "[encoded data removed]"
          },
          "metadata": {
            "needs_background": "light"
          }
        }
      ]
    },
    {
      "cell_type": "markdown",
      "source": [],
      "metadata": {
        "id": "lMOOAkSr8G96"
      }
    },
    {
      "cell_type": "code",
      "source": [
        "theta = [0., 0.]\n",
        "iterations = 500;\n",
        "alpha = 0.01;\n",
        "\n",
        "theta, Loss_old = gradient_descent(Input2, Output, theta, alpha, iterations)\n",
        "print('Final value of theta =', theta)\n",
        "print('Loss_old =', Loss_old)"
      ],
      "metadata": {
        "colab": {
          "base_uri": "https://localhost:8080/"
        },
        "id": "e6F6i_CBQ_wk",
        "outputId": "87b1479f-f60f-499e-b6f2-1e0232d0d3a5"
      },
      "execution_count": 25,
      "outputs": [
        {
          "output_type": "stream",
          "name": "stdout",
          "text": [
            "Final value of theta = [0.5873825  0.61547444]\n",
            "Loss_old = [5.29831663 5.09909109 4.92356115 4.76890697 4.63264432 4.51258457\n",
            " 4.40679959 4.31359066 4.23146123 4.15909287 4.09532401 4.03913134\n",
            " 3.98961331 3.94597567 3.90751868 3.87362588 3.84375417 3.81742507\n",
            " 3.79421705 3.77375874 3.75572297 3.73982151 3.72580041 3.71343596\n",
            " 3.70253105 3.69291206 3.684426   3.6769381  3.67032963 3.66449599\n",
            " 3.65934501 3.65479551 3.65077597 3.64722336 3.64408217 3.64130349\n",
            " 3.63884423 3.63666642 3.63473663 3.63302538 3.63150672 3.63015778\n",
            " 3.62895841 3.62789085 3.62693948 3.62609051 3.6253318  3.62465266\n",
            " 3.62404367 3.62349652 3.62300392 3.6225594  3.6221573  3.62179261\n",
            " 3.62146092 3.62115837 3.62088152 3.62062736 3.62039324 3.62017681\n",
            " 3.61997602 3.61978905 3.61961431 3.61945037 3.619296   3.6191501\n",
            " 3.61901172 3.61887999 3.61875417 3.61863361 3.61851771 3.61840596\n",
            " 3.61829792 3.61819319 3.6180914  3.61799227 3.6178955  3.61780087\n",
            " 3.61770816 3.61761718 3.61752776 3.61743977 3.61735307 3.61726755\n",
            " 3.61718311 3.61709967 3.61701714 3.61693545 3.61685454 3.61677437\n",
            " 3.61669488 3.61661603 3.61653779 3.61646011 3.61638298 3.61630636\n",
            " 3.61623023 3.61615458 3.61607938 3.61600462 3.61593028 3.61585635\n",
            " 3.61578282 3.61570968 3.61563692 3.61556453 3.61549251 3.61542084\n",
            " 3.61534952 3.61527855 3.61520791 3.61513762 3.61506765 3.61499801\n",
            " 3.6149287  3.6148597  3.61479103 3.61472267 3.61465462 3.61458688\n",
            " 3.61451944 3.61445232 3.61438549 3.61431897 3.61425274 3.61418681\n",
            " 3.61412118 3.61405584 3.61399079 3.61392604 3.61386157 3.61379739\n",
            " 3.61373349 3.61366988 3.61360655 3.6135435  3.61348074 3.61341825\n",
            " 3.61335604 3.6132941  3.61323244 3.61317106 3.61310994 3.6130491\n",
            " 3.61298853 3.61292822 3.61286818 3.61280841 3.6127489  3.61268966\n",
            " 3.61263068 3.61257196 3.6125135  3.6124553  3.61239735 3.61233967\n",
            " 3.61228224 3.61222506 3.61216814 3.61211146 3.61205504 3.61199887\n",
            " 3.61194295 3.61188728 3.61183185 3.61177666 3.61172173 3.61166703\n",
            " 3.61161258 3.61155836 3.61150439 3.61145066 3.61139716 3.61134391\n",
            " 3.61129088 3.61123809 3.61118554 3.61113322 3.61108113 3.61102927\n",
            " 3.61097764 3.61092624 3.61087506 3.61082412 3.61077339 3.6107229\n",
            " 3.61067262 3.61062257 3.61057274 3.61052313 3.61047374 3.61042457\n",
            " 3.61037562 3.61032688 3.61027836 3.61023006 3.61018197 3.61013409\n",
            " 3.61008642 3.61003896 3.60999172 3.60994468 3.60989785 3.60985123\n",
            " 3.60980481 3.6097586  3.6097126  3.6096668  3.6096212  3.6095758\n",
            " 3.60953061 3.60948561 3.60944081 3.60939622 3.60935182 3.60930761\n",
            " 3.6092636  3.60921979 3.60917617 3.60913274 3.60908951 3.60904646\n",
            " 3.60900361 3.60896095 3.60891847 3.60887619 3.60883409 3.60879218\n",
            " 3.60875045 3.60870891 3.60866755 3.60862637 3.60858538 3.60854457\n",
            " 3.60850394 3.60846349 3.60842322 3.60838312 3.60834321 3.60830347\n",
            " 3.6082639  3.60822452 3.6081853  3.60814626 3.60810739 3.6080687\n",
            " 3.60803017 3.60799182 3.60795364 3.60791562 3.60787777 3.60784009\n",
            " 3.60780258 3.60776524 3.60772805 3.60769104 3.60765419 3.6076175\n",
            " 3.60758097 3.6075446  3.6075084  3.60747236 3.60743647 3.60740075\n",
            " 3.60736518 3.60732977 3.60729452 3.60725942 3.60722448 3.60718969\n",
            " 3.60715506 3.60712058 3.60708625 3.60705207 3.60701805 3.60698418\n",
            " 3.60695045 3.60691688 3.60688345 3.60685018 3.60681704 3.60678406\n",
            " 3.60675122 3.60671853 3.60668598 3.60665358 3.60662132 3.6065892\n",
            " 3.60655723 3.60652539 3.6064937  3.60646215 3.60643074 3.60639946\n",
            " 3.60636833 3.60633733 3.60630647 3.60627575 3.60624516 3.60621471\n",
            " 3.60618439 3.60615421 3.60612416 3.60609424 3.60606446 3.60603481\n",
            " 3.60600529 3.6059759  3.60594664 3.60591751 3.6058885  3.60585963\n",
            " 3.60583088 3.60580227 3.60577378 3.60574541 3.60571717 3.60568906\n",
            " 3.60566107 3.6056332  3.60560546 3.60557784 3.60555034 3.60552296\n",
            " 3.60549571 3.60546857 3.60544156 3.60541466 3.60538789 3.60536123\n",
            " 3.60533469 3.60530827 3.60528196 3.60525578 3.6052297  3.60520375\n",
            " 3.60517791 3.60515218 3.60512656 3.60510106 3.60507568 3.6050504\n",
            " 3.60502524 3.60500019 3.60497525 3.60495041 3.60492569 3.60490108\n",
            " 3.60487658 3.60485219 3.6048279  3.60480372 3.60477965 3.60475569\n",
            " 3.60473183 3.60470808 3.60468443 3.60466089 3.60463745 3.60461411\n",
            " 3.60459088 3.60456775 3.60454472 3.6045218  3.60449898 3.60447625\n",
            " 3.60445363 3.60443111 3.60440869 3.60438637 3.60436414 3.60434202\n",
            " 3.60431999 3.60429806 3.60427623 3.60425449 3.60423285 3.60421131\n",
            " 3.60418986 3.60416851 3.60414725 3.60412608 3.60410501 3.60408403\n",
            " 3.60406315 3.60404235 3.60402165 3.60400104 3.60398052 3.6039601\n",
            " 3.60393976 3.60391951 3.60389936 3.60387929 3.60385931 3.60383942\n",
            " 3.60381962 3.6037999  3.60378028 3.60376073 3.60374128 3.60372191\n",
            " 3.60370263 3.60368343 3.60366432 3.60364529 3.60362635 3.60360749\n",
            " 3.60358872 3.60357002 3.60355141 3.60353289 3.60351444 3.60349608\n",
            " 3.60347779 3.60345959 3.60344147 3.60342343 3.60340547 3.60338759\n",
            " 3.60336978 3.60335206 3.60333442 3.60331685 3.60329936 3.60328195\n",
            " 3.60326461 3.60324736 3.60323017 3.60321307 3.60319604 3.60317908\n",
            " 3.6031622  3.6031454  3.60312867 3.60311201 3.60309543 3.60307892\n",
            " 3.60306249 3.60304612 3.60302983 3.60301361 3.60299747 3.60298139\n",
            " 3.60296539 3.60294945 3.60293359 3.6029178  3.60290208 3.60288642\n",
            " 3.60287084 3.60285532 3.60283988 3.6028245  3.60280919 3.60279395\n",
            " 3.60277877 3.60276367 3.60274863 3.60273365 3.60271874 3.6027039\n",
            " 3.60268913 3.60267442 3.60265977 3.60264519 3.60263067 3.60261622\n",
            " 3.60260183 3.60258751 3.60257325 3.60255905 3.60254492 3.60253085\n",
            " 3.60251684 3.60250289 3.602489   3.60247518 3.60246141 3.60244771\n",
            " 3.60243407 3.60242049 3.60240697 3.60239351 3.6023801  3.60236676\n",
            " 3.60235348 3.60234025 3.60232709 3.60231398 3.60230093 3.60228794\n",
            " 3.602275   3.60226213 3.60224931 3.60223654 3.60222384 3.60221118\n",
            " 3.60219859 3.60218605]\n"
          ]
        }
      ]
    },
    {
      "cell_type": "code",
      "source": [
        "plt.scatter(Input2[:,1], Output, color = 'blue', marker = '+', label = 'Training Data')\n",
        "plt.plot(Input2[:,1], Input2.dot(theta), color = 'green', label = 'Linear Regression')\n",
        "\n",
        "plt.rcParams[\"figure.figsize\"] = (10,6)\n",
        "plt.grid()\n",
        "plt.xlabel('X2')\n",
        "plt.ylabel('Y')\n",
        "plt.title('Linear Regression Fit')\n",
        "plt.legend()"
      ],
      "metadata": {
        "colab": {
          "base_uri": "https://localhost:8080/",
          "height": 421
        },
        "id": "8MShTRVdRFtN",
        "outputId": "fbc39a21-9ebe-4daa-a787-d558397483f3"
      },
      "execution_count": 26,
      "outputs": [
        {
          "output_type": "execute_result",
          "data": {
            "text/plain": [
              "<matplotlib.legend.Legend at 0x7f9d3869ed10>"
            ]
          },
          "metadata": {},
          "execution_count": 26
        },
        {
          "output_type": "display_data",
          "data": {
            "text/plain": [
              "<Figure size 720x432 with 1 Axes>"
            ],
            "image/png": "[encoded data removed]"
          },
          "metadata": {
            "needs_background": "light"
          }
        }
      ]
    },
    {
      "cell_type": "code",
      "source": [
        "plt.plot(range(1,iterations + 1), Loss_old, color = 'blue')\n",
        "plt.rcParams[\"figure.figsize\"] = (10,6)\n",
        "plt.grid()\n",
        "plt.xlabel('Number of iterations')\n",
        "plt.ylabel('Loss (J)')\n",
        "plt.title('Convergence of gradient descent')"
      ],
      "metadata": {
        "colab": {
          "base_uri": "https://localhost:8080/",
          "height": 421
        },
        "id": "t3ycTaE4Rixm",
        "outputId": "df18c087-741b-4140-8a97-e9f7beeb65b4"
      },
      "execution_count": 27,
      "outputs": [
        {
          "output_type": "execute_result",
          "data": {
            "text/plain": [
              "Text(0.5, 1.0, 'Convergence of gradient descent')"
            ]
          },
          "metadata": {},
          "execution_count": 27
        },
        {
          "output_type": "display_data",
          "data": {
            "text/plain": [
              "<Figure size 720x432 with 1 Axes>"
            ],
            "image/png": "[encoded data removed]"
          },
          "metadata": {
            "needs_background": "light"
          }
        }
      ]
    },
    {
      "cell_type": "code",
      "source": [
        "theta = [0., 0.]\n",
        "iterations = 1000;\n",
        "alpha = 0.03;\n",
        "\n",
        "theta, Loss_old = gradient_descent(Input3, Output, theta, alpha, iterations)\n",
        "print('Final value of theta =', theta)\n",
        "print('Loss_old =', Loss_old)"
      ],
      "metadata": {
        "colab": {
          "base_uri": "https://localhost:8080/"
        },
        "id": "DFAn7feSSGG1",
        "outputId": "30b36fbe-1c14-4fed-dcb2-0aa866b03549"
      },
      "execution_count": 28,
      "outputs": [
        {
          "output_type": "stream",
          "name": "stdout",
          "text": [
            "Final value of theta = [ 2.86836127 -0.51927234]\n",
            "Loss_old = [5.19495378 4.96883046 4.81248407 4.70325869 4.62587049 4.57000872\n",
            " 4.5287173  4.49730321 4.47259998 4.45247094 4.43547413 4.42063619\n",
            " 4.40729991 4.39502134 4.38350042 4.3725341  4.36198487 4.35175936\n",
            " 4.34179403 4.33204545 4.32248376 4.31308829 4.30384455 4.29474223\n",
            " 4.28577384 4.27693382 4.26821791 4.25962274 4.25114551 4.24278387\n",
            " 4.23453574 4.22639923 4.21837261 4.21045424 4.20264255 4.19493603\n",
            " 4.18733323 4.17983271 4.17243308 4.16513296 4.15793101 4.1508259\n",
            " 4.14381632 4.13690099 4.13007863 4.123348   4.11670786 4.110157\n",
            " 4.10369421 4.0973183  4.09102812 4.08482251 4.07870032 4.07266045\n",
            " 4.06670178 4.06082322 4.05502369 4.04930213 4.0436575  4.03808875\n",
            " 4.03259487 4.02717486 4.02182771 4.01655246 4.01134812 4.00621375\n",
            " 4.00114842 3.99615118 3.99122113 3.98635736 3.98155897 3.9768251\n",
            " 3.97215488 3.96754744 3.96300195 3.95851757 3.95409347 3.94972886\n",
            " 3.94542293 3.94117488 3.93698395 3.93284937 3.92877037 3.92474621\n",
            " 3.92077615 3.91685947 3.91299544 3.90918337 3.90542254 3.90171228\n",
            " 3.8980519  3.89444073 3.89087811 3.88736339 3.88389592 3.88047507\n",
            " 3.87710021 3.87377072 3.870486   3.86724543 3.86404844 3.86089442\n",
            " 3.85778281 3.85471304 3.85168453 3.84869674 3.84574912 3.84284113\n",
            " 3.83997224 3.83714191 3.83434964 3.83159491 3.82887721 3.82619605\n",
            " 3.82355094 3.82094139 3.81836692 3.81582707 3.81332136 3.81084934\n",
            " 3.80841055 3.80600456 3.80363091 3.80128917 3.79897891 3.79669972\n",
            " 3.79445116 3.79223284 3.79004434 3.78788527 3.78575522 3.78365381\n",
            " 3.78158065 3.77953537 3.77751758 3.77552692 3.77356302 3.77162552\n",
            " 3.76971408 3.76782833 3.76596794 3.76413255 3.76232185 3.76053548\n",
            " 3.75877313 3.75703448 3.7553192  3.75362698 3.75195752 3.7503105\n",
            " 3.74868562 3.74708258 3.7455011  3.74394088 3.74240164 3.74088309\n",
            " 3.73938496 3.73790697 3.73644885 3.73501033 3.73359115 3.73219105\n",
            " 3.73080978 3.72944708 3.72810269 3.72677638 3.72546791 3.72417702\n",
            " 3.72290349 3.72164708 3.72040757 3.71918471 3.7179783  3.71678811\n",
            " 3.71561392 3.71445551 3.71331268 3.71218522 3.71107291 3.70997555\n",
            " 3.70889295 3.70782491 3.70677122 3.7057317  3.70470616 3.7036944\n",
            " 3.70269625 3.70171151 3.70074002 3.69978158 3.69883603 3.6979032\n",
            " 3.6969829  3.69607498 3.69517926 3.69429559 3.69342379 3.69256372\n",
            " 3.69171521 3.69087811 3.69005226 3.68923752 3.68843373 3.68764074\n",
            " 3.68685842 3.68608662 3.68532519 3.684574   3.6838329  3.68310177\n",
            " 3.68238047 3.68166887 3.68096684 3.68027424 3.67959096 3.67891686\n",
            " 3.67825182 3.67759573 3.67694845 3.67630988 3.67567989 3.67505838\n",
            " 3.67444522 3.6738403  3.67324351 3.67265475 3.67207391 3.67150087\n",
            " 3.67093554 3.67037781 3.66982757 3.66928474 3.6687492  3.66822086\n",
            " 3.66769963 3.6671854  3.66667809 3.66617759 3.66568383 3.6651967\n",
            " 3.66471612 3.66424201 3.66377427 3.66331281 3.66285756 3.66240844\n",
            " 3.66196535 3.66152821 3.66109696 3.6606715  3.66025176 3.65983766\n",
            " 3.65942914 3.6590261  3.65862848 3.65823621 3.65784921 3.65746742\n",
            " 3.65709076 3.65671916 3.65635256 3.65599089 3.65563408 3.65528206\n",
            " 3.65493478 3.65459217 3.65425416 3.6539207  3.65359172 3.65326717\n",
            " 3.65294698 3.65263109 3.65231945 3.652012   3.65170868 3.65140944\n",
            " 3.65111423 3.65082298 3.65053565 3.65025218 3.64997252 3.64969663\n",
            " 3.64942444 3.64915591 3.64889099 3.64862964 3.64837179 3.64811742\n",
            " 3.64786646 3.64761888 3.64737462 3.64713365 3.64689592 3.64666139\n",
            " 3.64643001 3.64620174 3.64597653 3.64575436 3.64553517 3.64531893\n",
            " 3.6451056  3.64489514 3.6446875  3.64448266 3.64428057 3.6440812\n",
            " 3.6438845  3.64369046 3.64349902 3.64331015 3.64312383 3.64294\n",
            " 3.64275866 3.64257974 3.64240324 3.6422291  3.64205731 3.64188783\n",
            " 3.64172063 3.64155567 3.64139293 3.64123238 3.64107399 3.64091773\n",
            " 3.64076357 3.64061148 3.64046143 3.64031341 3.64016737 3.6400233\n",
            " 3.63988116 3.63974094 3.6396026  3.63946612 3.63933147 3.63919864\n",
            " 3.63906759 3.6389383  3.63881075 3.63868492 3.63856077 3.6384383\n",
            " 3.63831747 3.63819827 3.63808067 3.63796465 3.63785019 3.63773727\n",
            " 3.63762587 3.63751597 3.63740754 3.63730057 3.63719504 3.63709093\n",
            " 3.63698822 3.63688688 3.63678691 3.63668829 3.63659099 3.636495\n",
            " 3.6364003  3.63630687 3.6362147  3.63612377 3.63603406 3.63594556\n",
            " 3.63585824 3.6357721  3.63568712 3.63560328 3.63552057 3.63543897\n",
            " 3.63535847 3.63527905 3.63520069 3.63512339 3.63504713 3.6349719\n",
            " 3.63489768 3.63482445 3.63475221 3.63468094 3.63461063 3.63454126\n",
            " 3.63447283 3.63440531 3.63433871 3.634273   3.63420817 3.63414422\n",
            " 3.63408112 3.63401887 3.63395746 3.63389688 3.63383711 3.63377814\n",
            " 3.63371997 3.63366257 3.63360595 3.63355009 3.63349499 3.63344062\n",
            " 3.63338698 3.63333407 3.63328186 3.63323036 3.63317955 3.63312943\n",
            " 3.63307997 3.63303119 3.63298305 3.63293557 3.63288872 3.63284251\n",
            " 3.63279691 3.63275193 3.63270755 3.63266377 3.63262058 3.63257797\n",
            " 3.63253593 3.63249446 3.63245354 3.63241318 3.63237335 3.63233407\n",
            " 3.63229531 3.63225707 3.63221934 3.63218213 3.63214541 3.63210919\n",
            " 3.63207345 3.6320382  3.63200341 3.6319691  3.63193525 3.63190185\n",
            " 3.6318689  3.6318364  3.63180433 3.63177269 3.63174148 3.63171069\n",
            " 3.63168031 3.63165034 3.63162077 3.6315916  3.63156282 3.63153443\n",
            " 3.63150642 3.63147879 3.63145153 3.63142464 3.6313981  3.63137193\n",
            " 3.6313461  3.63132063 3.63129549 3.6312707  3.63124623 3.6312221\n",
            " 3.63119829 3.6311748  3.63115163 3.63112876 3.63110621 3.63108396\n",
            " 3.63106201 3.63104035 3.63101898 3.6309979  3.63097711 3.63095659\n",
            " 3.63093635 3.63091638 3.63089668 3.63087725 3.63085808 3.63083916\n",
            " 3.6308205  3.63080209 3.63078393 3.63076601 3.63074833 3.63073089\n",
            " 3.63071368 3.63069671 3.63067996 3.63066344 3.63064714 3.63063106\n",
            " 3.6306152  3.63059955 3.63058411 3.63056888 3.63055385 3.63053903\n",
            " 3.6305244  3.63050997 3.63049573 3.63048169 3.63046783 3.63045417\n",
            " 3.63044068 3.63042738 3.63041425 3.6304013  3.63038853 3.63037593\n",
            " 3.63036349 3.63035123 3.63033912 3.63032719 3.63031541 3.63030379\n",
            " 3.63029232 3.63028102 3.63026986 3.63025885 3.63024799 3.63023728\n",
            " 3.63022671 3.63021628 3.63020599 3.63019585 3.63018583 3.63017596\n",
            " 3.63016621 3.6301566  3.63014711 3.63013775 3.63012852 3.63011942\n",
            " 3.63011043 3.63010157 3.63009282 3.6300842  3.63007568 3.63006729\n",
            " 3.630059   3.63005083 3.63004277 3.63003481 3.63002697 3.63001922\n",
            " 3.63001159 3.63000405 3.62999662 3.62998928 3.62998205 3.62997491\n",
            " 3.62996787 3.62996092 3.62995407 3.62994731 3.62994064 3.62993405\n",
            " 3.62992756 3.62992116 3.62991484 3.6299086  3.62990245 3.62989638\n",
            " 3.6298904  3.62988449 3.62987867 3.62987292 3.62986725 3.62986165\n",
            " 3.62985613 3.62985069 3.62984532 3.62984002 3.62983479 3.62982963\n",
            " 3.62982454 3.62981952 3.62981457 3.62980968 3.62980486 3.62980011\n",
            " 3.62979541 3.62979079 3.62978622 3.62978171 3.62977727 3.62977288\n",
            " 3.62976856 3.62976429 3.62976008 3.62975593 3.62975183 3.62974779\n",
            " 3.6297438  3.62973986 3.62973598 3.62973215 3.62972837 3.62972465\n",
            " 3.62972097 3.62971734 3.62971376 3.62971023 3.62970675 3.62970331\n",
            " 3.62969992 3.62969657 3.62969327 3.62969002 3.62968681 3.62968364\n",
            " 3.62968051 3.62967743 3.62967439 3.62967138 3.62966842 3.6296655\n",
            " 3.62966262 3.62965978 3.62965697 3.6296542  3.62965147 3.62964878\n",
            " 3.62964612 3.6296435  3.62964091 3.62963836 3.62963585 3.62963336\n",
            " 3.62963091 3.62962849 3.62962611 3.62962376 3.62962144 3.62961915\n",
            " 3.62961689 3.62961466 3.62961246 3.62961029 3.62960815 3.62960604\n",
            " 3.62960396 3.6296019  3.62959988 3.62959788 3.6295959  3.62959396\n",
            " 3.62959204 3.62959014 3.62958827 3.62958643 3.62958461 3.62958282\n",
            " 3.62958104 3.6295793  3.62957757 3.62957587 3.6295742  3.62957254\n",
            " 3.62957091 3.6295693  3.62956771 3.62956614 3.6295646  3.62956307\n",
            " 3.62956157 3.62956008 3.62955862 3.62955717 3.62955575 3.62955434\n",
            " 3.62955295 3.62955158 3.62955023 3.6295489  3.62954759 3.62954629\n",
            " 3.62954501 3.62954375 3.6295425  3.62954127 3.62954006 3.62953887\n",
            " 3.62953769 3.62953652 3.62953537 3.62953424 3.62953312 3.62953202\n",
            " 3.62953093 3.62952986 3.6295288  3.62952776 3.62952673 3.62952571\n",
            " 3.62952471 3.62952372 3.62952274 3.62952178 3.62952083 3.62951989\n",
            " 3.62951897 3.62951806 3.62951716 3.62951627 3.62951539 3.62951453\n",
            " 3.62951368 3.62951284 3.62951201 3.62951119 3.62951038 3.62950958\n",
            " 3.6295088  3.62950802 3.62950726 3.6295065  3.62950576 3.62950502\n",
            " 3.6295043  3.62950358 3.62950288 3.62950218 3.6295015  3.62950082\n",
            " 3.62950015 3.62949949 3.62949884 3.6294982  3.62949757 3.62949694\n",
            " 3.62949633 3.62949572 3.62949512 3.62949453 3.62949394 3.62949337\n",
            " 3.6294928  3.62949224 3.62949169 3.62949114 3.6294906  3.62949007\n",
            " 3.62948955 3.62948903 3.62948852 3.62948802 3.62948752 3.62948704\n",
            " 3.62948655 3.62948608 3.62948561 3.62948514 3.62948469 3.62948423\n",
            " 3.62948379 3.62948335 3.62948292 3.62948249 3.62948207 3.62948165\n",
            " 3.62948124 3.62948084 3.62948044 3.62948004 3.62947965 3.62947927\n",
            " 3.62947889 3.62947852 3.62947815 3.62947779 3.62947743 3.62947708\n",
            " 3.62947673 3.62947638 3.62947604 3.62947571 3.62947538 3.62947505\n",
            " 3.62947473 3.62947441 3.6294741  3.62947379 3.62947349 3.62947318\n",
            " 3.62947289 3.6294726  3.62947231 3.62947202 3.62947174 3.62947146\n",
            " 3.62947119 3.62947092 3.62947065 3.62947039 3.62947013 3.62946988\n",
            " 3.62946963 3.62946938 3.62946913 3.62946889 3.62946865 3.62946841\n",
            " 3.62946818 3.62946795 3.62946773 3.6294675  3.62946728 3.62946707\n",
            " 3.62946685 3.62946664 3.62946643 3.62946623 3.62946602 3.62946582\n",
            " 3.62946562 3.62946543 3.62946524 3.62946505 3.62946486 3.62946468\n",
            " 3.62946449 3.62946431 3.62946414 3.62946396 3.62946379 3.62946362\n",
            " 3.62946345 3.62946329 3.62946312 3.62946296 3.6294628  3.62946264\n",
            " 3.62946249 3.62946234 3.62946219 3.62946204 3.62946189 3.62946175\n",
            " 3.6294616  3.62946146 3.62946132 3.62946119 3.62946105 3.62946092\n",
            " 3.62946079 3.62946066 3.62946053 3.6294604  3.62946028 3.62946015\n",
            " 3.62946003 3.62945991 3.62945979 3.62945968 3.62945956 3.62945945\n",
            " 3.62945934 3.62945923 3.62945912 3.62945901 3.6294589  3.6294588\n",
            " 3.6294587  3.62945859 3.62945849 3.6294584  3.6294583  3.6294582\n",
            " 3.62945811 3.62945801 3.62945792 3.62945783 3.62945774 3.62945765\n",
            " 3.62945756 3.62945747 3.62945739 3.62945731 3.62945722 3.62945714\n",
            " 3.62945706 3.62945698 3.6294569  3.62945682 3.62945675 3.62945667\n",
            " 3.6294566  3.62945652 3.62945645 3.62945638 3.62945631 3.62945624\n",
            " 3.62945617 3.6294561  3.62945603 3.62945597 3.6294559  3.62945584\n",
            " 3.62945578 3.62945571 3.62945565 3.62945559 3.62945553 3.62945547\n",
            " 3.62945541 3.62945536 3.6294553  3.62945524 3.62945519 3.62945513\n",
            " 3.62945508 3.62945503 3.62945497 3.62945492 3.62945487 3.62945482\n",
            " 3.62945477 3.62945472 3.62945467 3.62945463 3.62945458 3.62945453\n",
            " 3.62945449 3.62945444 3.6294544  3.62945435 3.62945431 3.62945427\n",
            " 3.62945422 3.62945418 3.62945414 3.6294541  3.62945406 3.62945402\n",
            " 3.62945398 3.62945394 3.62945391 3.62945387 3.62945383 3.62945379\n",
            " 3.62945376 3.62945372 3.62945369 3.62945365 3.62945362 3.62945359\n",
            " 3.62945355 3.62945352 3.62945349 3.62945346 3.62945343 3.62945339\n",
            " 3.62945336 3.62945333 3.6294533  3.62945327 3.62945325 3.62945322\n",
            " 3.62945319 3.62945316 3.62945313 3.62945311 3.62945308 3.62945305\n",
            " 3.62945303 3.629453   3.62945298 3.62945295 3.62945293 3.6294529\n",
            " 3.62945288 3.62945286 3.62945283 3.62945281 3.62945279 3.62945276\n",
            " 3.62945274 3.62945272 3.6294527  3.62945268 3.62945266 3.62945264\n",
            " 3.62945262 3.6294526  3.62945258 3.62945256 3.62945254 3.62945252\n",
            " 3.6294525  3.62945248 3.62945246 3.62945245 3.62945243 3.62945241\n",
            " 3.62945239 3.62945238 3.62945236 3.62945234]\n"
          ]
        }
      ]
    },
    {
      "cell_type": "code",
      "source": [
        "plt.scatter(Input3[:,1], Output, color = 'blue', marker = '+', label = 'Training Data')\n",
        "plt.plot(Input3[:,1], Input3.dot(theta), color = 'green', label = 'Linear Regression')\n",
        "\n",
        "plt.rcParams[\"figure.figsize\"] = (10,6)\n",
        "plt.grid()\n",
        "plt.xlabel('X3')\n",
        "plt.ylabel('Y')\n",
        "plt.title('Linear Regression Fit')\n",
        "plt.legend()"
      ],
      "metadata": {
        "colab": {
          "base_uri": "https://localhost:8080/",
          "height": 421
        },
        "id": "Vo4-dUKhSGj5",
        "outputId": "fc6c0e8d-6300-409a-f511-a8d0c0924869"
      },
      "execution_count": 29,
      "outputs": [
        {
          "output_type": "execute_result",
          "data": {
            "text/plain": [
              "<matplotlib.legend.Legend at 0x7f9d38857990>"
            ]
          },
          "metadata": {},
          "execution_count": 29
        },
        {
          "output_type": "display_data",
          "data": {
            "text/plain": [
              "<Figure size 720x432 with 1 Axes>"
            ],
            "image/png": "[encoded data removed]"
          },
          "metadata": {
            "needs_background": "light"
          }
        }
      ]
    },
    {
      "cell_type": "code",
      "source": [
        "plt.plot(range(1,iterations + 1), Loss_old, color = 'blue')\n",
        "plt.rcParams[\"figure.figsize\"] = (10,6)\n",
        "plt.grid()\n",
        "plt.xlabel('Number of iterations')\n",
        "plt.ylabel('Loss (J)')\n",
        "plt.title('Convergence of gradient descent')"
      ],
      "metadata": {
        "colab": {
          "base_uri": "https://localhost:8080/",
          "height": 421
        },
        "id": "cCvvjnBKTYE0",
        "outputId": "46ea4430-4868-4916-8b42-a7eb558d641d"
      },
      "execution_count": 30,
      "outputs": [
        {
          "output_type": "execute_result",
          "data": {
            "text/plain": [
              "Text(0.5, 1.0, 'Convergence of gradient descent')"
            ]
          },
          "metadata": {},
          "execution_count": 30
        },
        {
          "output_type": "display_data",
          "data": {
            "text/plain": [
              "<Figure size 720x432 with 1 Axes>"
            ],
            "image/png": "[encoded data removed]"
          },
          "metadata": {
            "needs_background": "light"
          }
        }
      ]
    },
    {
      "cell_type": "markdown",
      "source": [
        "#Problem 2 (50 points)\n",
        "#This time, run linear regression with gradient descent algorithm using all three explanatory variables. \n",
        "#For the learning rate, explore different values between 0.1 and 0.01 (your choice). Initialize your parameters (theta to zero).\n",
        "#Report the final linear model you found the best. \n",
        "#Plot loss over the iteration.\n",
        "#Based on your training observations, describe the impact of the different learning rates on the final loss and number of training iteration.\n",
        "#Predict the value of y for new (X1, X2, X3) values (1, 1, 1), for (2, 0, 4), and for (3, 2, 1)"
      ],
      "metadata": {
        "id": "V9eYZdXYwquP"
      }
    },
    {
      "cell_type": "code",
      "source": [
        "data_set_edited = pd.read_csv(data_set_file_path)\n",
        "data_set_edited.head()\n",
        "\n",
        "data_set_edited = pd.concat([pd.Series(1, index=data_set_edited.index, name='00'), data_set_edited], axis=1)\n",
        "data_set_edited.head()"
      ],
      "metadata": {
        "colab": {
          "base_uri": "https://localhost:8080/",
          "height": 206
        },
        "id": "8QHX_qu0Trgu",
        "outputId": "bca127cd-8d10-42b4-ad5b-8189fbebd562"
      },
      "execution_count": 31,
      "outputs": [
        {
          "output_type": "execute_result",
          "data": {
            "text/plain": [
              "   00        X1        X2        X3         Y\n",
              "0   1  0.000000  3.440000  0.440000  4.387545\n",
              "1   1  0.040404  0.134949  0.888485  2.679650\n",
              "2   1  0.080808  0.829899  1.336970  2.968490\n",
              "3   1  0.121212  1.524848  1.785455  3.254065\n",
              "4   1  0.161616  2.219798  2.233939  3.536375"
            ],
            "text/html": [
              "\n",
              "  <div id=\"df-258145a7-7b3f-4a95-bf78-df1e997edb1f\">\n",
              "    <div class=\"colab-df-container\">\n",
              "      <div>\n",
              "<style scoped>\n",
              "    .dataframe tbody tr th:only-of-type {\n",
              "        vertical-align: middle;\n",
              "    }\n",
              "\n",
              "    .dataframe tbody tr th {\n",
              "        vertical-align: top;\n",
              "    }\n",
              "\n",
              "    .dataframe thead th {\n",
              "        text-align: right;\n",
              "    }\n",
              "</style>\n",
              "<table border=\"1\" class=\"dataframe\">\n",
              "  <thead>\n",
              "    <tr style=\"text-align: right;\">\n",
              "      <th></th>\n",
              "      <th>00</th>\n",
              "      <th>X1</th>\n",
              "      <th>X2</th>\n",
              "      <th>X3</th>\n",
              "      <th>Y</th>\n",
              "    </tr>\n",
              "  </thead>\n",
              "  <tbody>\n",
              "    <tr>\n",
              "      <th>0</th>\n",
              "      <td>1</td>\n",
              "      <td>0.000000</td>\n",
              "      <td>3.440000</td>\n",
              "      <td>0.440000</td>\n",
              "      <td>4.387545</td>\n",
              "    </tr>\n",
              "    <tr>\n",
              "      <th>1</th>\n",
              "      <td>1</td>\n",
              "      <td>0.040404</td>\n",
              "      <td>0.134949</td>\n",
              "      <td>0.888485</td>\n",
              "      <td>2.679650</td>\n",
              "    </tr>\n",
              "    <tr>\n",
              "      <th>2</th>\n",
              "      <td>1</td>\n",
              "      <td>0.080808</td>\n",
              "      <td>0.829899</td>\n",
              "      <td>1.336970</td>\n",
              "      <td>2.968490</td>\n",
              "    </tr>\n",
              "    <tr>\n",
              "      <th>3</th>\n",
              "      <td>1</td>\n",
              "      <td>0.121212</td>\n",
              "      <td>1.524848</td>\n",
              "      <td>1.785455</td>\n",
              "      <td>3.254065</td>\n",
              "    </tr>\n",
              "    <tr>\n",
              "      <th>4</th>\n",
              "      <td>1</td>\n",
              "      <td>0.161616</td>\n",
              "      <td>2.219798</td>\n",
              "      <td>2.233939</td>\n",
              "      <td>3.536375</td>\n",
              "    </tr>\n",
              "  </tbody>\n",
              "</table>\n",
              "</div>\n",
              "      <button class=\"colab-df-convert\" onclick=\"convertToInteractive('df-258145a7-7b3f-4a95-bf78-df1e997edb1f')\"\n",
              "              title=\"Convert this dataframe to an interactive table.\"\n",
              "              style=\"display:none;\">\n",
              "        \n",
              "  <svg xmlns=\"http://www.w3.org/2000/svg\" height=\"24px\"viewBox=\"0 0 24 24\"\n",
              "       width=\"24px\">\n",
              "    <path d=\"M0 0h24v24H0V0z\" fill=\"none\"/>\n",
              "    <path d=\"M18.56 5.44l.94 2.06.94-2.06 2.06-.94-2.06-.94-.94-2.06-.94 2.06-2.06.94zm-11 1L8.5 8.5l.94-2.06 2.06-.94-2.06-.94L8.5 2.5l-.94 2.06-2.06.94zm10 10l.94 2.06.94-2.06 2.06-.94-2.06-.94-.94-2.06-.94 2.06-2.06.94z\"/><path d=\"M17.41 7.96l-1.37-1.37c-.4-.4-.92-.59-1.43-.59-.52 0-1.04.2-1.43.59L10.3 9.45l-7.72 7.72c-.78.78-.78 2.05 0 2.83L4 21.41c.39.39.9.59 1.41.59.51 0 1.02-.2 1.41-.59l7.78-7.78 2.81-2.81c.8-.78.8-2.07 0-2.86zM5.41 20L4 18.59l7.72-7.72 1.47 1.35L5.41 20z\"/>\n",
              "  </svg>\n",
              "      </button>\n",
              "      \n",
              "  <style>\n",
              "    .colab-df-container {\n",
              "      display:flex;\n",
              "      flex-wrap:wrap;\n",
              "      gap: 12px;\n",
              "    }\n",
              "\n",
              "    .colab-df-convert {\n",
              "      background-color: #E8F0FE;\n",
              "      border: none;\n",
              "      border-radius: 50%;\n",
              "      cursor: pointer;\n",
              "      display: none;\n",
              "      fill: #1967D2;\n",
              "      height: 32px;\n",
              "      padding: 0 0 0 0;\n",
              "      width: 32px;\n",
              "    }\n",
              "\n",
              "    .colab-df-convert:hover {\n",
              "      background-color: #E2EBFA;\n",
              "      box-shadow: 0px 1px 2px rgba(60, 64, 67, 0.3), 0px 1px 3px 1px rgba(60, 64, 67, 0.15);\n",
              "      fill: #174EA6;\n",
              "    }\n",
              "\n",
              "    [theme=dark] .colab-df-convert {\n",
              "      background-color: #3B4455;\n",
              "      fill: #D2E3FC;\n",
              "    }\n",
              "\n",
              "    [theme=dark] .colab-df-convert:hover {\n",
              "      background-color: #434B5C;\n",
              "      box-shadow: 0px 1px 3px 1px rgba(0, 0, 0, 0.15);\n",
              "      filter: drop-shadow(0px 1px 2px rgba(0, 0, 0, 0.3));\n",
              "      fill: #FFFFFF;\n",
              "    }\n",
              "  </style>\n",
              "\n",
              "      <script>\n",
              "        const buttonEl =\n",
              "          document.querySelector('#df-258145a7-7b3f-4a95-bf78-df1e997edb1f button.colab-df-convert');\n",
              "        buttonEl.style.display =\n",
              "          google.colab.kernel.accessAllowed ? 'block' : 'none';\n",
              "\n",
              "        async function convertToInteractive(key) {\n",
              "          const element = document.querySelector('#df-258145a7-7b3f-4a95-bf78-df1e997edb1f');\n",
              "          const dataTable =\n",
              "            await google.colab.kernel.invokeFunction('convertToInteractive',\n",
              "                                                     [key], {});\n",
              "          if (!dataTable) return;\n",
              "\n",
              "          const docLinkHtml = 'Like what you see? Visit the ' +\n",
              "            '<a target=\"_blank\" href=https://colab.research.google.com/notebooks/data_table.ipynb>data table notebook</a>'\n",
              "            + ' to learn more about interactive tables.';\n",
              "          element.innerHTML = '';\n",
              "          dataTable['output_type'] = 'display_data';\n",
              "          await google.colab.output.renderOutput(dataTable, element);\n",
              "          const docLink = document.createElement('div');\n",
              "          docLink.innerHTML = docLinkHtml;\n",
              "          element.appendChild(docLink);\n",
              "        }\n",
              "      </script>\n",
              "    </div>\n",
              "  </div>\n",
              "  "
            ]
          },
          "metadata": {},
          "execution_count": 31
        }
      ]
    },
    {
      "cell_type": "code",
      "source": [
        "data_set_edited.shape"
      ],
      "metadata": {
        "colab": {
          "base_uri": "https://localhost:8080/"
        },
        "id": "H6g205qWeKty",
        "outputId": "6fc28353-12b7-4ddc-b5cb-f6d9ed50fc6c"
      },
      "execution_count": 32,
      "outputs": [
        {
          "output_type": "execute_result",
          "data": {
            "text/plain": [
              "(100, 5)"
            ]
          },
          "metadata": {},
          "execution_count": 32
        }
      ]
    },
    {
      "cell_type": "code",
      "source": [
        "Input_Edited = data_set_edited.drop(columns ='Y')\n",
        "Input_Edited.head()\n",
        "Output_Edited = data_set_edited.iloc[:,4]"
      ],
      "metadata": {
        "id": "HuE4BZ3kbDkl"
      },
      "execution_count": 33,
      "outputs": []
    },
    {
      "cell_type": "code",
      "source": [
        "theta_edited = np.array([0]*len(Input_Edited.columns))"
      ],
      "metadata": {
        "id": "_isFpEqZb8tp"
      },
      "execution_count": 34,
      "outputs": []
    },
    {
      "cell_type": "code",
      "source": [
        "Loss_Edited = compute_loss(Input_Edited,Output_Edited,theta_edited)\n",
        "print('The loss for given values of theta_0 and theta_1 =', Loss_Edited)"
      ],
      "metadata": {
        "colab": {
          "base_uri": "https://localhost:8080/"
        },
        "id": "dHTfqQ56c2Fr",
        "outputId": "47fb3084-e3c4-42a3-a9eb-506c863e6720"
      },
      "execution_count": 35,
      "outputs": [
        {
          "output_type": "stream",
          "name": "stdout",
          "text": [
            "The loss for given values of theta_0 and theta_1 = 5.524438459196242\n"
          ]
        }
      ]
    },
    {
      "cell_type": "code",
      "source": [
        "theta_edited = [0., 0.,0.,0.]\n",
        "iterations = 1000;\n",
        "alpha = 0.025;\n",
        "\n",
        "theta_edited, Loss_old = gradient_descent(Input_Edited, Output_Edited, theta_edited, alpha, iterations)\n",
        "print('Final value of theta =', theta_edited)\n",
        "print('Loss_old =', Loss_old)\n"
      ],
      "metadata": {
        "colab": {
          "base_uri": "https://localhost:8080/"
        },
        "id": "uHu9tkVCgnmJ",
        "outputId": "54074d5e-6605-4066-b730-77aae2cf5af9"
      },
      "execution_count": 36,
      "outputs": [
        {
          "output_type": "stream",
          "name": "stdout",
          "text": [
            "Final value of theta = 00    5.191196\n",
            "X1   -1.986348\n",
            "X2    0.552884\n",
            "X3   -0.247577\n",
            "dtype: float64\n",
            "Loss_old = [4.82258027 4.44307592 4.20358607 ... 0.73927784 0.73927379 0.73926976]\n"
          ]
        }
      ]
    },
    {
      "cell_type": "code",
      "source": [
        "plt.plot(range(1,iterations + 1), Loss_old, color = 'blue')\n",
        "plt.rcParams[\"figure.figsize\"] = (10,6)\n",
        "plt.grid()\n",
        "plt.xlabel('Number of iterations')\n",
        "plt.ylabel('Loss (J)')\n",
        "plt.title('Convergence of gradient descent')"
      ],
      "metadata": {
        "colab": {
          "base_uri": "https://localhost:8080/",
          "height": 421
        },
        "id": "zIxSUMvhhKu2",
        "outputId": "df96a362-023a-469c-b1cc-841e6f179b3f"
      },
      "execution_count": 37,
      "outputs": [
        {
          "output_type": "execute_result",
          "data": {
            "text/plain": [
              "Text(0.5, 1.0, 'Convergence of gradient descent')"
            ]
          },
          "metadata": {},
          "execution_count": 37
        },
        {
          "output_type": "display_data",
          "data": {
            "text/plain": [
              "<Figure size 720x432 with 1 Axes>"
            ],
            "image/png": "[encoded data removed]"
          },
          "metadata": {
            "needs_background": "light"
          }
        }
      ]
    },
    {
      "cell_type": "code",
      "source": [
        "data = {'x1' : [1,1,1], 'x2' : [2,0,4], 'x3' : [3,2,1]}\n",
        "newDf = pd.DataFrame(data)\n",
        "newDf =  pd.concat([pd.Series(1, index=newDf.index, name='x0'), newDf], axis=1)\n",
        "newDf.head()\n",
        "newDf = newDf.to_numpy()\n",
        "theta_edited = theta_edited.to_numpy()\n"
      ],
      "metadata": {
        "id": "-ElwN9GIlZCM"
      },
      "execution_count": 38,
      "outputs": []
    },
    {
      "cell_type": "code",
      "source": [
        "def hypo(theta_edited, newDf):\n",
        "  hypo = newDf.dot(theta_edited)\n",
        "  return hypo"
      ],
      "metadata": {
        "id": "6aCezO1GmHKm"
      },
      "execution_count": 39,
      "outputs": []
    },
    {
      "cell_type": "code",
      "source": [
        "y_hat = hypo(theta_edited, newDf)\n",
        "print(\"Predicted Value = \", y_hat)"
      ],
      "metadata": {
        "colab": {
          "base_uri": "https://localhost:8080/"
        },
        "id": "cokWHWevvH_y",
        "outputId": "e2ddaf4a-defb-4bb2-aa6d-74f07e018a9c"
      },
      "execution_count": 40,
      "outputs": [
        {
          "output_type": "stream",
          "name": "stdout",
          "text": [
            "Predicted Value =  [3.56788518 2.7096948  5.16880589]\n"
          ]
        }
      ]
    }
  ]
}